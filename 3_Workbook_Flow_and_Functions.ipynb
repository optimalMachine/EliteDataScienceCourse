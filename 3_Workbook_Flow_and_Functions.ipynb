{
  "cells": [
    {
      "cell_type": "markdown",
      "metadata": {
        "id": "view-in-github",
        "colab_type": "text"
      },
      "source": [
        "<a href=\"https://colab.research.google.com/github/optimalMachine/EliteDataScienceCourse/blob/master/3_Workbook_Flow_and_Functions.ipynb\" target=\"_parent\"><img src=\"https://colab.research.google.com/assets/colab-badge.svg\" alt=\"Open In Colab\"/></a>"
      ]
    },
    {
      "cell_type": "markdown",
      "metadata": {
        "id": "7Yk-QhFxIW-4"
      },
      "source": [
        "#### COMPANION WORKBOOK\n",
        "\n",
        "# Flow and Functions\n",
        "\n",
        "To make the most out of this program, we strongly recommend you to:\n",
        "1. First practice writing and implementing all of the code from Coding Section of the online module.\n",
        "2. Then, freely experiment with and explore any interesting or confusing concepts. Simply insert new code cells and then use the help of Google and official documentation.\n",
        "3. Finally, tackle all of the exercises at the end. They will help you tie everything together and **learn in context.**\n",
        "\n",
        "#### <span style=\"color:#555\">MODULE CODE SANDBOX</span>\n",
        "\n",
        "Use this space to practice writing and implementing all of the code from Coding Section of the online module. Insert new code cells as needed, and feel free to write notes to yourself in Markdown."
      ]
    },
    {
      "cell_type": "markdown",
      "metadata": {
        "id": "ufu5Pu96IW-8"
      },
      "source": [
        "## I. IF statements allow conditional logic."
      ]
    },
    {
      "cell_type": "code",
      "execution_count": 1,
      "metadata": {
        "id": "JKy9GP-YIW-8"
      },
      "outputs": [],
      "source": [
        ""
      ]
    },
    {
      "cell_type": "code",
      "execution_count": 1,
      "metadata": {
        "id": "uHsGtaH2IW-9"
      },
      "outputs": [],
      "source": [
        ""
      ]
    },
    {
      "cell_type": "code",
      "execution_count": 1,
      "metadata": {
        "id": "eW1AuNWoIW-9"
      },
      "outputs": [],
      "source": [
        ""
      ]
    },
    {
      "cell_type": "markdown",
      "metadata": {
        "id": "Fk80iQxtIW-9"
      },
      "source": [
        "## II. FOR loops allow iteration."
      ]
    },
    {
      "cell_type": "code",
      "execution_count": 1,
      "metadata": {
        "id": "Zny_DWJUIW--"
      },
      "outputs": [],
      "source": [
        ""
      ]
    },
    {
      "cell_type": "code",
      "execution_count": 1,
      "metadata": {
        "id": "P6bki3EjIW--"
      },
      "outputs": [],
      "source": [
        ""
      ]
    },
    {
      "cell_type": "code",
      "execution_count": 1,
      "metadata": {
        "id": "0IO0Y03EIW-_"
      },
      "outputs": [],
      "source": [
        ""
      ]
    },
    {
      "cell_type": "markdown",
      "metadata": {
        "id": "ddJJENVsIW-_"
      },
      "source": [
        "## III. List comprehensions help construct new lists elegantly."
      ]
    },
    {
      "cell_type": "code",
      "execution_count": 2,
      "metadata": {
        "colab": {
          "base_uri": "https://localhost:8080/"
        },
        "id": "Pbm_Hq0tIW-_",
        "outputId": "fef41263-18eb-42e6-ed36-7a58b3ab0fc9"
      },
      "outputs": [
        {
          "output_type": "execute_result",
          "data": {
            "text/plain": [
              "[0, 1, 4, 9, 16, 25, 36, 49, 64, 81]"
            ]
          },
          "metadata": {},
          "execution_count": 2
        }
      ],
      "source": [
        "square_list = [number**2 for number in range(10)]\n",
        "square_list"
      ]
    },
    {
      "cell_type": "code",
      "execution_count": 3,
      "metadata": {
        "colab": {
          "base_uri": "https://localhost:8080/"
        },
        "id": "Gq7Jm9HiIW_A",
        "outputId": "5daae94d-8c82-4c22-e02b-26545e0e74aa"
      },
      "outputs": [
        {
          "output_type": "execute_result",
          "data": {
            "text/plain": [
              "[0, 4, 16, 36, 64]"
            ]
          },
          "metadata": {},
          "execution_count": 3
        }
      ],
      "source": [
        "evens_list = [number**2 for number in range(10) if number%2==0]\n",
        "evens_list"
      ]
    },
    {
      "cell_type": "code",
      "execution_count": 4,
      "metadata": {
        "colab": {
          "base_uri": "https://localhost:8080/"
        },
        "id": "aeyIs6URIW_A",
        "outputId": "8bc46d8e-a578-4c50-952c-c359f763bfb7"
      },
      "outputs": [
        {
          "output_type": "stream",
          "name": "stdout",
          "text": [
            "['even', 'odd', 'even', 'odd', 'even', 'odd', 'even', 'odd', 'even', 'odd']\n"
          ]
        }
      ],
      "source": [
        "even_odd = ['odd' if number%2!=0 else 'even' for number in range(10)]\n",
        "print (even_odd)"
      ]
    },
    {
      "cell_type": "markdown",
      "metadata": {
        "id": "dzvwnz0yIW_A"
      },
      "source": [
        "## IV. Functions are blocks of reusable, modular code."
      ]
    },
    {
      "cell_type": "code",
      "execution_count": 4,
      "metadata": {
        "id": "R8cqfwjvIW_A"
      },
      "outputs": [],
      "source": [
        ""
      ]
    },
    {
      "cell_type": "code",
      "execution_count": 4,
      "metadata": {
        "id": "lXRipzxBIW_B"
      },
      "outputs": [],
      "source": [
        ""
      ]
    },
    {
      "cell_type": "code",
      "execution_count": 4,
      "metadata": {
        "id": "__2-Ar72IW_B"
      },
      "outputs": [],
      "source": [
        ""
      ]
    },
    {
      "cell_type": "markdown",
      "metadata": {
        "id": "RfWe3LWmIW_B"
      },
      "source": [
        "#### <span style=\"color:#555\">EXERCISES</span>\n",
        "\n",
        "Complete each of the following exercises.\n",
        "\n",
        "## <span style=\"color:RoyalBlue\">Exercise 3.1 - Optimal Start</span>\n",
        "\n",
        "#### In the previous module...\n",
        "\n",
        "In the previous module, you created a location dictionary for the boroughs we're interested in visting. Now we're ready to pick a location to start with.\n",
        "\n",
        "#### A.) First, let's import <code style=\"color:steelblue\">location_dict</code> again using <code style=\"color:steelblue\">pickle</code>. Run this cell."
      ]
    },
    {
      "cell_type": "code",
      "source": [
        "from google.colab import drive\n",
        "drive.mount('/content/drive')"
      ],
      "metadata": {
        "colab": {
          "base_uri": "https://localhost:8080/"
        },
        "id": "7vtsGufXfei4",
        "outputId": "b40f9f35-b20e-4ffd-e521-549b64adb1be"
      },
      "execution_count": 5,
      "outputs": [
        {
          "output_type": "stream",
          "name": "stdout",
          "text": [
            "Mounted at /content/drive\n"
          ]
        }
      ]
    },
    {
      "cell_type": "code",
      "execution_count": 6,
      "metadata": {
        "id": "S_XuRgdqIW_B"
      },
      "outputs": [],
      "source": [
        "import pickle\n",
        "\n",
        "# Read object from disk\n",
        "with open('/content/drive/MyDrive/Colab Notebooks/Python for Data Science/project_files/location_dict.pkl', 'rb') as f:\n",
        "    location_dict = pickle.load(f)"
      ]
    },
    {
      "cell_type": "markdown",
      "metadata": {
        "id": "DnUXIz4FIW_C"
      },
      "source": [
        "Now we have the <code style=\"color:steelblue\">location_dict</code> object again, but what if we forgot which keys are in the dictionary? \n",
        "\n",
        "#### B.) Print the keys in <code style=\"color:steelblue\">location_dict</code>."
      ]
    },
    {
      "cell_type": "code",
      "execution_count": 7,
      "metadata": {
        "colab": {
          "base_uri": "https://localhost:8080/"
        },
        "id": "LXNs4gx0IW_D",
        "outputId": "0da7e28a-df39-45bd-a8af-77782c1810b1"
      },
      "outputs": [
        {
          "output_type": "stream",
          "name": "stdout",
          "text": [
            "dict_keys(['Brent', 'Camden', 'Redbridge', 'Southwark', 'Inner London', 'Outer London'])\n"
          ]
        }
      ],
      "source": [
        "# Print the keys in location_dict\n",
        "print (location_dict.keys())"
      ]
    },
    {
      "cell_type": "markdown",
      "metadata": {
        "id": "bVn3iyUVIW_D"
      },
      "source": [
        "<strong style=\"color:RoyalBlue\">Expected output:</strong>\n",
        "\n",
        "<pre>dict_keys(['Southwark', 'Redbridge', 'Outer London', 'Inner London', 'Camden', 'Brent'])</pre>"
      ]
    },
    {
      "cell_type": "markdown",
      "metadata": {
        "id": "hjlMZYExIW_E"
      },
      "source": [
        "Ah, yes... Now, we need to choose between starting with <code style=\"color:steelblue\">'Outer London'</code> or with <code style=\"color:steelblue\">'Inner London'</code>. We should start with the list with more locations, so let's find which one it is.\n",
        "\n",
        "#### C.) Write code, using <code style=\"color:steelblue\">if</code> statements, that does the following:\n",
        "* **If** our Inner London list has more locations than our Outer London list, print the message:\n",
        "\n",
        "\n",
        "<pre style=\"color:steelblue\">I want to start in Inner London.</pre>\n",
        "\n",
        "\n",
        "* **Else** if our Outer London list has more locations than our Inner London list, print the message:\n",
        "\n",
        "    \n",
        "<pre style=\"color:steelblue\">I want to start in Outer London.</pre>\n",
        "\n",
        "\n",
        "* **Else** (i.e. they have the same number of locations), print the message:\n",
        "\n",
        "\n",
        "<pre style=\"color:steelblue\">Either is fine. I'll flip a coin.</pre>\n",
        "\n"
      ]
    },
    {
      "cell_type": "code",
      "execution_count": 8,
      "metadata": {
        "id": "gds-WEo6IW_E",
        "colab": {
          "base_uri": "https://localhost:8080/"
        },
        "outputId": "dca94052-0c84-46eb-ef0a-dbed4dcd2da1"
      },
      "outputs": [
        {
          "output_type": "stream",
          "name": "stdout",
          "text": [
            "I want to start in Outer London\n"
          ]
        }
      ],
      "source": [
        "if (len(location_dict['Inner London']) > len(location_dict['Outer London'])):\n",
        "  print ('I want to start in Inner London')\n",
        "elif (len(location_dict['Inner London']) < len(location_dict['Outer London'])):\n",
        "  print ('I want to start in Outer London')\n",
        "else:\n",
        "  print (\"Either is fine. I'll flip a coin.\")"
      ]
    },
    {
      "cell_type": "markdown",
      "metadata": {
        "id": "KPixLOnKIW_F"
      },
      "source": [
        "## <span style=\"color:RoyalBlue\">Exercise 3.2 - Judging a Location by Its Cover</span>\n",
        "\n",
        "In the previous exercise, we said that we wanted to start with the list with the most locations.\n",
        "* We already knew that it would be either Inner London or Outer London because those lists are combinations of 2 of the others.\n",
        "* However, what if we didn't know that?\n",
        "\n",
        "#### A.) For each key in <code style=\"color:steelblue\">location_dict</code>, print the number of locations in its list, like so:\n",
        "\n",
        "<pre style=\"color:steelblue\">\n",
        "Southwalk has 13 locations.\n",
        "Redbridge has ...\n",
        "</pre> \n",
        "\n",
        "* **Tip:** You can iterate through keys and values of a dictionary at the same time using <code style=\"color:steelblue\">.items()</code>, like so:\n",
        "\n",
        "<pre style=\"color:#bbb\">\n",
        "for <strong style=\"color:steelblue\">key, value</strong> in location_dict<strong style=\"color:steelblue\">.items()</strong>:\n",
        "    <span style=\"color:dimgray\"># code block</span>\n",
        "</pre>      \n",
        "        \n",
        "* **Tip:** Remember, to insert multiple dynamic values into a string, you can just add more places to <code style=\"color:steelblue\">.format()</code>, like so:\n",
        "\n",
        "<pre style=\"color:#bbb\">\n",
        "'<strong style=\"color:steelblue\">{}</strong> has <strong style=\"color:steelblue\">{}</strong> locations.'.format(<strong style=\"color:steelblue\">first_value, second_value</strong>)\n",
        "</pre>"
      ]
    },
    {
      "cell_type": "code",
      "execution_count": 9,
      "metadata": {
        "id": "kjd_m1LmIW_F",
        "colab": {
          "base_uri": "https://localhost:8080/"
        },
        "outputId": "4cb6a8e4-67c7-46e6-9ac3-0b37de8664a5"
      },
      "outputs": [
        {
          "output_type": "stream",
          "name": "stdout",
          "text": [
            "Brent has 19 locations\n",
            "Camden has 19 locations\n",
            "Redbridge has 16 locations\n",
            "Southwark has 13 locations\n",
            "Inner London has 32 locations\n",
            "Outer London has 35 locations\n"
          ]
        }
      ],
      "source": [
        "# For each key in location_dict, print the number of locations in its list\n",
        "for key, value in location_dict.items():\n",
        "  print ('{} has {} locations'.format(key, len(value)))"
      ]
    },
    {
      "cell_type": "markdown",
      "metadata": {
        "id": "9tSLLVdQIW_G"
      },
      "source": [
        "<strong style=\"color:RoyalBlue\">Expected output:</strong>\n",
        "\n",
        "<pre>\n",
        "Southwark has 13 locations.\n",
        "Redbridge has 16 locations.\n",
        "Outer London has 35 locations.\n",
        "Inner London has 32 locations.\n",
        "Camden has 19 locations.\n",
        "Brent has 19 locations.\n",
        "</pre>"
      ]
    },
    {
      "cell_type": "markdown",
      "metadata": {
        "id": "aUBzM-SIIW_G"
      },
      "source": [
        "Next, we're going into introduce two simple concepts: <code>in</code> and <code>any()</code>.\n",
        "\n",
        "\n",
        "When used as an \"operator,\" <code>in</code> checks if one object is \"in\" another object. This behaves differently for different object types. For example, you can check to see if a **string** is in another **string**. You can also check to see if a specific object is a member of a **list**. Try it out yourself!\n",
        "\n",
        "Note that this is NOT the same use case as the **in keyword** from a **for loop iterable**. Instead, in this context, \"A in B\" translates to \"does B contain A?\"\n",
        "\n",
        "#### B.) First, select the first 5 *Inner London* locations and save them in a separate list. Display the 5 location names."
      ]
    },
    {
      "cell_type": "code",
      "execution_count": 10,
      "metadata": {
        "id": "K1YuRQk2IW_G",
        "colab": {
          "base_uri": "https://localhost:8080/"
        },
        "outputId": "a1ba1f07-b3b5-42b5-9839-8824a3e4dbda"
      },
      "outputs": [
        {
          "output_type": "stream",
          "name": "stdout",
          "text": [
            "['Holborn', 'Primrose Hill', 'Camden Town', 'Chalk Farm', 'West Hampstead']\n"
          ]
        }
      ],
      "source": [
        "inner_london_sample = location_dict['Inner London'][:5]\n",
        "print (inner_london_sample)"
      ]
    },
    {
      "cell_type": "markdown",
      "metadata": {
        "id": "Zw47PyUqIW_G"
      },
      "source": [
        "#### C.) Next, check the following:\n",
        "* Is <code>'Primrose Hill'</code> in <code>location_dict['Outer London']</code>?\n",
        "* Is <code>'Primrose Hill'</code> in <code>location_dict['Inner London']</code>?\n",
        "* Is the substring <code>'Primrose'</code> in the string <code>'Primrose Hill'</code>?\n",
        "* Do all of the outputs make sense to you?"
      ]
    },
    {
      "cell_type": "code",
      "execution_count": 11,
      "metadata": {
        "scrolled": true,
        "id": "3AZTx76tIW_H",
        "colab": {
          "base_uri": "https://localhost:8080/"
        },
        "outputId": "ec02932d-eec5-43fd-cd58-833450a21b37"
      },
      "outputs": [
        {
          "output_type": "stream",
          "name": "stdout",
          "text": [
            "False\n",
            "True\n",
            "True\n"
          ]
        }
      ],
      "source": [
        "print ('Primrose Hill' in location_dict['Outer London'])\n",
        "print ('Primrose Hill' in location_dict['Inner London'])\n",
        "print ('Primrose' in 'Primrose Hill')"
      ]
    },
    {
      "cell_type": "markdown",
      "metadata": {
        "id": "J93eW6uSIW_H"
      },
      "source": [
        "<strong style=\"color:RoyalBlue\">Expected output:</strong>\n",
        "\n",
        "<pre>\n",
        "False\n",
        "True\n",
        "True\n",
        "</pre>"
      ]
    },
    {
      "cell_type": "markdown",
      "metadata": {
        "id": "P2dXlrOSIW_H"
      },
      "source": [
        "The Python built-in function <code>any()</code> checks if any of the values in a list-like object are true. To illustrate this, let's first combine <code>in</code> with a **list comprehension** to confirm that none of our sampled Inner London locations are in Outer London.\n",
        "\n",
        "#### D.) Use a list comprehension to confirm that none of our sampled Inner London locations are in Outer London.\n",
        "* Use the sampled list of 5 locations from (B).\n",
        "* By using <code>in</code>, you should be able to create a new list of booleans.\n",
        "* Display the new list of booleans."
      ]
    },
    {
      "cell_type": "code",
      "execution_count": 12,
      "metadata": {
        "id": "MWWqu9reIW_H",
        "colab": {
          "base_uri": "https://localhost:8080/"
        },
        "outputId": "c3d87fcb-e0c2-4b0d-cb9a-193903a03427"
      },
      "outputs": [
        {
          "output_type": "execute_result",
          "data": {
            "text/plain": [
              "[False, False, False, False, False]"
            ]
          },
          "metadata": {},
          "execution_count": 12
        }
      ],
      "source": [
        "[element in location_dict['Outer London'] for element in inner_london_sample]"
      ]
    },
    {
      "cell_type": "markdown",
      "metadata": {
        "id": "EFTQvhmeIW_H"
      },
      "source": [
        "<strong style=\"color:RoyalBlue\">Expected output:</strong>\n",
        "\n",
        "<pre>\n",
        "[False, False, False, False, False]\n",
        "</pre>"
      ]
    },
    {
      "cell_type": "markdown",
      "metadata": {
        "id": "7hl7XtJgIW_I"
      },
      "source": [
        "#### E.) Now check if <code>any()</code> of our sampled Inner London locations are in Outer London.\n",
        "* Your output should be a single Boolean.\n",
        "* Just for illustrative purposes, create another list with those 5 sampled Inner London locations plus 'Wembley Park' (which is in Outer London). Run your <code>any()</code> check again."
      ]
    },
    {
      "cell_type": "code",
      "execution_count": 13,
      "metadata": {
        "id": "uhmDvDh2IW_I",
        "colab": {
          "base_uri": "https://localhost:8080/"
        },
        "outputId": "b86bcb93-475f-4db2-cc36-8da505994ebc"
      },
      "outputs": [
        {
          "output_type": "execute_result",
          "data": {
            "text/plain": [
              "False"
            ]
          },
          "metadata": {},
          "execution_count": 13
        }
      ],
      "source": [
        "# Check if any sampled Inner London locations are in Outer London\n",
        "any(element in location_dict['Outer London'] for element in inner_london_sample)"
      ]
    },
    {
      "cell_type": "markdown",
      "metadata": {
        "id": "G25ZUSeOIW_I"
      },
      "source": [
        "<strong style=\"color:RoyalBlue\">Expected output:</strong>\n",
        "\n",
        "<pre>\n",
        "False\n",
        "</pre>"
      ]
    },
    {
      "cell_type": "code",
      "execution_count": 14,
      "metadata": {
        "id": "SlHxm7ypIW_I",
        "colab": {
          "base_uri": "https://localhost:8080/"
        },
        "outputId": "d4b1b028-afd6-4d45-ef6b-b13c364ebb65"
      },
      "outputs": [
        {
          "output_type": "execute_result",
          "data": {
            "text/plain": [
              "True"
            ]
          },
          "metadata": {},
          "execution_count": 14
        }
      ],
      "source": [
        "# Check sampled Inner London locations PLUS Wembley Park\n",
        "inner_london_plus_wembley = inner_london_sample + ['Wembley Park']\n",
        "any(element in inner_london_plus_wembley for element in inner_london_sample)"
      ]
    },
    {
      "cell_type": "markdown",
      "metadata": {
        "id": "WAjAhhTjIW_J"
      },
      "source": [
        "<strong style=\"color:RoyalBlue\">Expected output:</strong>\n",
        "\n",
        "<pre>\n",
        "True\n",
        "</pre>"
      ]
    },
    {
      "cell_type": "markdown",
      "metadata": {
        "id": "38VLzPReIW_J"
      },
      "source": [
        "Now that we have <code>in</code> and <code>any()</code>, we have everything we need to \"judge a location by its cover.\" Let's wrap up this exercise.\n",
        "\n",
        "#### F.) Give each location in Outer London a first impression based on its name. Combine <code style=\"color:steelblue\">if</code> and <code style=\"color:steelblue\">for</code> statements. For each location in Outer London...\n",
        "* **If** its name has <code style=\"color:steelblue\">'Farm'</code>, <code style=\"color:steelblue\">'Park'</code>, <code style=\"color:steelblue\">'Hill'</code>, or <code style=\"color:steelblue\">'Green'</code> in it, print:\n",
        "\n",
        "<pre style=\"color:steelblue\">{<strong>name</strong>} sounds pleasant.</pre>\n",
        "\n",
        "* **Else If** its name has <code style=\"color:steelblue\">'Royal'</code>, <code style=\"color:steelblue\">'Queen'</code>, or <code style=\"color:steelblue\">'King'</code> in it, print:\n",
        "\n",
        "<pre style=\"color:steelblue\">{<strong>name</strong>} sounds grand.</pre>\n",
        "    \n",
        "* If its name doesn't sound pleasant or grand, just ignore it.\n",
        "* **Tip:** If you want to check if any word from a list is found in a string, you can use <code style=\"color:steelblue\">any()</code>, like so:\n",
        "\n",
        "<pre style=\"color:steelblue\">\n",
        "any( word in name for word in <strong>list_of_words</strong> )\n",
        "</pre>"
      ]
    },
    {
      "cell_type": "code",
      "execution_count": 15,
      "metadata": {
        "id": "7vOXjPx0IW_J",
        "colab": {
          "base_uri": "https://localhost:8080/"
        },
        "outputId": "2cef28de-8241-4a58-c329-42f9294ff03b"
      },
      "outputs": [
        {
          "output_type": "stream",
          "name": "stdout",
          "text": [
            "Brent Park sounds pleasant.\n",
            "Dollis Hill sounds pleasant.\n",
            "Kensal Green sounds pleasant.\n",
            "Kingsbury sounds grand.\n",
            "Queen's Park sounds pleasant.\n",
            "Wembley Park sounds pleasant.\n",
            "Park Royal sounds pleasant.\n",
            "Newbury Park sounds pleasant.\n",
            "Gants Hill sounds pleasant.\n",
            "Seven Kings sounds grand.\n",
            "Woodford Green sounds pleasant.\n"
          ]
        }
      ],
      "source": [
        "pleasant_sounding = ['Farm', 'Park', 'Hill', 'Green']\n",
        "royal_sounding = ['Royal', 'Queen', 'King']\n",
        "\n",
        "# Print first impression of each location in Outer London based on its names\n",
        "for element in location_dict['Outer London']:\n",
        "  if (any(word in element for word in pleasant_sounding)):\n",
        "    print ('{} sounds pleasant.'.format(element))\n",
        "  elif (any(word in element for word in royal_sounding)):\n",
        "    print ('{} sounds grand.'.format(element))\n",
        "\n"
      ]
    },
    {
      "cell_type": "markdown",
      "metadata": {
        "id": "FpAnlIQ0IW_J"
      },
      "source": [
        "<strong style=\"color:RoyalBlue\">Expected output:</strong>\n",
        "\n",
        "<pre>\n",
        "Brent Park sounds pleasant.\n",
        "Dollis Hill sounds pleasant.\n",
        "Kensal Green sounds pleasant.\n",
        "Kingsbury sounds grand.\n",
        "Queen's Park sounds pleasant.\n",
        "Wembley Park sounds pleasant.\n",
        "Park Royal sounds pleasant.\n",
        "Seven Kings sounds grand.\n",
        "Gants Hill sounds pleasant.\n",
        "Woodford Green sounds pleasant.\n",
        "Newbury Park sounds pleasant.\n",
        "</pre>"
      ]
    },
    {
      "cell_type": "markdown",
      "metadata": {
        "id": "xnTgU5rSIW_K"
      },
      "source": [
        "## <span style=\"color:RoyalBlue\">Exercise 3.3 - Pleasant Comprehensions</span>\n",
        "\n",
        "#### A.) Using a list comprehension, create a new list called <code style=\"color:steelblue\">pleasant_locations</code>.\n",
        "* It should contain locations in Outer London that are <code style=\"color:steelblue\">pleasant_sounding</code>.\n",
        "* Then print the list.\n",
        "* **Tip:** To check if any word from a list is found in a string, you can use <code style=\"color:steelblue\">any()</code>. See <span style=\"color:RoyalBlue\">Exercise 3.2</span> if you need a reminder."
      ]
    },
    {
      "cell_type": "code",
      "execution_count": 16,
      "metadata": {
        "id": "oKMfpBhdIW_K",
        "colab": {
          "base_uri": "https://localhost:8080/"
        },
        "outputId": "af58b4f0-b3fd-4be9-ced5-cd8ac6fd5196"
      },
      "outputs": [
        {
          "output_type": "stream",
          "name": "stdout",
          "text": [
            "['Brent Park', 'Dollis Hill', 'Kensal Green', \"Queen's Park\", 'Wembley Park', 'Park Royal', 'Newbury Park', 'Gants Hill', 'Woodford Green']\n"
          ]
        }
      ],
      "source": [
        "# Create pleasant_locations list using a list comprehension\n",
        "pleasant_locations = [name for name in location_dict['Outer London'] if any(word in name for word in pleasant_sounding)]\n",
        "\n",
        "# Print the pleasant-sounding locations\n",
        "print (pleasant_locations)\n"
      ]
    },
    {
      "cell_type": "markdown",
      "metadata": {
        "id": "eCtFHV_8IW_K"
      },
      "source": [
        "<strong style=\"color:RoyalBlue\">Expected output:</strong>\n",
        "\n",
        "<pre>\n",
        "['Brent Park', 'Dollis Hill', 'Kensal Green', \"Queen's Park\", 'Wembley Park', 'Park Royal', 'Gants Hill', 'Woodford Green', 'Newbury Park']\n",
        "</pre>"
      ]
    },
    {
      "cell_type": "markdown",
      "metadata": {
        "id": "FzQZHShoIW_K"
      },
      "source": [
        "#### B.) Print the number pleasant-sounding locations we have."
      ]
    },
    {
      "cell_type": "code",
      "execution_count": 21,
      "metadata": {
        "scrolled": true,
        "id": "kmzKjTX9IW_L",
        "colab": {
          "base_uri": "https://localhost:8080/"
        },
        "outputId": "c191c3de-0315-410b-f69d-6be7fe77cc80"
      },
      "outputs": [
        {
          "output_type": "stream",
          "name": "stdout",
          "text": [
            "9\n"
          ]
        }
      ],
      "source": [
        "# Print number of pleasant-sounding locations\n",
        "print (len(pleasant_locations))"
      ]
    },
    {
      "cell_type": "markdown",
      "metadata": {
        "id": "HuCPchxcIW_L"
      },
      "source": [
        "<strong style=\"color:RoyalBlue\">Expected output:</strong>\n",
        "\n",
        "<pre>\n",
        "9\n",
        "</pre>"
      ]
    },
    {
      "cell_type": "markdown",
      "metadata": {
        "id": "U0V5I-qcIW_L"
      },
      "source": [
        "## <span style=\"color:RoyalBlue\">Exercise 3.4 - Functional Filters</span>\n",
        "\n",
        "For the final exercise of this module, we're going to practice writing functions.\n",
        "\n",
        "#### A.) Write a function called <code style=\"color:steelblue\">filter_locations</code> that takes two arguments:\n",
        "1. <code style=\"color:steelblue\">location_list</code>\n",
        "2. <code style=\"color:steelblue\">words_list</code>\n",
        "\n",
        "The function should return the list of names in <code style=\"color:steelblue\">location_list</code> that have any word in <code style=\"color:steelblue\">words_list</code>.\n",
        "* **Tip:** For help with the code block, see your answer in <span style=\"color:RoyalBlue\">Exercise 3.3</span>."
      ]
    },
    {
      "cell_type": "code",
      "execution_count": 22,
      "metadata": {
        "id": "VrxRxXsxIW_L"
      },
      "outputs": [],
      "source": [
        "def filter_locations(location_list, words_list):\n",
        "  return [name for name in location_list if any(word in name for word in words_list)]"
      ]
    },
    {
      "cell_type": "markdown",
      "metadata": {
        "id": "fHXJFr0IIW_L"
      },
      "source": [
        "Next, let's test that function. \n",
        "\n",
        "#### B.) Create a new <code style=\"color:steelblue\">pleasant_locations</code> list using the function you just wrote.\n",
        "* Pass in the list of Outer London locations and the list of pleasant-sounding words.\n",
        "* You should get the same locations that you got in <span style=\"color:RoyalBlue\">Exercise 3.3</span>.\n",
        "* Print the new list."
      ]
    },
    {
      "cell_type": "code",
      "execution_count": 23,
      "metadata": {
        "id": "wZu7lavEIW_M",
        "colab": {
          "base_uri": "https://localhost:8080/"
        },
        "outputId": "585d8812-2a9b-4735-914f-29659786da3c"
      },
      "outputs": [
        {
          "output_type": "stream",
          "name": "stdout",
          "text": [
            "['Brent Park', 'Dollis Hill', 'Kensal Green', \"Queen's Park\", 'Wembley Park', 'Park Royal', 'Newbury Park', 'Gants Hill', 'Woodford Green']\n"
          ]
        }
      ],
      "source": [
        "# Create pleasant_locations using filter_locations()\n",
        "pleasant_locations = filter_locations(location_dict['Outer London'], pleasant_sounding)\n",
        "\n",
        "# Print list of pleasant-sounding locations\n",
        "print (pleasant_locations)\n"
      ]
    },
    {
      "cell_type": "markdown",
      "metadata": {
        "id": "TA2oUO7mIW_M"
      },
      "source": [
        "<strong style=\"color:RoyalBlue\">Expected output:</strong>\n",
        "\n",
        "<pre>\n",
        "['Brent Park', 'Dollis Hill', 'Kensal Green', \"Queen's Park\", 'Wembley Park', 'Park Royal', 'Gants Hill', 'Woodford Green', 'Newbury Park']\n",
        "</pre>"
      ]
    },
    {
      "cell_type": "markdown",
      "metadata": {
        "id": "SB468RgzIW_M"
      },
      "source": [
        "#### C.) Next, let's use this handy function to create a <code style=\"color:steelblue\">grand_locations</code> list for locations that sound grand.\n",
        "* Pass in the list of Outer London locations and the list of grand-sounding words.\n",
        "* Print the new list and confirm the expected output"
      ]
    },
    {
      "cell_type": "code",
      "execution_count": 24,
      "metadata": {
        "id": "zl_mM08cIW_M",
        "colab": {
          "base_uri": "https://localhost:8080/"
        },
        "outputId": "505f3227-dfa5-4fe7-a6d1-ecf3be68d747"
      },
      "outputs": [
        {
          "output_type": "stream",
          "name": "stdout",
          "text": [
            "['Kingsbury', \"Queen's Park\", 'Park Royal', 'Seven Kings']\n"
          ]
        }
      ],
      "source": [
        "# Create grand_locations using filter_locations()\n",
        "grand_locations = filter_locations(location_dict['Outer London'], royal_sounding)\n",
        "\n",
        "# Print list of grand-sounding locations\n",
        "print (grand_locations)\n"
      ]
    },
    {
      "cell_type": "markdown",
      "metadata": {
        "id": "FX1tulBpIW_N"
      },
      "source": [
        "<strong style=\"color:RoyalBlue\">Expected output:</strong>\n",
        "\n",
        "<pre>\n",
        "['Kingsbury', \"Queen's Park\", 'Park Royal', 'Seven Kings']\n",
        "</pre>"
      ]
    },
    {
      "cell_type": "markdown",
      "metadata": {
        "id": "bwNGfn3eIW_N"
      },
      "source": [
        "Awesome, are there any locations in both lists?\n",
        "\n",
        "#### D.) Display the locations in both the <code style=\"color:steelblue\">pleasant_locations</code> and <code style=\"color:steelblue\">grand_locations</code> lists.\n",
        "* You can compare these lists manually because they are short, but try using <code style=\"color:steelblue\">sets</code> and the <code style=\"color:steelblue\">.intersection()</code> function (or <code style=\"color:steelblue\">&</code> operator)!"
      ]
    },
    {
      "cell_type": "code",
      "execution_count": 25,
      "metadata": {
        "id": "kJ2GITjuIW_N",
        "colab": {
          "base_uri": "https://localhost:8080/"
        },
        "outputId": "9c225520-7eb5-48ef-869d-21e2e23c2389"
      },
      "outputs": [
        {
          "output_type": "execute_result",
          "data": {
            "text/plain": [
              "{'Park Royal', \"Queen's Park\"}"
            ]
          },
          "metadata": {},
          "execution_count": 25
        }
      ],
      "source": [
        "# Display locations that sound pleasant and grand\n",
        "set(pleasant_locations) & set(grand_locations)"
      ]
    },
    {
      "cell_type": "markdown",
      "metadata": {
        "id": "y84vI96UIW_N"
      },
      "source": [
        "<strong style=\"color:RoyalBlue\">Expected output:</strong>\n",
        "\n",
        "<pre>\n",
        "{'Park Royal', \"Queen's Park\"}\n",
        "</pre>"
      ]
    },
    {
      "cell_type": "markdown",
      "metadata": {
        "id": "qwXjxp-8IW_N"
      },
      "source": [
        "Great, we'll start with these for our visit. As a side note, notice how Python automatically used double quotes to enclose <code>\"Queen's Park\"</code> so that you don't have to worry about escaping the apostrophe.\n",
        "\n",
        "#### The mission continues in the next module...\n",
        "\n",
        "In this module, we filtered our lists of locations down to two: Park Royal and Queen's Park. In the next module, we'll visit Park Royal and talk with some local businesses there.*"
      ]
    }
  ],
  "metadata": {
    "anaconda-cloud": {},
    "kernelspec": {
      "display_name": "Python 3",
      "language": "python",
      "name": "python3"
    },
    "language_info": {
      "codemirror_mode": {
        "name": "ipython",
        "version": 3
      },
      "file_extension": ".py",
      "mimetype": "text/x-python",
      "name": "python",
      "nbconvert_exporter": "python",
      "pygments_lexer": "ipython3",
      "version": "3.7.0"
    },
    "colab": {
      "name": "3 - Workbook - Flow and Functions.ipynb",
      "provenance": [],
      "collapsed_sections": [
        "qwXjxp-8IW_N"
      ],
      "include_colab_link": true
    }
  },
  "nbformat": 4,
  "nbformat_minor": 0
}