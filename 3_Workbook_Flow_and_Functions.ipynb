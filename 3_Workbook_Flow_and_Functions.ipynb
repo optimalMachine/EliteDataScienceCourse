{
  "nbformat": 4,
  "nbformat_minor": 0,
  "metadata": {
    "anaconda-cloud": {},
    "kernelspec": {
      "display_name": "Python 3",
      "language": "python",
      "name": "python3"
    },
    "language_info": {
      "codemirror_mode": {
        "name": "ipython",
        "version": 3
      },
      "file_extension": ".py",
      "mimetype": "text/x-python",
      "name": "python",
      "nbconvert_exporter": "python",
      "pygments_lexer": "ipython3",
      "version": "3.7.0"
    },
    "colab": {
      "name": "3 - Workbook - Flow and Functions.ipynb",
      "provenance": [],
      "collapsed_sections": [
        "DONiNzC4SPKY"
      ],
      "include_colab_link": true
    }
  },
  "cells": [
    {
      "cell_type": "markdown",
      "metadata": {
        "id": "view-in-github",
        "colab_type": "text"
      },
      "source": [
        "<a href=\"https://colab.research.google.com/github/optimalMachine/EliteDataScienceCourse/blob/master/3_Workbook_Flow_and_Functions.ipynb\" target=\"_parent\"><img src=\"https://colab.research.google.com/assets/colab-badge.svg\" alt=\"Open In Colab\"/></a>"
      ]
    },
    {
      "cell_type": "markdown",
      "metadata": {
        "id": "GJ_qfTBWSPJe"
      },
      "source": [
        "#### COMPANION WORKBOOK\n",
        "\n",
        "# Flow and Functions\n",
        "\n",
        "To make the most out of this program, we strongly recommend you to:\n",
        "1. First practice writing and implementing all of the code from Coding Section of the online module.\n",
        "2. Then, freely experiment with and explore any interesting or confusing concepts. Simply insert new code cells and then use the help of Google and official documentation.\n",
        "3. Finally, tackle all of the exercises at the end. They will help you tie everything together and **learn in context.**\n",
        "\n",
        "#### <span style=\"color:#555\">MODULE CODE SANDBOX</span>\n",
        "\n",
        "Use this space to practice writing and implementing all of the code from Coding Section of the online module. Insert new code cells as needed, and feel free to write notes to yourself in Markdown."
      ]
    },
    {
      "cell_type": "markdown",
      "metadata": {
        "id": "DtztpqIHSPJf"
      },
      "source": [
        "## I. IF statements allow conditional logic."
      ]
    },
    {
      "cell_type": "code",
      "metadata": {
        "id": "87veTnV3SPJf",
        "outputId": "60637a8b-f0fc-40ca-9ad7-ad47fc322c5e",
        "colab": {
          "base_uri": "https://localhost:8080/",
          "height": 35
        }
      },
      "source": [
        "current_fuel = 85\n",
        "\n",
        "#condition\n",
        "if current_fuel >= 80:\n",
        "  print ('We have enough fuel for the zombie apocalypse.')\n",
        "  "
      ],
      "execution_count": null,
      "outputs": [
        {
          "output_type": "stream",
          "text": [
            "We have enough fuel for the zombie apocalypse.\n"
          ],
          "name": "stdout"
        }
      ]
    },
    {
      "cell_type": "code",
      "metadata": {
        "id": "T2FHo3SHSPJi",
        "outputId": "319be7d2-e142-4a57-946a-44a6b46bcf19",
        "colab": {
          "base_uri": "https://localhost:8080/",
          "height": 35
        }
      },
      "source": [
        "current_fuel = 50\n",
        "\n",
        "if current_fuel >= 80:\n",
        "  print ('We have enough fuel for the zombie apocalypse.')\n",
        "else:\n",
        "  print ('Restock! We need at least {} gallons.'.format(80-current_fuel))\n",
        "  "
      ],
      "execution_count": null,
      "outputs": [
        {
          "output_type": "stream",
          "text": [
            "Restock! We need at least 30 gallons.\n"
          ],
          "name": "stdout"
        }
      ]
    },
    {
      "cell_type": "code",
      "metadata": {
        "id": "4MNpcg-KSPJk",
        "outputId": "7bd3d7c5-5ff5-48b1-e2cb-eb0c94f09334",
        "colab": {
          "base_uri": "https://localhost:8080/",
          "height": 35
        }
      },
      "source": [
        "current_fuel = 50\n",
        "\n",
        "if current_fuel >= 80:\n",
        "  print ('we should have enough fuel to')\n",
        "elif current_fuel < 60:\n",
        "  print ('ALERT: WE ARE WAY TOO LOW ON FUEL!')\n",
        "else:\n",
        "  print ('Restock! We need at least {} gallons.'.format(80-current_fuel))"
      ],
      "execution_count": null,
      "outputs": [
        {
          "output_type": "stream",
          "text": [
            "ALERT: WE ARE WAY TOO LOW ON FUEL!\n"
          ],
          "name": "stdout"
        }
      ]
    },
    {
      "cell_type": "markdown",
      "metadata": {
        "id": "lYtLsElSSPJl"
      },
      "source": [
        "## II. FOR loops allow iteration."
      ]
    },
    {
      "cell_type": "code",
      "metadata": {
        "id": "BRz8bSIuSPJm",
        "outputId": "3e86151f-7c06-49ee-c25d-8befcf62c6eb",
        "colab": {
          "base_uri": "https://localhost:8080/",
          "height": 104
        }
      },
      "source": [
        "for number in [0,1,2,3,4]:\n",
        "  print (number)"
      ],
      "execution_count": null,
      "outputs": [
        {
          "output_type": "stream",
          "text": [
            "0\n",
            "1\n",
            "2\n",
            "3\n",
            "4\n"
          ],
          "name": "stdout"
        }
      ]
    },
    {
      "cell_type": "code",
      "metadata": {
        "id": "N8LPW2ycSPJo",
        "outputId": "3a877c07-5c38-4b23-89fd-252e527a3630",
        "colab": {
          "base_uri": "https://localhost:8080/",
          "height": 104
        }
      },
      "source": [
        "for number in range(5):\n",
        "  print (number)"
      ],
      "execution_count": null,
      "outputs": [
        {
          "output_type": "stream",
          "text": [
            "0\n",
            "1\n",
            "2\n",
            "3\n",
            "4\n"
          ],
          "name": "stdout"
        }
      ]
    },
    {
      "cell_type": "code",
      "metadata": {
        "id": "4a9AYusPSPJp",
        "outputId": "62770dea-aef4-48f3-d299-651acca89480",
        "colab": {
          "base_uri": "https://localhost:8080/",
          "height": 104
        }
      },
      "source": [
        "for number in reversed(range(5)):\n",
        "  print (number)"
      ],
      "execution_count": null,
      "outputs": [
        {
          "output_type": "stream",
          "text": [
            "4\n",
            "3\n",
            "2\n",
            "1\n",
            "0\n"
          ],
          "name": "stdout"
        }
      ]
    },
    {
      "cell_type": "code",
      "metadata": {
        "id": "FYVzED9CnBmd",
        "outputId": "28f63ced-6e35-4e44-9ef1-72371c221557",
        "colab": {
          "base_uri": "https://localhost:8080/",
          "height": 191
        }
      },
      "source": [
        "range_list = range(10)\n",
        "for number in reversed(range_list):\n",
        "  if number == 0:\n",
        "    print ('Liftoff!')\n",
        "  elif number % 3 == 0:\n",
        "    print ('Buzz')\n",
        "  else:\n",
        "    print (number)"
      ],
      "execution_count": null,
      "outputs": [
        {
          "output_type": "stream",
          "text": [
            "Buzz\n",
            "8\n",
            "7\n",
            "Buzz\n",
            "5\n",
            "4\n",
            "Buzz\n",
            "2\n",
            "1\n",
            "Liftoff!\n"
          ],
          "name": "stdout"
        }
      ]
    },
    {
      "cell_type": "code",
      "metadata": {
        "id": "5_OhyQeunVct",
        "outputId": "7ff8398b-6e2c-433d-8d13-9d40b342c6fa",
        "colab": {
          "base_uri": "https://localhost:8080/",
          "height": 121
        }
      },
      "source": [
        "list_a = [4,3,2]\n",
        "list_b = [6,3]\n",
        "\n",
        "for a in list_a:\n",
        "  for b in list_b:\n",
        "    print ('{} X {} = {}'.format(a,b,a*b))"
      ],
      "execution_count": null,
      "outputs": [
        {
          "output_type": "stream",
          "text": [
            "4 X 6 = 24\n",
            "4 X 3 = 12\n",
            "3 X 6 = 18\n",
            "3 X 3 = 9\n",
            "2 X 6 = 12\n",
            "2 X 3 = 6\n"
          ],
          "name": "stdout"
        }
      ]
    },
    {
      "cell_type": "markdown",
      "metadata": {
        "id": "07oAHzwLSPJs"
      },
      "source": [
        "## III. List comprehensions help construct new lists elegantly."
      ]
    },
    {
      "cell_type": "code",
      "metadata": {
        "id": "lhpUkUg1SPJt",
        "outputId": "3fc077a1-f113-41c8-b755-c5d48e0fa953",
        "colab": {
          "base_uri": "https://localhost:8080/",
          "height": 52
        }
      },
      "source": [
        "range_list = range(10)\n",
        "\n",
        "evens_list = []\n",
        "odds_list = []\n",
        "\n",
        "for number in range_list:\n",
        "  if number % 2 == 0:\n",
        "    evens_list.append(number)\n",
        "  else:\n",
        "    odds_list.append(number)\n",
        "  \n",
        "print (evens_list)\n",
        "print (odds_list)\n",
        "  "
      ],
      "execution_count": null,
      "outputs": [
        {
          "output_type": "stream",
          "text": [
            "[0, 2, 4, 6, 8]\n",
            "[1, 3, 5, 7, 9]\n"
          ],
          "name": "stdout"
        }
      ]
    },
    {
      "cell_type": "code",
      "metadata": {
        "id": "4zHhwoMeSPJu",
        "outputId": "d385cfcc-316b-45b1-ed6e-13373cffcb58",
        "colab": {
          "base_uri": "https://localhost:8080/",
          "height": 35
        }
      },
      "source": [
        "#List comprehension\n",
        "squares_list = [number**2 for number in range(10)]\n",
        "print (squares_list)"
      ],
      "execution_count": null,
      "outputs": [
        {
          "output_type": "stream",
          "text": [
            "[0, 1, 4, 9, 16, 25, 36, 49, 64, 81]\n"
          ],
          "name": "stdout"
        }
      ]
    },
    {
      "cell_type": "code",
      "metadata": {
        "id": "KrZhK_h-SPJw",
        "outputId": "1e39314b-a7bb-4067-ac82-f053866510c1",
        "colab": {
          "base_uri": "https://localhost:8080/",
          "height": 35
        }
      },
      "source": [
        "#List Comprehension conditional inclusion\n",
        "evens_list = [number for number in range(10) if number % 2 == 0]\n",
        "evens_list"
      ],
      "execution_count": null,
      "outputs": [
        {
          "output_type": "execute_result",
          "data": {
            "text/plain": [
              "[0, 2, 4, 6, 8]"
            ]
          },
          "metadata": {
            "tags": []
          },
          "execution_count": 4
        }
      ]
    },
    {
      "cell_type": "code",
      "metadata": {
        "id": "-Fm9W7BCjqsc",
        "outputId": "bbd54c05-ec7a-4232-8d7a-79c2b64649ff",
        "colab": {
          "base_uri": "https://localhost:8080/",
          "height": 35
        }
      },
      "source": [
        "even_odd_labels = ['Even' if number % 2 == 0 else 'Odd' for number in range(10)]\n",
        "even_odd_labels"
      ],
      "execution_count": null,
      "outputs": [
        {
          "output_type": "execute_result",
          "data": {
            "text/plain": [
              "['Even', 'Odd', 'Even', 'Odd', 'Even', 'Odd', 'Even', 'Odd', 'Even', 'Odd']"
            ]
          },
          "metadata": {
            "tags": []
          },
          "execution_count": 6
        }
      ]
    },
    {
      "cell_type": "code",
      "metadata": {
        "id": "_PmCTqXvkw3K",
        "outputId": "e7112520-9fec-4c23-9b3b-34d628d6754e",
        "colab": {
          "base_uri": "https://localhost:8080/",
          "height": 35
        }
      },
      "source": [
        "doubles_set = {number*2 for number in range(10)}\n",
        "print (doubles_set)"
      ],
      "execution_count": null,
      "outputs": [
        {
          "output_type": "stream",
          "text": [
            "{0, 2, 4, 6, 8, 10, 12, 14, 16, 18}\n"
          ],
          "name": "stdout"
        }
      ]
    },
    {
      "cell_type": "markdown",
      "metadata": {
        "id": "FZ61dX3pSPJx"
      },
      "source": [
        "## IV. Functions are blocks of reusable, modular code."
      ]
    },
    {
      "cell_type": "code",
      "metadata": {
        "id": "ibQ4acdfSPJy"
      },
      "source": [
        ""
      ],
      "execution_count": null,
      "outputs": []
    },
    {
      "cell_type": "code",
      "metadata": {
        "id": "mBFp7XUcSPJz"
      },
      "source": [
        ""
      ],
      "execution_count": null,
      "outputs": []
    },
    {
      "cell_type": "code",
      "metadata": {
        "id": "fQXuHZOSSPJ1"
      },
      "source": [
        ""
      ],
      "execution_count": null,
      "outputs": []
    },
    {
      "cell_type": "markdown",
      "metadata": {
        "id": "XuVpgzYZSPJ3"
      },
      "source": [
        "#### <span style=\"color:#555\">EXERCISES</span>\n",
        "\n",
        "Complete each of the following exercises.\n",
        "\n",
        "## <span style=\"color:RoyalBlue\">Exercise 3.1 - Optimal Start</span>\n",
        "\n",
        "#### In the previous module...\n",
        "\n",
        "In the previous module, you created a location dictionary for the boroughs we're interested in visting. Now we're ready to pick a location to start with.\n",
        "\n",
        "#### A.) First, let's import <code style=\"color:steelblue\">location_dict</code> again using <code style=\"color:steelblue\">pickle</code>. Run this cell."
      ]
    },
    {
      "cell_type": "code",
      "metadata": {
        "id": "1LW1GxqJlHBc",
        "outputId": "7f47b17e-bf9c-4998-ed41-03f58f3c5046",
        "colab": {
          "base_uri": "https://localhost:8080/",
          "height": 35
        }
      },
      "source": [
        "from google.colab import drive\n",
        "drive.mount('/content/drive')"
      ],
      "execution_count": null,
      "outputs": [
        {
          "output_type": "stream",
          "text": [
            "Mounted at /content/drive\n"
          ],
          "name": "stdout"
        }
      ]
    },
    {
      "cell_type": "code",
      "metadata": {
        "id": "0Xw7h-_1SPJ3"
      },
      "source": [
        "import pickle\n",
        "\n",
        "# Read object from disk\n",
        "with open('/content/drive/My Drive/Colab Notebooks/Python for Data Science/location_dict_03.pkl', 'rb') as f:\n",
        "    location_dict = pickle.load(f)"
      ],
      "execution_count": null,
      "outputs": []
    },
    {
      "cell_type": "markdown",
      "metadata": {
        "id": "ovp8FlhTSPJ5"
      },
      "source": [
        "Now we have the <code style=\"color:steelblue\">location_dict</code> object again, but what if we forgot which keys are in the dictionary? \n",
        "\n",
        "#### B.) Print the keys in <code style=\"color:steelblue\">location_dict</code>."
      ]
    },
    {
      "cell_type": "code",
      "metadata": {
        "id": "yK1zPWvGSPJ5",
        "outputId": "fad7240b-68e3-4ae7-bbc3-a0a8905627fd",
        "colab": {
          "base_uri": "https://localhost:8080/",
          "height": 35
        }
      },
      "source": [
        "# Print the keys in location_dict\n",
        "print (location_dict.keys())\n"
      ],
      "execution_count": null,
      "outputs": [
        {
          "output_type": "stream",
          "text": [
            "dict_keys(['Brent', 'Camden', 'Redbridge', 'Southwark', 'Inner London', 'Outer London'])\n"
          ],
          "name": "stdout"
        }
      ]
    },
    {
      "cell_type": "markdown",
      "metadata": {
        "id": "OwfMEmi3SPJ7"
      },
      "source": [
        "<strong style=\"color:RoyalBlue\">Expected output:</strong>\n",
        "\n",
        "<pre>dict_keys(['Southwark', 'Redbridge', 'Outer London', 'Inner London', 'Camden', 'Brent'])</pre>"
      ]
    },
    {
      "cell_type": "markdown",
      "metadata": {
        "id": "CQFs8t7rSPJ7"
      },
      "source": [
        "Ah, yes... Now, we need to choose between starting with <code style=\"color:steelblue\">'Outer London'</code> or with <code style=\"color:steelblue\">'Inner London'</code>. We should start with the list with more locations, so let's find which one it is.\n",
        "\n",
        "#### C.) Write code, using <code style=\"color:steelblue\">if</code> statements, that does the following:\n",
        "* **If** our Inner London list has more locations than our Outer London list, print the message:\n",
        "\n",
        "\n",
        "<pre style=\"color:steelblue\">I want to start in Inner London.</pre>\n",
        "\n",
        "\n",
        "* **Else** if our Outer London list has more locations than our Inner London list, print the message:\n",
        "\n",
        "    \n",
        "<pre style=\"color:steelblue\">I want to start in Outer London.</pre>\n",
        "\n",
        "\n",
        "* **Else** (i.e. they have the same number of locations), print the message:\n",
        "\n",
        "\n",
        "<pre style=\"color:steelblue\">Either is fine. I'll flip a coin.</pre>\n",
        "\n"
      ]
    },
    {
      "cell_type": "code",
      "metadata": {
        "id": "cKDwARj72Aym",
        "outputId": "fd4a8e95-be32-4816-dbdb-ee9a762f29d2",
        "colab": {
          "base_uri": "https://localhost:8080/",
          "height": 52
        }
      },
      "source": [
        "print (len(location_dict['Inner London']))\n",
        "print (len(location_dict['Outer London']))"
      ],
      "execution_count": null,
      "outputs": [
        {
          "output_type": "stream",
          "text": [
            "32\n",
            "35\n"
          ],
          "name": "stdout"
        }
      ]
    },
    {
      "cell_type": "code",
      "metadata": {
        "id": "wz-sxnAnSPJ7",
        "outputId": "c88c40bf-ef57-4f96-fcf8-6f414d1b1c5d",
        "colab": {
          "base_uri": "https://localhost:8080/",
          "height": 35
        }
      },
      "source": [
        "if len(location_dict['Inner London']) > len(location_dict['Outer London']):\n",
        "  print ('I want to start in Inner London.')\n",
        "elif len(location_dict['Inner London']) < len(location_dict['Outer London']):\n",
        "  print ('I want to start in Outer London.')\n",
        "else:\n",
        "  print ('Either is fine. I\\'ll flip a coin.')"
      ],
      "execution_count": null,
      "outputs": [
        {
          "output_type": "stream",
          "text": [
            "I want to start in Outer London.\n"
          ],
          "name": "stdout"
        }
      ]
    },
    {
      "cell_type": "markdown",
      "metadata": {
        "id": "lBsvtPEYSPJ9"
      },
      "source": [
        "## <span style=\"color:RoyalBlue\">Exercise 3.2 - Judging a Location by Its Cover</span>\n",
        "\n",
        "In the previous exercise, we said that we wanted to start with the list with the most locations.\n",
        "* We already knew that it would be either Inner London or Outer London because those lists are combinations of 2 of the others.\n",
        "* However, what if we didn't know that?\n",
        "\n",
        "#### A.) For each key in <code style=\"color:steelblue\">location_dict</code>, print the number of locations in its list, like so:\n",
        "\n",
        "<pre style=\"color:steelblue\">\n",
        "Southwalk has 13 locations.\n",
        "Redbridge has ...\n",
        "</pre> \n",
        "\n",
        "* **Tip:** You can iterate through keys and values of a dictionary at the same time using <code style=\"color:steelblue\">.items()</code>, like so:\n",
        "\n",
        "<pre style=\"color:#bbb\">\n",
        "for <strong style=\"color:steelblue\">key, value</strong> in location_dict<strong style=\"color:steelblue\">.items()</strong>:\n",
        "    <span style=\"color:dimgray\"># code block</span>\n",
        "</pre>      \n",
        "        \n",
        "* **Tip:** Remember, to insert multiple dynamic values into a string, you can just add more places to <code style=\"color:steelblue\">.format()</code>, like so:\n",
        "\n",
        "<pre style=\"color:#bbb\">\n",
        "'<strong style=\"color:steelblue\">{}</strong> has <strong style=\"color:steelblue\">{}</strong> locations.'.format(<strong style=\"color:steelblue\">first_value, second_value</strong>)\n",
        "</pre>"
      ]
    },
    {
      "cell_type": "code",
      "metadata": {
        "id": "EABMynFSSPJ9",
        "outputId": "aaa65408-11e9-4415-daa0-3c2814a0f5d1",
        "colab": {
          "base_uri": "https://localhost:8080/",
          "height": 121
        }
      },
      "source": [
        "# For each key in location_dict, print the number of locations in its list\n",
        "for key, value in location_dict.items():\n",
        "  print ('{} has {} locations'.format(key,len(value)))"
      ],
      "execution_count": null,
      "outputs": [
        {
          "output_type": "stream",
          "text": [
            "Brent has 19 locations\n",
            "Camden has 19 locations\n",
            "Redbridge has 16 locations\n",
            "Southwark has 13 locations\n",
            "Inner London has 32 locations\n",
            "Outer London has 35 locations\n"
          ],
          "name": "stdout"
        }
      ]
    },
    {
      "cell_type": "markdown",
      "metadata": {
        "id": "4n0iSlgDSPJ_"
      },
      "source": [
        "<strong style=\"color:RoyalBlue\">Expected output:</strong>\n",
        "\n",
        "<pre>\n",
        "Southwark has 13 locations.\n",
        "Redbridge has 16 locations.\n",
        "Outer London has 35 locations.\n",
        "Inner London has 32 locations.\n",
        "Camden has 19 locations.\n",
        "Brent has 19 locations.\n",
        "</pre>"
      ]
    },
    {
      "cell_type": "markdown",
      "metadata": {
        "id": "LhYfkRuZSPJ_"
      },
      "source": [
        "Next, we're going into introduce two simple concepts: <code>in</code> and <code>any()</code>.\n",
        "\n",
        "\n",
        "When used as an \"operator,\" <code>in</code> checks if one object is \"in\" another object. This behaves differently for different object types. For example, you can check to see if a **string** is in another **string**. You can also check to see if a specific object is a member of a **list**. Try it out yourself!\n",
        "\n",
        "Note that this is NOT the same use case as the **in keyword** from a **for loop iterable**. Instead, in this context, \"A in B\" translates to \"does B contain A?\"\n",
        "\n",
        "#### B.) First, select the first 5 *Inner London* locations and save them in a separate list. Display the 5 location names."
      ]
    },
    {
      "cell_type": "code",
      "metadata": {
        "id": "Pw6E6MbrSPJ_"
      },
      "source": [
        "location_list = location_dict['Inner London'][:5]"
      ],
      "execution_count": null,
      "outputs": []
    },
    {
      "cell_type": "markdown",
      "metadata": {
        "id": "RLpc_4u8SPKB"
      },
      "source": [
        "#### C.) Next, check the following:\n",
        "* Is <code>'Primrose Hill'</code> in <code>location_dict['Outer London']</code>?\n",
        "* Is <code>'Primrose Hill'</code> in <code>location_dict['Inner London']</code>?\n",
        "* Is the substring <code>'Primrose'</code> in the string <code>'Primrose Hill'</code>?\n",
        "* Do all of the outputs make sense to you?"
      ]
    },
    {
      "cell_type": "code",
      "metadata": {
        "scrolled": true,
        "id": "4zDvxHr_SPKB",
        "outputId": "d4a371f9-10dc-418d-8a2a-513f95555534",
        "colab": {
          "base_uri": "https://localhost:8080/",
          "height": 69
        }
      },
      "source": [
        "print ('Primrose Hill' in location_dict['Outer London'])\n",
        "print ('Primrose Hill' in location_dict['Inner London'])\n",
        "print ('Primrose' in 'Primrose Hill')"
      ],
      "execution_count": null,
      "outputs": [
        {
          "output_type": "stream",
          "text": [
            "False\n",
            "True\n",
            "True\n"
          ],
          "name": "stdout"
        }
      ]
    },
    {
      "cell_type": "markdown",
      "metadata": {
        "id": "O0TgBACBSPKD"
      },
      "source": [
        "<strong style=\"color:RoyalBlue\">Expected output:</strong>\n",
        "\n",
        "<pre>\n",
        "False\n",
        "True\n",
        "True\n",
        "</pre>"
      ]
    },
    {
      "cell_type": "markdown",
      "metadata": {
        "id": "Qen_QkX-SPKD"
      },
      "source": [
        "The Python built-in function <code>any()</code> checks if any of the values in a list-like object are true. To illustrate this, let's first combine <code>in</code> with a **list comprehension** to confirm that none of our sampled Inner London locations are in Outer London.\n",
        "\n",
        "#### D.) Use a list comprehension to confirm that none of our sampled Inner London locations are in Outer London.\n",
        "* Use the sampled list of 5 locations from (B).\n",
        "* By using <code>in</code>, you should be able to create a new list of booleans.\n",
        "* Display the new list of booleans."
      ]
    },
    {
      "cell_type": "code",
      "metadata": {
        "id": "iTTv6x2sSPKE",
        "outputId": "d4d63e2d-5f61-4880-9eb1-e85d052b443b",
        "colab": {
          "base_uri": "https://localhost:8080/",
          "height": 35
        }
      },
      "source": [
        "location_list"
      ],
      "execution_count": null,
      "outputs": [
        {
          "output_type": "execute_result",
          "data": {
            "text/plain": [
              "['Primrose Hill', 'Holborn', 'Swiss Cottage', 'St Giles', 'West Hampstead']"
            ]
          },
          "metadata": {
            "tags": []
          },
          "execution_count": 9
        }
      ]
    },
    {
      "cell_type": "code",
      "metadata": {
        "id": "Cd82YnFej2Dp",
        "outputId": "18581890-c99f-4bbe-a72c-29b0948a2f44",
        "colab": {
          "base_uri": "https://localhost:8080/",
          "height": 35
        }
      },
      "source": [
        "[loc in location_dict['Outer London'] for loc in location_list]"
      ],
      "execution_count": null,
      "outputs": [
        {
          "output_type": "execute_result",
          "data": {
            "text/plain": [
              "[False, False, False, False, False]"
            ]
          },
          "metadata": {
            "tags": []
          },
          "execution_count": 10
        }
      ]
    },
    {
      "cell_type": "markdown",
      "metadata": {
        "id": "jpkuUcz4SPKF"
      },
      "source": [
        "<strong style=\"color:RoyalBlue\">Expected output:</strong>\n",
        "\n",
        "<pre>\n",
        "[False, False, False, False, False]\n",
        "</pre>"
      ]
    },
    {
      "cell_type": "markdown",
      "metadata": {
        "id": "gzTs8gNySPKF"
      },
      "source": [
        "#### E.) Now check if <code>any()</code> of our sampled Inner London locations are in Outer London.\n",
        "* Your output should be a single Boolean.\n",
        "* Just for illustrative purposes, create another list with those 5 sampled Inner London locations plus 'Wembley Park' (which is in Outer London). Run your <code>any()</code> check again."
      ]
    },
    {
      "cell_type": "code",
      "metadata": {
        "id": "x6EV1FCoSPKG",
        "outputId": "76542177-7514-4a83-e644-efa8ad889d49",
        "colab": {
          "base_uri": "https://localhost:8080/",
          "height": 35
        }
      },
      "source": [
        "# Check if any sampled Inner London locations are in Outer London\n",
        "any(loc in location_dict['Outer London'] for loc in location_list)"
      ],
      "execution_count": null,
      "outputs": [
        {
          "output_type": "execute_result",
          "data": {
            "text/plain": [
              "False"
            ]
          },
          "metadata": {
            "tags": []
          },
          "execution_count": 11
        }
      ]
    },
    {
      "cell_type": "markdown",
      "metadata": {
        "id": "T6po3QrpSPKH"
      },
      "source": [
        "<strong style=\"color:RoyalBlue\">Expected output:</strong>\n",
        "\n",
        "<pre>\n",
        "False\n",
        "</pre>"
      ]
    },
    {
      "cell_type": "code",
      "metadata": {
        "id": "gByym9tUSPKI",
        "outputId": "2708202d-b6dc-4c9a-ff25-e605131b07f6",
        "colab": {
          "base_uri": "https://localhost:8080/",
          "height": 35
        }
      },
      "source": [
        "# Check sampled Inner London locations PLUS Wembley Park\n",
        "any(loc in location_dict['Inner London'] for loc in location_list)"
      ],
      "execution_count": null,
      "outputs": [
        {
          "output_type": "execute_result",
          "data": {
            "text/plain": [
              "True"
            ]
          },
          "metadata": {
            "tags": []
          },
          "execution_count": 12
        }
      ]
    },
    {
      "cell_type": "markdown",
      "metadata": {
        "id": "-FF27L38SPKJ"
      },
      "source": [
        "<strong style=\"color:RoyalBlue\">Expected output:</strong>\n",
        "\n",
        "<pre>\n",
        "True\n",
        "</pre>"
      ]
    },
    {
      "cell_type": "markdown",
      "metadata": {
        "id": "ocnmH-tQSPKK"
      },
      "source": [
        "Now that we have <code>in</code> and <code>any()</code>, we have everything we need to \"judge a location by its cover.\" Let's wrap up this exercise.\n",
        "\n",
        "#### F.) Give each location in Outer London a first impression based on its name. Combine <code style=\"color:steelblue\">if</code> and <code style=\"color:steelblue\">for</code> statements. For each location in Outer London...\n",
        "* **If** its name has <code style=\"color:steelblue\">'Farm'</code>, <code style=\"color:steelblue\">'Park'</code>, <code style=\"color:steelblue\">'Hill'</code>, or <code style=\"color:steelblue\">'Green'</code> in it, print:\n",
        "\n",
        "<pre style=\"color:steelblue\">{<strong>name</strong>} sounds pleasant.</pre>\n",
        "\n",
        "* **Else If** its name has <code style=\"color:steelblue\">'Royal'</code>, <code style=\"color:steelblue\">'Queen'</code>, or <code style=\"color:steelblue\">'King'</code> in it, print:\n",
        "\n",
        "<pre style=\"color:steelblue\">{<strong>name</strong>} sounds grand.</pre>\n",
        "    \n",
        "* If its name doesn't sound pleasant or grand, just ignore it.\n",
        "* **Tip:** If you want to check if any word from a list is found in a string, you can use <code style=\"color:steelblue\">any()</code>, like so:\n",
        "\n",
        "<pre style=\"color:steelblue\">\n",
        "any( word in name for word in <strong>list_of_words</strong> )\n",
        "</pre>"
      ]
    },
    {
      "cell_type": "code",
      "metadata": {
        "id": "CncqnqkdSPKK",
        "outputId": "57cb1649-164f-4001-c474-e7b86fd25cf4",
        "colab": {
          "base_uri": "https://localhost:8080/",
          "height": 208
        }
      },
      "source": [
        "pleasant_sounding = ['Farm', 'Park', 'Hill', 'Green']\n",
        "royal_sounding = ['Royal', 'Queen', 'King']\n",
        "\n",
        "# Print first impression of each location in Outer London based on its names\n",
        "for name in location_dict['Outer London']:\n",
        "  if any(word in name for word in pleasant_sounding):\n",
        "    print ('{} sounds pleasant.'.format(name))\n",
        "  elif any (word in name for word in royal_sounding):\n",
        "    print ('{} sounds grand.'.format(name))\n",
        "\n",
        "\n"
      ],
      "execution_count": null,
      "outputs": [
        {
          "output_type": "stream",
          "text": [
            "Dollis Hill sounds pleasant.\n",
            "Wembley Park sounds pleasant.\n",
            "Queen's Park sounds pleasant.\n",
            "Kingsbury sounds grand.\n",
            "Brent Park sounds pleasant.\n",
            "Kensal Green sounds pleasant.\n",
            "Park Royal sounds pleasant.\n",
            "Woodford Green sounds pleasant.\n",
            "Seven Kings sounds grand.\n",
            "Gants Hill sounds pleasant.\n",
            "Newbury Park sounds pleasant.\n"
          ],
          "name": "stdout"
        }
      ]
    },
    {
      "cell_type": "markdown",
      "metadata": {
        "id": "DFnrTz_JSPKM"
      },
      "source": [
        "<strong style=\"color:RoyalBlue\">Expected output:</strong>\n",
        "\n",
        "<pre>\n",
        "Brent Park sounds pleasant.\n",
        "Dollis Hill sounds pleasant.\n",
        "Kensal Green sounds pleasant.\n",
        "Kingsbury sounds grand.\n",
        "Queen's Park sounds pleasant.\n",
        "Wembley Park sounds pleasant.\n",
        "Park Royal sounds pleasant.\n",
        "Seven Kings sounds grand.\n",
        "Gants Hill sounds pleasant.\n",
        "Woodford Green sounds pleasant.\n",
        "Newbury Park sounds pleasant.\n",
        "</pre>"
      ]
    },
    {
      "cell_type": "markdown",
      "metadata": {
        "id": "_7zdkYwySPKM"
      },
      "source": [
        "## <span style=\"color:RoyalBlue\">Exercise 3.3 - Pleasant Comprehensions</span>\n",
        "\n",
        "#### A.) Using a list comprehension, create a new list called <code style=\"color:steelblue\">pleasant_locations</code>.\n",
        "* It should contain locations in Outer London that are <code style=\"color:steelblue\">pleasant_sounding</code>.\n",
        "* Then print the list.\n",
        "* **Tip:** To check if any word from a list is found in a string, you can use <code style=\"color:steelblue\">any()</code>. See <span style=\"color:RoyalBlue\">Exercise 3.2</span> if you need a reminder."
      ]
    },
    {
      "cell_type": "code",
      "metadata": {
        "id": "b2q3ZHqPSPKM",
        "outputId": "c70655bb-ebf7-458c-bc70-8cb4e7ebb84b",
        "colab": {
          "base_uri": "https://localhost:8080/",
          "height": 35
        }
      },
      "source": [
        "# Create pleasant_locations list using a list comprehension\n",
        "pleasant_locations = [name for name in location_dict['Outer London'] if any(word in name for word in pleasant_sounding)]\n",
        "\n",
        "# Print the pleasant-sounding locations\n",
        "print (pleasant_locations)\n",
        "\n",
        "\n"
      ],
      "execution_count": null,
      "outputs": [
        {
          "output_type": "stream",
          "text": [
            "['Dollis Hill', 'Wembley Park', \"Queen's Park\", 'Brent Park', 'Kensal Green', 'Park Royal', 'Woodford Green', 'Gants Hill', 'Newbury Park']\n"
          ],
          "name": "stdout"
        }
      ]
    },
    {
      "cell_type": "markdown",
      "metadata": {
        "id": "iqWnkQzASPKO"
      },
      "source": [
        "<strong style=\"color:RoyalBlue\">Expected output:</strong>\n",
        "\n",
        "<pre>\n",
        "['Brent Park', 'Dollis Hill', 'Kensal Green', \"Queen's Park\", 'Wembley Park', 'Park Royal', 'Gants Hill', 'Woodford Green', 'Newbury Park']\n",
        "</pre>"
      ]
    },
    {
      "cell_type": "markdown",
      "metadata": {
        "id": "WealOrIkSPKO"
      },
      "source": [
        "#### B.) Print the number pleasant-sounding locations we have."
      ]
    },
    {
      "cell_type": "code",
      "metadata": {
        "scrolled": true,
        "id": "f8P7B6fWSPKO",
        "outputId": "3dd818a3-5763-4b58-ee5d-81b4e2387797",
        "colab": {
          "base_uri": "https://localhost:8080/",
          "height": 35
        }
      },
      "source": [
        "# Print number of pleasant-sounding locations\n",
        "print (len(pleasant_locations))"
      ],
      "execution_count": null,
      "outputs": [
        {
          "output_type": "stream",
          "text": [
            "9\n"
          ],
          "name": "stdout"
        }
      ]
    },
    {
      "cell_type": "markdown",
      "metadata": {
        "id": "FS64Wzz_SPKQ"
      },
      "source": [
        "<strong style=\"color:RoyalBlue\">Expected output:</strong>\n",
        "\n",
        "<pre>\n",
        "9\n",
        "</pre>"
      ]
    },
    {
      "cell_type": "markdown",
      "metadata": {
        "id": "Rsbbz77oSPKQ"
      },
      "source": [
        "## <span style=\"color:RoyalBlue\">Exercise 3.4 - Functional Filters</span>\n",
        "\n",
        "For the final exercise of this module, we're going to practice writing functions.\n",
        "\n",
        "#### A.) Write a function called <code style=\"color:steelblue\">filter_locations</code> that takes two arguments:\n",
        "1. <code style=\"color:steelblue\">location_list</code>\n",
        "2. <code style=\"color:steelblue\">words_list</code>\n",
        "\n",
        "The function should return the list of names in <code style=\"color:steelblue\">location_list</code> that have any word in <code style=\"color:steelblue\">words_list</code>.\n",
        "* **Tip:** For help with the code block, see your answer in <span style=\"color:RoyalBlue\">Exercise 3.3</span>."
      ]
    },
    {
      "cell_type": "code",
      "metadata": {
        "id": "nSDLzC_6SPKQ"
      },
      "source": [
        "def filter_locations (location_list, words_list):\n",
        "  return [name for name in location_list if any(word in name for word in words_list)]"
      ],
      "execution_count": null,
      "outputs": []
    },
    {
      "cell_type": "code",
      "metadata": {
        "id": "YYKQO3Jx_x1x"
      },
      "source": [
        "def filter_locations(locations_list, words_list):\n",
        "  return [name for name in location_list if any(word in name for word in words_list)]"
      ],
      "execution_count": null,
      "outputs": []
    },
    {
      "cell_type": "markdown",
      "metadata": {
        "id": "zuHAjxbfSPKT"
      },
      "source": [
        "Next, let's test that function. \n",
        "\n",
        "#### B.) Create a new <code style=\"color:steelblue\">pleasant_locations</code> list using the function you just wrote.\n",
        "* Pass in the list of Outer London locations and the list of pleasant-sounding words.\n",
        "* You should get the same locations that you got in <span style=\"color:RoyalBlue\">Exercise 3.3</span>.\n",
        "* Print the new list."
      ]
    },
    {
      "cell_type": "code",
      "metadata": {
        "id": "xve4RvxDSPKT",
        "outputId": "963eeea0-1741-4f2f-f577-546caaac60e0",
        "colab": {
          "base_uri": "https://localhost:8080/",
          "height": 35
        }
      },
      "source": [
        "# Create pleasant_locations using filter_locations()\n",
        "pleasant_locations = filter_locations (location_dict['Outer London'], pleasant_sounding)\n",
        "\n",
        "# Print list of pleasant-sounding locations\n",
        "print (pleasant_locations)\n"
      ],
      "execution_count": null,
      "outputs": [
        {
          "output_type": "stream",
          "text": [
            "['Dollis Hill', 'Wembley Park', \"Queen's Park\", 'Brent Park', 'Kensal Green', 'Park Royal', 'Woodford Green', 'Gants Hill', 'Newbury Park']\n"
          ],
          "name": "stdout"
        }
      ]
    },
    {
      "cell_type": "markdown",
      "metadata": {
        "id": "uQRNNrTtSPKU"
      },
      "source": [
        "<strong style=\"color:RoyalBlue\">Expected output:</strong>\n",
        "\n",
        "<pre>\n",
        "['Brent Park', 'Dollis Hill', 'Kensal Green', \"Queen's Park\", 'Wembley Park', 'Park Royal', 'Gants Hill', 'Woodford Green', 'Newbury Park']\n",
        "</pre>"
      ]
    },
    {
      "cell_type": "markdown",
      "metadata": {
        "id": "LmknFtzISPKV"
      },
      "source": [
        "#### C.) Next, let's use this handy function to create a <code style=\"color:steelblue\">grand_locations</code> list for locations that sound grand.\n",
        "* Pass in the list of Outer London locations and the list of grand-sounding words.\n",
        "* Print the new list and confirm the expected output"
      ]
    },
    {
      "cell_type": "code",
      "metadata": {
        "id": "1aScp_3MSPKV",
        "outputId": "66d2b67f-08f1-4c55-dd51-c27fbe711d71",
        "colab": {
          "base_uri": "https://localhost:8080/",
          "height": 35
        }
      },
      "source": [
        "# Create grand_locations using filter_locations()\n",
        "grand_locations = filter_locations (location_dict['Outer London'], royal_sounding)\n",
        "\n",
        "# Print list of grand-sounding locations\n",
        "print (grand_locations)\n"
      ],
      "execution_count": null,
      "outputs": [
        {
          "output_type": "stream",
          "text": [
            "[\"Queen's Park\", 'Kingsbury', 'Park Royal', 'Seven Kings']\n"
          ],
          "name": "stdout"
        }
      ]
    },
    {
      "cell_type": "markdown",
      "metadata": {
        "id": "vsynjxg3SPKW"
      },
      "source": [
        "<strong style=\"color:RoyalBlue\">Expected output:</strong>\n",
        "\n",
        "<pre>\n",
        "['Kingsbury', \"Queen's Park\", 'Park Royal', 'Seven Kings']\n",
        "</pre>"
      ]
    },
    {
      "cell_type": "markdown",
      "metadata": {
        "id": "UzqL38R7SPKX"
      },
      "source": [
        "Awesome, are there any locations in both lists?\n",
        "\n",
        "#### D.) Display the locations in both the <code style=\"color:steelblue\">pleasant_locations</code> and <code style=\"color:steelblue\">grand_locations</code> lists.\n",
        "* You can compare these lists manually because they are short, but try using <code style=\"color:steelblue\">sets</code> and the <code style=\"color:steelblue\">.intersection()</code> function (or <code style=\"color:steelblue\">&</code> operator)!"
      ]
    },
    {
      "cell_type": "code",
      "metadata": {
        "id": "Ry2KnvorSPKX",
        "outputId": "ca25a18d-ea3f-409d-c162-49fdac8ef8fd",
        "colab": {
          "base_uri": "https://localhost:8080/",
          "height": 35
        }
      },
      "source": [
        "# Display locations that sound pleasant and grand\n",
        "set(grand_locations) & set(pleasant_locations)"
      ],
      "execution_count": null,
      "outputs": [
        {
          "output_type": "execute_result",
          "data": {
            "text/plain": [
              "{'Park Royal', \"Queen's Park\"}"
            ]
          },
          "metadata": {
            "tags": []
          },
          "execution_count": 16
        }
      ]
    },
    {
      "cell_type": "markdown",
      "metadata": {
        "id": "6wUaHEhYSPKY"
      },
      "source": [
        "<strong style=\"color:RoyalBlue\">Expected output:</strong>\n",
        "\n",
        "<pre>\n",
        "{'Park Royal', \"Queen's Park\"}\n",
        "</pre>"
      ]
    },
    {
      "cell_type": "markdown",
      "metadata": {
        "id": "DONiNzC4SPKY"
      },
      "source": [
        "Great, we'll start with these for our visit. As a side note, notice how Python automatically used double quotes to enclose <code>\"Queen's Park\"</code> so that you don't have to worry about escaping the apostrophe.\n",
        "\n",
        "#### The mission continues in the next module...\n",
        "\n",
        "In this module, we filtered our lists of locations down to two: Park Royal and Queen's Park. In the next module, we'll visit Park Royal and talk with some local businesses there.*"
      ]
    }
  ]
}