{
  "cells": [
    {
      "cell_type": "markdown",
      "metadata": {
        "id": "view-in-github",
        "colab_type": "text"
      },
      "source": [
        "<a href=\"https://colab.research.google.com/github/optimalMachine/EliteDataScienceCourse/blob/master/2_Workbook_Data_Structures.ipynb\" target=\"_parent\"><img src=\"https://colab.research.google.com/assets/colab-badge.svg\" alt=\"Open In Colab\"/></a>"
      ]
    },
    {
      "cell_type": "markdown",
      "metadata": {
        "id": "AxQ8K1e0SB_I"
      },
      "source": [
        "#### COMPANION WORKBOOK\n",
        "\n",
        "# Data Structures\n",
        "\n",
        "To make the most out of this program, we strongly recommend you to:\n",
        "1. First practice writing and implementing all of the code from Coding Section of the online module.\n",
        "2. Then, freely experiment with and explore any interesting or confusing concepts. Simply insert new code cells and then use the help of Google and official documentation.\n",
        "3. Finally, tackle all of the exercises at the end. They will help you tie everything together and **learn in context.**\n",
        "\n",
        "#### <span style=\"color:#555\">MODULE CODE SANDBOX</span>\n",
        "\n",
        "Use this space to practice writing and implementing all of the code from Coding Section of the online module. Insert new code cells as needed, and feel free to write notes to yourself in Markdown."
      ]
    },
    {
      "cell_type": "markdown",
      "metadata": {
        "id": "V1zkhY4gSB_J"
      },
      "source": [
        "## I. Lists are mutable sequences of objects."
      ]
    },
    {
      "cell_type": "code",
      "execution_count": 1,
      "metadata": {
        "colab": {
          "base_uri": "https://localhost:8080/"
        },
        "id": "ledeoihpSB_K",
        "outputId": "acb53978-2765-453b-b554-74d3bee08c48"
      },
      "outputs": [
        {
          "output_type": "stream",
          "name": "stdout",
          "text": [
            "[-1, 2, 3, 4]\n",
            "<class 'list'>\n"
          ]
        }
      ],
      "source": [
        "integer_list = [-1,2,3,4]\n",
        "print (integer_list)\n",
        "print (type(integer_list))"
      ]
    },
    {
      "cell_type": "code",
      "execution_count": 2,
      "metadata": {
        "colab": {
          "base_uri": "https://localhost:8080/"
        },
        "id": "usJ4-tN3SB_K",
        "outputId": "a2a83cb9-76c9-4733-ff67-a0d8ff895611"
      },
      "outputs": [
        {
          "output_type": "stream",
          "name": "stdout",
          "text": [
            "['hello', 1, 'world', 2, 3.0]\n"
          ]
        }
      ],
      "source": [
        "my_list = ['hello', 1, 'world', 2, 3.0]\n",
        "print (my_list)"
      ]
    },
    {
      "cell_type": "code",
      "execution_count": 3,
      "metadata": {
        "colab": {
          "base_uri": "https://localhost:8080/"
        },
        "id": "BDkK13AWSB_K",
        "outputId": "79177e22-fb45-4e6f-86ac-c2d468744890"
      },
      "outputs": [
        {
          "output_type": "stream",
          "name": "stdout",
          "text": [
            "hello\n",
            "1\n"
          ]
        }
      ],
      "source": [
        "print (my_list[0])\n",
        "print (my_list[1])"
      ]
    },
    {
      "cell_type": "code",
      "source": [
        "print (my_list[-1])"
      ],
      "metadata": {
        "colab": {
          "base_uri": "https://localhost:8080/"
        },
        "id": "qbbfBmnAxfzt",
        "outputId": "992e46af-ec02-4e17-b1b6-2db39a8e8425"
      },
      "execution_count": 4,
      "outputs": [
        {
          "output_type": "stream",
          "name": "stdout",
          "text": [
            "3.0\n"
          ]
        }
      ]
    },
    {
      "cell_type": "code",
      "source": [
        "print (my_list[:-1])"
      ],
      "metadata": {
        "colab": {
          "base_uri": "https://localhost:8080/"
        },
        "id": "I2Jd-Bfyxf2M",
        "outputId": "5113563c-b8bf-4eef-f090-1f8c57e1eae1"
      },
      "execution_count": 5,
      "outputs": [
        {
          "output_type": "stream",
          "name": "stdout",
          "text": [
            "['hello', 1, 'world', 2]\n"
          ]
        }
      ]
    },
    {
      "cell_type": "code",
      "source": [
        "print (my_list[1:-1])"
      ],
      "metadata": {
        "colab": {
          "base_uri": "https://localhost:8080/"
        },
        "id": "ctVol8nhxf4f",
        "outputId": "9e259eea-d551-4edb-8ab9-b30303516d25"
      },
      "execution_count": 6,
      "outputs": [
        {
          "output_type": "stream",
          "name": "stdout",
          "text": [
            "[1, 'world', 2]\n"
          ]
        }
      ]
    },
    {
      "cell_type": "code",
      "source": [
        "my_list.append(99)\n",
        "print (my_list)"
      ],
      "metadata": {
        "colab": {
          "base_uri": "https://localhost:8080/"
        },
        "id": "N9TWwU9C1xHN",
        "outputId": "d27cbc3c-6b5b-414f-bcb5-9274c3ec6abc"
      },
      "execution_count": 7,
      "outputs": [
        {
          "output_type": "stream",
          "name": "stdout",
          "text": [
            "['hello', 1, 'world', 2, 3.0, 99]\n"
          ]
        }
      ]
    },
    {
      "cell_type": "code",
      "source": [
        "my_list.remove(3.0)\n",
        "print (my_list)"
      ],
      "metadata": {
        "colab": {
          "base_uri": "https://localhost:8080/"
        },
        "id": "rJPqQ-NP144_",
        "outputId": "3f6035ce-6fae-40fb-e636-71ef28a04035"
      },
      "execution_count": 8,
      "outputs": [
        {
          "output_type": "stream",
          "name": "stdout",
          "text": [
            "['hello', 1, 'world', 2, 99]\n"
          ]
        }
      ]
    },
    {
      "cell_type": "markdown",
      "metadata": {
        "id": "XlFnSa1DSB_K"
      },
      "source": [
        "## II. Tuples are immutable sequences of objects."
      ]
    },
    {
      "cell_type": "code",
      "execution_count": 8,
      "metadata": {
        "id": "N8Lf23D1SB_L"
      },
      "outputs": [],
      "source": [
        ""
      ]
    },
    {
      "cell_type": "code",
      "execution_count": 8,
      "metadata": {
        "id": "8w-jYhsfSB_L"
      },
      "outputs": [],
      "source": [
        ""
      ]
    },
    {
      "cell_type": "code",
      "execution_count": 8,
      "metadata": {
        "id": "t7be8Il5SB_L"
      },
      "outputs": [],
      "source": [
        ""
      ]
    },
    {
      "cell_type": "markdown",
      "metadata": {
        "id": "MfNxvFtwSB_L"
      },
      "source": [
        "## III. Sets are collections of unique objects."
      ]
    },
    {
      "cell_type": "code",
      "execution_count": 8,
      "metadata": {
        "id": "aej8aOe1SB_L"
      },
      "outputs": [],
      "source": [
        ""
      ]
    },
    {
      "cell_type": "code",
      "execution_count": 8,
      "metadata": {
        "id": "xEaFozarSB_L"
      },
      "outputs": [],
      "source": [
        ""
      ]
    },
    {
      "cell_type": "code",
      "execution_count": 8,
      "metadata": {
        "id": "DTaVMV4gSB_L"
      },
      "outputs": [],
      "source": [
        ""
      ]
    },
    {
      "cell_type": "markdown",
      "metadata": {
        "id": "u_xryJC3SB_M"
      },
      "source": [
        "## IV. Dictionaries are collections of key-value pairs."
      ]
    },
    {
      "cell_type": "code",
      "execution_count": 8,
      "metadata": {
        "id": "NDoqHT2HSB_M"
      },
      "outputs": [],
      "source": [
        ""
      ]
    },
    {
      "cell_type": "code",
      "execution_count": 8,
      "metadata": {
        "id": "kRg3wN-mSB_M"
      },
      "outputs": [],
      "source": [
        ""
      ]
    },
    {
      "cell_type": "code",
      "execution_count": 8,
      "metadata": {
        "id": "-t6xKSyVSB_M"
      },
      "outputs": [],
      "source": [
        ""
      ]
    },
    {
      "cell_type": "markdown",
      "metadata": {
        "id": "7zlPeXsLSB_M"
      },
      "source": [
        "#### <span style=\"color:#555\">EXERCISES</span>\n",
        "\n",
        "Complete each of the following exercises.\n",
        "\n",
        "## <span style=\"color:RoyalBlue\">Exercise 2.1 - Listing the Locations</span>\n",
        "\n",
        "#### In the previous module...\n",
        "\n",
        "In the previous module, you learned about the training mission: a visit to London. You also made sure you had enough water for the trip by performing calculations. Now, it's time to start planning the locations in London to visit! Before we start, let's import lists of locations by borough. \n",
        "* These are stored in text files that HQ has provided for you. \n",
        "* Python has a variety of **input/output** methods. We won't cover them here, but you can learn more about them in the [documentation](https://docs.python.org/3/tutorial/inputoutput.html).\n",
        "\n",
        "#### A.) First, run this code. This will read lists of locations by borough."
      ]
    },
    {
      "cell_type": "code",
      "source": [
        "from google.colab import drive\n",
        "drive.mount('/content/drive')"
      ],
      "metadata": {
        "colab": {
          "base_uri": "https://localhost:8080/"
        },
        "id": "P37KYyonW5v5",
        "outputId": "a277e808-f947-4157-9cd5-238817d4812f"
      },
      "execution_count": 9,
      "outputs": [
        {
          "output_type": "stream",
          "name": "stdout",
          "text": [
            "Mounted at /content/drive\n"
          ]
        }
      ]
    },
    {
      "cell_type": "code",
      "execution_count": 10,
      "metadata": {
        "id": "SPJAkuaKSB_M"
      },
      "outputs": [],
      "source": [
        "# Read lists of locations (simply run this code block)\n",
        "with open('/content/drive/MyDrive/Colab Notebooks/Python for Data Science/project_files/brent.txt', 'r') as f:\n",
        "    brent = f.read().splitlines()\n",
        "    \n",
        "with open('/content/drive/MyDrive/Colab Notebooks/Python for Data Science/project_files/camden.txt', 'r') as f:\n",
        "    camden = f.read().splitlines()\n",
        "\n",
        "with open('/content/drive/MyDrive/Colab Notebooks/Python for Data Science/project_files/redbridge.txt', 'r') as f:\n",
        "    redbridge = f.read().splitlines()\n",
        "\n",
        "with open('/content/drive/MyDrive/Colab Notebooks/Python for Data Science/project_files/southwark.txt', 'r') as f:\n",
        "    southwark = f.read().splitlines()"
      ]
    },
    {
      "cell_type": "markdown",
      "metadata": {
        "id": "A2qzy8PLSB_N"
      },
      "source": [
        "Note that when text files are read using the <code style=\"color:steelblue\">splitlines()</code> function, the resulting object is a list.\n",
        "\n",
        "So the four objects you just created from the files - <code style=\"color:steelblue\">brent</code>, <code style=\"color:steelblue\">camden</code>, <code style=\"color:steelblue\">redbridge</code>, and <code style=\"color:steelblue\">southwark</code> - are all lists.\n",
        "\n",
        "#### B.) Confirm that the new objects are all Python lists."
      ]
    },
    {
      "cell_type": "code",
      "execution_count": 11,
      "metadata": {
        "id": "vZFT23KjSB_N",
        "colab": {
          "base_uri": "https://localhost:8080/"
        },
        "outputId": "f454a515-9ee5-41e1-98cb-4c985e60abcf"
      },
      "outputs": [
        {
          "output_type": "stream",
          "name": "stdout",
          "text": [
            "<class 'list'>\n",
            "<class 'list'>\n",
            "<class 'list'>\n",
            "<class 'list'>\n"
          ]
        }
      ],
      "source": [
        "# Display the classes of your new objects\n",
        "print (type(brent))\n",
        "print (type(camden))\n",
        "print (type(redbridge))\n",
        "print (type(southwark))"
      ]
    },
    {
      "cell_type": "markdown",
      "metadata": {
        "id": "UXsEYCQTSB_N"
      },
      "source": [
        "Let's start exploring this data.\n",
        "\n",
        "#### C.) Print the first 5 locations in the Camden list."
      ]
    },
    {
      "cell_type": "code",
      "execution_count": 12,
      "metadata": {
        "id": "enM-g5jFSB_N",
        "colab": {
          "base_uri": "https://localhost:8080/"
        },
        "outputId": "a372fc90-ba89-406f-85bd-58c564833518"
      },
      "outputs": [
        {
          "output_type": "stream",
          "name": "stdout",
          "text": [
            "['Chalk Farm', 'Dartmouth Park', 'Fitzrovia', 'Frognal', 'Bloomsbury']\n"
          ]
        }
      ],
      "source": [
        "# Print the first 5 locations in Camden\n",
        "print (camden[0:5])"
      ]
    },
    {
      "cell_type": "markdown",
      "metadata": {
        "id": "CLYFCV0ySB_N"
      },
      "source": [
        "<strong style=\"color:RoyalBlue\">Expected output:</strong>\n",
        "\n",
        "<pre>['Chalk Farm', 'Dartmouth Park', 'Fitzrovia', 'Frognal', 'Bloomsbury']</pre>"
      ]
    },
    {
      "cell_type": "markdown",
      "metadata": {
        "id": "9UvExXTRSB_N"
      },
      "source": [
        "Next, we need to know how many locations are in each borough. \n",
        "\n",
        "#### D.) Print the number of locations in each list.\n",
        "* Which borough has the most locations?\n",
        "* Which borough has the fewest locations?"
      ]
    },
    {
      "cell_type": "code",
      "execution_count": 13,
      "metadata": {
        "id": "Jr-KB7ScSB_N",
        "colab": {
          "base_uri": "https://localhost:8080/"
        },
        "outputId": "d058e124-0a90-46a0-bc0e-126da3de3b58"
      },
      "outputs": [
        {
          "output_type": "stream",
          "name": "stdout",
          "text": [
            "19\n",
            "22\n",
            "18\n",
            "15\n"
          ]
        }
      ],
      "source": [
        "# Print length of each list\n",
        "print (len(brent))\n",
        "print (len(camden))\n",
        "print (len(redbridge))\n",
        "print (len(southwark))"
      ]
    },
    {
      "cell_type": "markdown",
      "metadata": {
        "id": "7w3QdsjuSB_O"
      },
      "source": [
        "<strong style=\"color:RoyalBlue\">Expected output:</strong>\n",
        "<pre>\n",
        "19\n",
        "22\n",
        "18\n",
        "15\n",
        "</pre>\n",
        "\n",
        "*Camden has the most locations and Southwark has the fewest.*"
      ]
    },
    {
      "cell_type": "markdown",
      "metadata": {
        "id": "emnE_MsCSB_O"
      },
      "source": [
        "#### E.) Next, HQ wants to check a few locations. Do the following:\n",
        "* **Print <code style=\"color:steelblue\">True</code> if <code>'Newbury Park'</code> is in Redbridge or <code style=\"color:steelblue\">False</code> if it's not.**\n",
        "* **Print <code style=\"color:steelblue\">True</code> if <code>'Peckham'</code> is in Brent or <code style=\"color:steelblue\">False</code> if it's not.**"
      ]
    },
    {
      "cell_type": "code",
      "execution_count": 14,
      "metadata": {
        "id": "Ga8UV4UWSB_O",
        "colab": {
          "base_uri": "https://localhost:8080/"
        },
        "outputId": "826bb982-a2fe-4566-e893-29af796cf40b"
      },
      "outputs": [
        {
          "output_type": "stream",
          "name": "stdout",
          "text": [
            "True\n",
            "False\n"
          ]
        }
      ],
      "source": [
        "# Is 'Newbury Park' in Redbridge?\n",
        "print ('Newbury Park' in redbridge)\n",
        "\n",
        "# Is 'Peckham' in Brent?\n",
        "print ('Peckham' in brent)"
      ]
    },
    {
      "cell_type": "markdown",
      "metadata": {
        "id": "EC44199kSB_O"
      },
      "source": [
        "#### F.) Next, try printing the \"minimum\" and \"maximum\" values in the Southwark list.\n",
        "* Why do you think you get those results?\n",
        "* How do you think lists of strings are ordered?"
      ]
    },
    {
      "cell_type": "code",
      "execution_count": 15,
      "metadata": {
        "scrolled": true,
        "id": "-eynYR3ySB_O",
        "colab": {
          "base_uri": "https://localhost:8080/"
        },
        "outputId": "69ec570c-988e-4ff6-e4ea-921300a90839"
      },
      "outputs": [
        {
          "output_type": "stream",
          "name": "stdout",
          "text": [
            "Bankside\n",
            "Walworth\n"
          ]
        }
      ],
      "source": [
        "# Print minimum value in southwark\n",
        "print (min(southwark))\n",
        "\n",
        "# Print maximum value in southwark\n",
        "print (max(southwark))"
      ]
    },
    {
      "cell_type": "markdown",
      "metadata": {
        "id": "8Ei_he0wSB_O"
      },
      "source": [
        "#### G.) Finally, try printing the \"minimum\" and \"maximum\" values from all of the other 3 lists.\n",
        "* Do the results confirm your suspicions from (F)?"
      ]
    },
    {
      "cell_type": "code",
      "execution_count": 16,
      "metadata": {
        "id": "0BjONH1YSB_O",
        "colab": {
          "base_uri": "https://localhost:8080/"
        },
        "outputId": "44e275ac-f3e6-4bf8-982f-ac533d9c8f1c"
      },
      "outputs": [
        {
          "output_type": "stream",
          "name": "stdout",
          "text": [
            "brent: Alperton, Willesden\n",
            "camden: Belsize Park, West Hampstead\n",
            "redbridge: Aldborough Hatch, Woodford Green\n"
          ]
        }
      ],
      "source": [
        "# Print min/max values in brent\n",
        "print ('brent: {}, {}'.format(min(brent),max(brent)))\n",
        "\n",
        "# Print min/max values in camden\n",
        "print ('camden: {}, {}'.format(min(camden),max(camden)))\n",
        "\n",
        "# Print min/max values in redbridge\n",
        "print ('redbridge: {}, {}'.format(min(redbridge),max(redbridge)))"
      ]
    },
    {
      "cell_type": "markdown",
      "metadata": {
        "id": "aJ_JY9FBSB_P"
      },
      "source": [
        "## <span style=\"color:RoyalBlue\">Exercise 2.2 - Setting Uniques</span>\n",
        "\n",
        "Let's continue planning locations to visit for our training mission to London. Before we continue, we need to remove duplicates from our lists because we don't have time to visit the same location twice.\n",
        "\n",
        "#### A.) For each of the 4 lists of locations, print <code style=\"color:steelblue\">True</code> if it has duplicate locations and <code style=\"color:steelblue\">False</code> if it doesn't.\n",
        "* Hint: A list with duplicates will have a greater length than a set of the same locations."
      ]
    },
    {
      "cell_type": "code",
      "execution_count": 17,
      "metadata": {
        "id": "uzv7DZOpSB_P",
        "colab": {
          "base_uri": "https://localhost:8080/"
        },
        "outputId": "7621ad0b-3902-4f3a-d47c-12489be141de"
      },
      "outputs": [
        {
          "output_type": "stream",
          "name": "stdout",
          "text": [
            "False\n",
            "True\n",
            "True\n",
            "True\n"
          ]
        }
      ],
      "source": [
        "# Brent has duplicates?\n",
        "print (len(brent) > len(set(brent)))\n",
        "\n",
        "# Camden has duplicates?\n",
        "print (len(camden) > len(set(camden)))\n",
        "\n",
        "# Redbridge has duplicates?\n",
        "print (len(redbridge) > len(set(redbridge)))\n",
        "\n",
        "# Southwark has duplicates?\n",
        "print (len(southwark) > len(set(southwark)))"
      ]
    },
    {
      "cell_type": "markdown",
      "metadata": {
        "id": "sG0f0DouSB_P"
      },
      "source": [
        "<strong style=\"color:RoyalBlue\">Expected output:</strong>\n",
        "<pre>\n",
        "False\n",
        "True\n",
        "True\n",
        "True\n",
        "</pre>"
      ]
    },
    {
      "cell_type": "markdown",
      "metadata": {
        "id": "FOpNDEfYSB_P"
      },
      "source": [
        "#### B.) For the lists with duplicates, remove duplicates by converting them into sets. Then, convert them back into lists.\n",
        "* Hint: <code style=\"color:steelblue\">set()</code> and <code style=\"color:steelblue\">list()</code> are your friends."
      ]
    },
    {
      "cell_type": "code",
      "execution_count": 18,
      "metadata": {
        "id": "_xS7P7SfSB_P"
      },
      "outputs": [],
      "source": [
        "# Convert lists to sets to remove duplicates, then convert them back to lists \n",
        "camden = list(set(camden))\n",
        "redbridge = list(set(redbridge))\n",
        "southwark = list(set(southwark))"
      ]
    },
    {
      "cell_type": "markdown",
      "metadata": {
        "id": "cfbj0oDSSB_P"
      },
      "source": [
        "Great, we're now almost ready to visit the locations. \n",
        "\n",
        "But first, let's look at a simple way to store the locations in one place."
      ]
    },
    {
      "cell_type": "markdown",
      "metadata": {
        "id": "1brKqJqeSB_P"
      },
      "source": [
        "## <span style=\"color:RoyalBlue\">Exercise 2.3 - Dictionary Database</span>\n",
        "\n",
        "We're almost ready to visit the locations in London! However, it's too cumbersome to lug around the 4 different lists we created in the previous exercise.\n",
        "\n",
        "#### A.) Create a single dictionary named <code style=\"color:steelblue\">location_dict</code> for the locations in each borough.\n",
        "* Each key should be the name of the borough.\n",
        "* Their values should be the lists of unique locations you created in <span style=\"color:RoyalBlue\">Exercise 2.2</span>."
      ]
    },
    {
      "cell_type": "code",
      "execution_count": 19,
      "metadata": {
        "id": "YN-Q7c8GSB_P"
      },
      "outputs": [],
      "source": [
        "# Create location_dict\n",
        "location_dict = {\n",
        "    'Brent':brent,\n",
        "    'Camden': camden,\n",
        "    'Redbridge':redbridge,\n",
        "    'Southwark':southwark\n",
        "}\n",
        "\n"
      ]
    },
    {
      "cell_type": "markdown",
      "metadata": {
        "id": "iXGL1A1HSB_Q"
      },
      "source": [
        "Next, let's make sure the dictionary has the correct keys. \n",
        "\n",
        "#### B.) Run the cell below and check the output.\n",
        "* What do you think the code below is doing?\n",
        "* You'll learn more about <code style=\"color:steelblue\">for</code> loops in the next module."
      ]
    },
    {
      "cell_type": "code",
      "execution_count": 20,
      "metadata": {
        "id": "HzZz4S8wSB_Q",
        "colab": {
          "base_uri": "https://localhost:8080/"
        },
        "outputId": "d442a387-c51a-4edf-c87b-b64f67a57bbf"
      },
      "outputs": [
        {
          "output_type": "stream",
          "name": "stdout",
          "text": [
            "True\n",
            "True\n",
            "True\n",
            "True\n"
          ]
        }
      ],
      "source": [
        "# Run this cell\n",
        "for borough in ['Brent', 'Camden', 'Redbridge', 'Southwark']:\n",
        "    print( borough in location_dict )"
      ]
    },
    {
      "cell_type": "markdown",
      "metadata": {
        "id": "03cm-k0vSB_Q"
      },
      "source": [
        "<strong style=\"color:RoyalBlue\">Expected output:</strong>\n",
        "<pre>\n",
        "True\n",
        "True\n",
        "True\n",
        "True\n",
        "</pre>"
      ]
    },
    {
      "cell_type": "markdown",
      "metadata": {
        "id": "NgFBE2YqSB_Q"
      },
      "source": [
        "Did you get the expected output? If not, check the answer key before moving on.\n",
        "\n",
        "You've just received a message from HQ. *\"Now that you've set up your dictionary, you won't need the original lists anymore. Get rid of them and wipe them clean.\"*\n",
        "\n",
        "#### C.) Overwrite the original borough lists with <code style=\"color:steelblue\">None</code>.\n",
        "* <code style=\"color:steelblue\">None</code> is an object that denotes emptiness. It's a separate object type within Python, similar to integers, floats, etc.\n",
        "* There are different ways to approach this. See if you can do it in just one line of code! (Hint: \"unpacking\") The answer key has the solution that uses only one line of code."
      ]
    },
    {
      "cell_type": "code",
      "execution_count": 25,
      "metadata": {
        "id": "N8bF16lESB_Q"
      },
      "outputs": [],
      "source": [
        "# Wipe your original lists clean with None\n",
        "brent, camden, redbridge, southwark = None, None, None, None\n"
      ]
    },
    {
      "cell_type": "markdown",
      "metadata": {
        "id": "Q60i-N7JSB_Q"
      },
      "source": [
        "#### D.) Confirm that all of your lists were wiped successfully. Print out each one's new class/type.\n",
        "* Tip: When you overwrite a variable with a new object, it keeps the same variable name, but the object could be a completely different type of object."
      ]
    },
    {
      "cell_type": "code",
      "execution_count": 26,
      "metadata": {
        "scrolled": true,
        "id": "7jvirnlTSB_Q",
        "colab": {
          "base_uri": "https://localhost:8080/"
        },
        "outputId": "68ec5b50-83c4-47f2-f72c-7a38df7a3198"
      },
      "outputs": [
        {
          "output_type": "stream",
          "name": "stdout",
          "text": [
            "<class 'NoneType'>\n",
            "<class 'NoneType'>\n",
            "<class 'NoneType'>\n",
            "<class 'NoneType'>\n"
          ]
        }
      ],
      "source": [
        "print( type(brent) )\n",
        "print( type(camden) )\n",
        "print( type(redbridge) )\n",
        "print( type(southwark) )"
      ]
    },
    {
      "cell_type": "markdown",
      "metadata": {
        "id": "cnMHZVUNSB_Q"
      },
      "source": [
        "<strong style=\"color:RoyalBlue\">Expected output:</strong>\n",
        "<pre>\n",
        "&lt;class 'NoneType'>\n",
        "&lt;class 'NoneType'>\n",
        "&lt;class 'NoneType'>\n",
        "&lt;class 'NoneType'>\n",
        "</pre>"
      ]
    },
    {
      "cell_type": "markdown",
      "metadata": {
        "id": "t6PLjGppSB_R"
      },
      "source": [
        "Now, we want to split our visit to London into two trips: one for Inner London and one for Outer London.\n",
        "\n",
        "#### E.) Add two new items to your dictionary:\n",
        "1. **Key:** <code style=\"color:steelblue\">'Inner London'</code>... **Value:** All locations in <code style=\"color:steelblue\">'Camden'</code> and <code style=\"color:steelblue\">'Southwark'</code>.\n",
        "2. **Key:** <code style=\"color:steelblue\">'Outer London'</code>... **Value:** All locations in <code style=\"color:steelblue\">'Brent'</code> and <code style=\"color:steelblue\">'Redbridge'</code>.\n",
        "\n",
        "Since you got rid of your original lists, you'll have to use the values you've already stored in your dictionary."
      ]
    },
    {
      "cell_type": "code",
      "execution_count": 22,
      "metadata": {
        "id": "Hoi9q4nsSB_R"
      },
      "outputs": [],
      "source": [
        "# Create a new key-value pair for 'Inner London'\n",
        "\n",
        "\n",
        "\n",
        "# Create a new key-value pair for 'Outer London'\n"
      ]
    },
    {
      "cell_type": "markdown",
      "metadata": {
        "id": "3Ir2oLY-SB_R"
      },
      "source": [
        "Finally, let's just check that we have the right number of locations for each trip.\n",
        "* You should have 32 for Inner London\n",
        "* You should have 35 for Outer London\n",
        "\n",
        "#### F.) Run the cell below and check that you get the expected output.\n",
        "* The <code>len</code> function counts the number of elements in a list-like object. You'll see this pop up many times throughout this program."
      ]
    },
    {
      "cell_type": "code",
      "execution_count": 23,
      "metadata": {
        "id": "eAFunmrYSB_R",
        "colab": {
          "base_uri": "https://localhost:8080/",
          "height": 182
        },
        "outputId": "41e8fc49-ad6e-48a1-be0e-61898aa9ec99"
      },
      "outputs": [
        {
          "output_type": "error",
          "ename": "KeyError",
          "evalue": "ignored",
          "traceback": [
            "\u001b[0;31m---------------------------------------------------------------------------\u001b[0m",
            "\u001b[0;31mKeyError\u001b[0m                                  Traceback (most recent call last)",
            "\u001b[0;32m<ipython-input-23-bd1390c2de08>\u001b[0m in \u001b[0;36m<module>\u001b[0;34m()\u001b[0m\n\u001b[0;32m----> 1\u001b[0;31m \u001b[0mprint\u001b[0m\u001b[0;34m(\u001b[0m \u001b[0mlen\u001b[0m\u001b[0;34m(\u001b[0m\u001b[0mlocation_dict\u001b[0m\u001b[0;34m[\u001b[0m\u001b[0;34m'Inner London'\u001b[0m\u001b[0;34m]\u001b[0m\u001b[0;34m)\u001b[0m \u001b[0;34m)\u001b[0m\u001b[0;34m\u001b[0m\u001b[0;34m\u001b[0m\u001b[0m\n\u001b[0m\u001b[1;32m      2\u001b[0m \u001b[0mprint\u001b[0m\u001b[0;34m(\u001b[0m \u001b[0mlen\u001b[0m\u001b[0;34m(\u001b[0m\u001b[0mlocation_dict\u001b[0m\u001b[0;34m[\u001b[0m\u001b[0;34m'Outer London'\u001b[0m\u001b[0;34m]\u001b[0m\u001b[0;34m)\u001b[0m \u001b[0;34m)\u001b[0m\u001b[0;34m\u001b[0m\u001b[0;34m\u001b[0m\u001b[0m\n",
            "\u001b[0;31mKeyError\u001b[0m: 'Inner London'"
          ]
        }
      ],
      "source": [
        "print( len(location_dict['Inner London']) )\n",
        "print( len(location_dict['Outer London']) )"
      ]
    },
    {
      "cell_type": "markdown",
      "metadata": {
        "id": "EwIkbaphSB_R"
      },
      "source": [
        "<strong style=\"color:RoyalBlue\">Expected output:</strong>\n",
        "<pre>\n",
        "32\n",
        "35\n",
        "</pre>"
      ]
    },
    {
      "cell_type": "markdown",
      "metadata": {
        "id": "vtJ7ioxfSB_R"
      },
      "source": [
        "If you don't have the right number of locations, doublecheck that you removed duplicates and that you're concatenating the correct lists. You can also check the answer key for the solution.\n",
        "\n",
        "#### G.) Once you have the right number of locations, let's save this object so we can use it in the next module. Run the cell below.\n",
        "* We'll use a Python built-in package called <code style=\"color:steelblue\">pickle</code> to do so.\n",
        "* Pickle saves an entire object in a file on your computer."
      ]
    },
    {
      "cell_type": "code",
      "execution_count": null,
      "metadata": {
        "id": "SbCMQZy4SB_R"
      },
      "outputs": [],
      "source": [
        "import pickle\n",
        "\n",
        "# Save object to disk\n",
        "with open('location_dict.pkl', 'wb') as f:\n",
        "    pickle.dump(location_dict, f)"
      ]
    },
    {
      "cell_type": "markdown",
      "metadata": {
        "id": "BBRTLVwfSB_R"
      },
      "source": [
        "#### The mission continues in the next module...\n",
        "\n",
        "Now you have a dictionary of locations in London by borough. In the next module, we'll look through the locations and pick one to start with."
      ]
    }
  ],
  "metadata": {
    "anaconda-cloud": {},
    "kernelspec": {
      "display_name": "Python 3",
      "language": "python",
      "name": "python3"
    },
    "language_info": {
      "codemirror_mode": {
        "name": "ipython",
        "version": 3
      },
      "file_extension": ".py",
      "mimetype": "text/x-python",
      "name": "python",
      "nbconvert_exporter": "python",
      "pygments_lexer": "ipython3",
      "version": "3.6.8"
    },
    "colab": {
      "name": "2 - Workbook - Data Structures.ipynb",
      "provenance": [],
      "collapsed_sections": [],
      "include_colab_link": true
    }
  },
  "nbformat": 4,
  "nbformat_minor": 0
}