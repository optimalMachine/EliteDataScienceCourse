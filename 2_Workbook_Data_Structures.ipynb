{
  "nbformat": 4,
  "nbformat_minor": 0,
  "metadata": {
    "anaconda-cloud": {},
    "kernelspec": {
      "display_name": "Python 3",
      "language": "python",
      "name": "python3"
    },
    "language_info": {
      "codemirror_mode": {
        "name": "ipython",
        "version": 3
      },
      "file_extension": ".py",
      "mimetype": "text/x-python",
      "name": "python",
      "nbconvert_exporter": "python",
      "pygments_lexer": "ipython3",
      "version": "3.6.8"
    },
    "colab": {
      "name": "2 - Workbook - Data Structures.ipynb",
      "provenance": [],
      "include_colab_link": true
    }
  },
  "cells": [
    {
      "cell_type": "markdown",
      "metadata": {
        "id": "view-in-github",
        "colab_type": "text"
      },
      "source": [
        "<a href=\"https://colab.research.google.com/github/optimalMachine/EliteDataScienceCourse/blob/master/2_Workbook_Data_Structures.ipynb\" target=\"_parent\"><img src=\"https://colab.research.google.com/assets/colab-badge.svg\" alt=\"Open In Colab\"/></a>"
      ]
    },
    {
      "cell_type": "markdown",
      "metadata": {
        "id": "osPDiEOBbHB_"
      },
      "source": [
        "#### COMPANION WORKBOOK\n",
        "\n",
        "# Data Structures\n",
        "\n",
        "To make the most out of this program, we strongly recommend you to:\n",
        "1. First practice writing and implementing all of the code from Coding Section of the online module.\n",
        "2. Then, freely experiment with and explore any interesting or confusing concepts. Simply insert new code cells and then use the help of Google and official documentation.\n",
        "3. Finally, tackle all of the exercises at the end. They will help you tie everything together and **learn in context.**\n",
        "\n",
        "#### <span style=\"color:#555\">MODULE CODE SANDBOX</span>\n",
        "\n",
        "Use this space to practice writing and implementing all of the code from Coding Section of the online module. Insert new code cells as needed, and feel free to write notes to yourself in Markdown."
      ]
    },
    {
      "cell_type": "markdown",
      "metadata": {
        "id": "86e0yMzVbHCB"
      },
      "source": [
        "## I. Lists are mutable sequences of objects."
      ]
    },
    {
      "cell_type": "markdown",
      "metadata": {
        "id": "EvXkgvCLbHCC"
      },
      "source": [
        "## II. Tuples are immutable sequences of objects."
      ]
    },
    {
      "cell_type": "code",
      "metadata": {
        "id": "KGCDFpYrbHCC"
      },
      "source": [
        ""
      ],
      "execution_count": null,
      "outputs": []
    },
    {
      "cell_type": "code",
      "metadata": {
        "id": "ZaPDfk8XbHCC"
      },
      "source": [
        ""
      ],
      "execution_count": null,
      "outputs": []
    },
    {
      "cell_type": "code",
      "metadata": {
        "id": "FdZDMmJ4bHCD"
      },
      "source": [
        ""
      ],
      "execution_count": null,
      "outputs": []
    },
    {
      "cell_type": "markdown",
      "metadata": {
        "id": "Pu_ohTc1bHCD"
      },
      "source": [
        "## III. Sets are collections of unique objects."
      ]
    },
    {
      "cell_type": "code",
      "metadata": {
        "id": "SVNHHMLobHCD"
      },
      "source": [
        ""
      ],
      "execution_count": null,
      "outputs": []
    },
    {
      "cell_type": "code",
      "metadata": {
        "id": "-kVg1xpibHCD"
      },
      "source": [
        ""
      ],
      "execution_count": null,
      "outputs": []
    },
    {
      "cell_type": "code",
      "metadata": {
        "id": "_gXJ2oIbbHCD"
      },
      "source": [
        ""
      ],
      "execution_count": null,
      "outputs": []
    },
    {
      "cell_type": "markdown",
      "metadata": {
        "id": "5jWt5zeWbHCE"
      },
      "source": [
        "## IV. Dictionaries are collections of key-value pairs."
      ]
    },
    {
      "cell_type": "code",
      "metadata": {
        "id": "Wai6QxU_bHCE"
      },
      "source": [
        ""
      ],
      "execution_count": null,
      "outputs": []
    },
    {
      "cell_type": "code",
      "metadata": {
        "id": "jbJNVsZObHCE"
      },
      "source": [
        ""
      ],
      "execution_count": null,
      "outputs": []
    },
    {
      "cell_type": "code",
      "metadata": {
        "id": "AnuEyuSobHCE"
      },
      "source": [
        ""
      ],
      "execution_count": null,
      "outputs": []
    },
    {
      "cell_type": "markdown",
      "metadata": {
        "id": "YD4e3jDrbHCE"
      },
      "source": [
        "#### <span style=\"color:#555\">EXERCISES</span>\n",
        "\n",
        "Complete each of the following exercises.\n",
        "\n",
        "## <span style=\"color:RoyalBlue\">Exercise 2.1 - Listing the Locations</span>\n",
        "\n",
        "#### In the previous module...\n",
        "\n",
        "In the previous module, you learned about the training mission: a visit to London. You also made sure you had enough water for the trip by performing calculations. Now, it's time to start planning the locations in London to visit! Before we start, let's import lists of locations by borough. \n",
        "* These are stored in text files that HQ has provided for you. \n",
        "* Python has a variety of **input/output** methods. We won't cover them here, but you can learn more about them in the [documentation](https://docs.python.org/3/tutorial/inputoutput.html).\n",
        "\n",
        "#### A.) First, run this code. This will read lists of locations by borough."
      ]
    },
    {
      "cell_type": "code",
      "metadata": {
        "colab": {
          "base_uri": "https://localhost:8080/"
        },
        "id": "FADgHUwMpgf2",
        "outputId": "3e9c0fac-a1b1-4173-aa4a-f2ec665de169"
      },
      "source": [
        "from google.colab import drive\n",
        "drive.mount('/content/drive')"
      ],
      "execution_count": 14,
      "outputs": [
        {
          "output_type": "stream",
          "text": [
            "Drive already mounted at /content/drive; to attempt to forcibly remount, call drive.mount(\"/content/drive\", force_remount=True).\n"
          ],
          "name": "stdout"
        }
      ]
    },
    {
      "cell_type": "code",
      "metadata": {
        "id": "_2Ao1elBqAtp"
      },
      "source": [
        "# Read lists of locations (simply run this code block)\n",
        "with open('/content/drive/MyDrive/Colab Notebooks/Project_Bundle_-_Python_for_Data_Science/Python for Data Science/project_files/brent.txt', 'r') as f:\n",
        "    brent = f.read().splitlines()"
      ],
      "execution_count": 15,
      "outputs": []
    },
    {
      "cell_type": "code",
      "metadata": {
        "id": "pdFRBO_yqAwF"
      },
      "source": [
        "with open('/content/drive/MyDrive/Colab Notebooks/Project_Bundle_-_Python_for_Data_Science/Python for Data Science/project_files/camden.txt', 'r') as f:\n",
        "    camden = f.read().splitlines()"
      ],
      "execution_count": 16,
      "outputs": []
    },
    {
      "cell_type": "code",
      "metadata": {
        "id": "E8TnY-tVqAyJ"
      },
      "source": [
        "with open('/content/drive/MyDrive/Colab Notebooks/Project_Bundle_-_Python_for_Data_Science/Python for Data Science/project_files/redbridge.txt', 'r') as f:\n",
        "    redbridge = f.read().splitlines()"
      ],
      "execution_count": 17,
      "outputs": []
    },
    {
      "cell_type": "code",
      "metadata": {
        "id": "ic8wWZYWqA0a"
      },
      "source": [
        "with open('/content/drive/MyDrive/Colab Notebooks/Project_Bundle_-_Python_for_Data_Science/Python for Data Science/project_files/southwark.txt', 'r') as f:\n",
        "    southwark = f.read().splitlines()"
      ],
      "execution_count": 18,
      "outputs": []
    },
    {
      "cell_type": "code",
      "metadata": {
        "colab": {
          "base_uri": "https://localhost:8080/"
        },
        "id": "hYV8hRvEpgpl",
        "outputId": "bd4216e7-acf7-4fdd-c6e4-b2279667001d"
      },
      "source": [
        "print (type(brent))"
      ],
      "execution_count": 19,
      "outputs": [
        {
          "output_type": "stream",
          "text": [
            "<class 'list'>\n"
          ],
          "name": "stdout"
        }
      ]
    },
    {
      "cell_type": "code",
      "metadata": {
        "colab": {
          "base_uri": "https://localhost:8080/"
        },
        "id": "T3lhGy3kqJkR",
        "outputId": "061ba482-1f39-4771-96ea-9246f872363e"
      },
      "source": [
        "print (type(camden))"
      ],
      "execution_count": 20,
      "outputs": [
        {
          "output_type": "stream",
          "text": [
            "<class 'list'>\n"
          ],
          "name": "stdout"
        }
      ]
    },
    {
      "cell_type": "code",
      "metadata": {
        "colab": {
          "base_uri": "https://localhost:8080/"
        },
        "id": "hYTw0oX0qJnH",
        "outputId": "209cafd3-06c0-4b21-eac4-9e0fc7f70e9c"
      },
      "source": [
        "print (type(redbridge))"
      ],
      "execution_count": 21,
      "outputs": [
        {
          "output_type": "stream",
          "text": [
            "<class 'list'>\n"
          ],
          "name": "stdout"
        }
      ]
    },
    {
      "cell_type": "code",
      "metadata": {
        "colab": {
          "base_uri": "https://localhost:8080/"
        },
        "id": "0VOn2lA3qJpy",
        "outputId": "dedb788e-96f1-4cbc-c193-0e1796e271b0"
      },
      "source": [
        "print (type(southwark))"
      ],
      "execution_count": 22,
      "outputs": [
        {
          "output_type": "stream",
          "text": [
            "<class 'list'>\n"
          ],
          "name": "stdout"
        }
      ]
    },
    {
      "cell_type": "markdown",
      "metadata": {
        "id": "KuuHsYtWbHCF"
      },
      "source": [
        "Note that when text files are read using the <code style=\"color:steelblue\">splitlines()</code> function, the resulting object is a list.\n",
        "\n",
        "So the four objects you just created from the files - <code style=\"color:steelblue\">brent</code>, <code style=\"color:steelblue\">camden</code>, <code style=\"color:steelblue\">redbridge</code>, and <code style=\"color:steelblue\">southwark</code> - are all lists.\n",
        "\n",
        "#### B.) Confirm that the new objects are all Python lists."
      ]
    },
    {
      "cell_type": "code",
      "metadata": {
        "id": "n9lCzHYobHCF"
      },
      "source": [
        "# Display the classes of your new objects\n"
      ],
      "execution_count": null,
      "outputs": []
    },
    {
      "cell_type": "markdown",
      "metadata": {
        "id": "b0tiujejbHCF"
      },
      "source": [
        "Let's start exploring this data.\n",
        "\n",
        "#### C.) Print the first 5 locations in the Camden list."
      ]
    },
    {
      "cell_type": "code",
      "metadata": {
        "id": "lFATPUpsbHCF"
      },
      "source": [
        "# Print the first 5 locations in Camden\n"
      ],
      "execution_count": null,
      "outputs": []
    },
    {
      "cell_type": "markdown",
      "metadata": {
        "id": "m9BvpWnwbHCG"
      },
      "source": [
        "<strong style=\"color:RoyalBlue\">Expected output:</strong>\n",
        "\n",
        "<pre>['Chalk Farm', 'Dartmouth Park', 'Fitzrovia', 'Frognal', 'Bloomsbury']</pre>"
      ]
    },
    {
      "cell_type": "markdown",
      "metadata": {
        "id": "Yz3UWQhkbHCG"
      },
      "source": [
        "Next, we need to know how many locations are in each borough. \n",
        "\n",
        "#### D.) Print the number of locations in each list.\n",
        "* Which borough has the most locations?\n",
        "* Which borough has the fewest locations?"
      ]
    },
    {
      "cell_type": "code",
      "metadata": {
        "id": "h7NBP0ubbHCG"
      },
      "source": [
        "# Print length of each list\n"
      ],
      "execution_count": null,
      "outputs": []
    },
    {
      "cell_type": "markdown",
      "metadata": {
        "id": "YY4sRv8_bHCG"
      },
      "source": [
        "<strong style=\"color:RoyalBlue\">Expected output:</strong>\n",
        "<pre>\n",
        "19\n",
        "22\n",
        "18\n",
        "15\n",
        "</pre>\n",
        "\n",
        "*Camden has the most locations and Southwark has the fewest.*"
      ]
    },
    {
      "cell_type": "markdown",
      "metadata": {
        "id": "ruEfAQ1pbHCG"
      },
      "source": [
        "#### E.) Next, HQ wants to check a few locations. Do the following:\n",
        "* **Print <code style=\"color:steelblue\">True</code> if <code>'Newbury Park'</code> is in Redbridge or <code style=\"color:steelblue\">False</code> if it's not.**\n",
        "* **Print <code style=\"color:steelblue\">True</code> if <code>'Peckham'</code> is in Brent or <code style=\"color:steelblue\">False</code> if it's not.**"
      ]
    },
    {
      "cell_type": "code",
      "metadata": {
        "id": "aWe3NMYlbHCG"
      },
      "source": [
        "# Is 'Newbury Park' in Redbridge?\n",
        "\n",
        "\n",
        "# Is 'Peckham' in Brent?\n"
      ],
      "execution_count": null,
      "outputs": []
    },
    {
      "cell_type": "markdown",
      "metadata": {
        "id": "CrVvbMkibHCH"
      },
      "source": [
        "#### F.) Next, try printing the \"minimum\" and \"maximum\" values in the Southwark list.\n",
        "* Why do you think you get those results?\n",
        "* How do you think lists of strings are ordered?"
      ]
    },
    {
      "cell_type": "code",
      "metadata": {
        "scrolled": true,
        "id": "qM9vP8BZbHCH"
      },
      "source": [
        "# Print minimum value in southwark\n",
        "\n",
        "\n",
        "# Print maximum value in southwark\n"
      ],
      "execution_count": null,
      "outputs": []
    },
    {
      "cell_type": "markdown",
      "metadata": {
        "id": "ZI4prnsHbHCH"
      },
      "source": [
        "#### G.) Finally, try printing the \"minimum\" and \"maximum\" values from all of the other 3 lists.\n",
        "* Do the results confirm your suspicions from (F)?"
      ]
    },
    {
      "cell_type": "code",
      "metadata": {
        "id": "tdDcKGN6bHCH"
      },
      "source": [
        "# Print min/max values in brent\n",
        "\n",
        "\n",
        "# Print min/max values in camden\n",
        "\n",
        "\n",
        "# Print min/max values in redbridge\n"
      ],
      "execution_count": null,
      "outputs": []
    },
    {
      "cell_type": "markdown",
      "metadata": {
        "id": "o5g3juEKbHCH"
      },
      "source": [
        "## <span style=\"color:RoyalBlue\">Exercise 2.2 - Setting Uniques</span>\n",
        "\n",
        "Let's continue planning locations to visit for our training mission to London. Before we continue, we need to remove duplicates from our lists because we don't have time to visit the same location twice.\n",
        "\n",
        "#### A.) For each of the 4 lists of locations, print <code style=\"color:steelblue\">True</code> if it has duplicate locations and <code style=\"color:steelblue\">False</code> if it doesn't.\n",
        "* Hint: A list with duplicates will have a greater length than a set of the same locations."
      ]
    },
    {
      "cell_type": "code",
      "metadata": {
        "id": "njYKifk9bHCI"
      },
      "source": [
        "# Brent has duplicates?\n",
        "\n",
        "\n",
        "# Camden has duplicates?\n",
        "\n",
        "\n",
        "# Redbridge has duplicates?\n",
        "\n",
        "\n",
        "# Southwark has duplicates?\n"
      ],
      "execution_count": null,
      "outputs": []
    },
    {
      "cell_type": "markdown",
      "metadata": {
        "id": "BVL4HThdbHCI"
      },
      "source": [
        "<strong style=\"color:RoyalBlue\">Expected output:</strong>\n",
        "<pre>\n",
        "False\n",
        "True\n",
        "True\n",
        "True\n",
        "</pre>"
      ]
    },
    {
      "cell_type": "markdown",
      "metadata": {
        "id": "Oayjt2hfbHCI"
      },
      "source": [
        "#### B.) For the lists with duplicates, remove duplicates by converting them into sets. Then, convert them back into lists.\n",
        "* Hint: <code style=\"color:steelblue\">set()</code> and <code style=\"color:steelblue\">list()</code> are your friends."
      ]
    },
    {
      "cell_type": "code",
      "metadata": {
        "id": "chEKVhk5bHCI"
      },
      "source": [
        "# Convert lists to sets to remove duplicates, then convert them back to lists \n"
      ],
      "execution_count": null,
      "outputs": []
    },
    {
      "cell_type": "markdown",
      "metadata": {
        "id": "rz0sjh7lbHCI"
      },
      "source": [
        "Great, we're now almost ready to visit the locations. \n",
        "\n",
        "But first, let's look at a simple way to store the locations in one place."
      ]
    },
    {
      "cell_type": "markdown",
      "metadata": {
        "id": "m8LR6sOXbHCJ"
      },
      "source": [
        "## <span style=\"color:RoyalBlue\">Exercise 2.3 - Dictionary Database</span>\n",
        "\n",
        "We're almost ready to visit the locations in London! However, it's too cumbersome to lug around the 4 different lists we created in the previous exercise.\n",
        "\n",
        "#### A.) Create a single dictionary named <code style=\"color:steelblue\">location_dict</code> for the locations in each borough.\n",
        "* Each key should be the name of the borough.\n",
        "* Their values should be the lists of unique locations you created in <span style=\"color:RoyalBlue\">Exercise 2.2</span>."
      ]
    },
    {
      "cell_type": "code",
      "metadata": {
        "id": "73mAZMRibHCJ"
      },
      "source": [
        "# Create location_dict\n"
      ],
      "execution_count": null,
      "outputs": []
    },
    {
      "cell_type": "markdown",
      "metadata": {
        "id": "JRVf5o_abHCJ"
      },
      "source": [
        "Next, let's make sure the dictionary has the correct keys. \n",
        "\n",
        "#### B.) Run the cell below and check the output.\n",
        "* What do you think the code below is doing?\n",
        "* You'll learn more about <code style=\"color:steelblue\">for</code> loops in the next module."
      ]
    },
    {
      "cell_type": "code",
      "metadata": {
        "id": "-d1oNcvAbHCJ"
      },
      "source": [
        "# Run this cell\n",
        "for borough in ['Brent', 'Camden', 'Redbridge', 'Southwark']:\n",
        "    print( borough in location_dict )"
      ],
      "execution_count": null,
      "outputs": []
    },
    {
      "cell_type": "markdown",
      "metadata": {
        "id": "JEZuV_TbbHCJ"
      },
      "source": [
        "<strong style=\"color:RoyalBlue\">Expected output:</strong>\n",
        "<pre>\n",
        "True\n",
        "True\n",
        "True\n",
        "True\n",
        "</pre>"
      ]
    },
    {
      "cell_type": "markdown",
      "metadata": {
        "id": "XO1_yDZ_bHCJ"
      },
      "source": [
        "Did you get the expected output? If not, check the answer key before moving on.\n",
        "\n",
        "You've just received a message from HQ. *\"Now that you've set up your dictionary, you won't need the original lists anymore. Get rid of them and wipe them clean.\"*\n",
        "\n",
        "#### C.) Overwrite the original borough lists with <code style=\"color:steelblue\">None</code>.\n",
        "* <code style=\"color:steelblue\">None</code> is an object that denotes emptiness. It's a separate object type within Python, similar to integers, floats, etc.\n",
        "* There are different ways to approach this. See if you can do it in just one line of code! (Hint: \"unpacking\") The answer key has the solution that uses only one line of code."
      ]
    },
    {
      "cell_type": "code",
      "metadata": {
        "id": "XzZXzCRRbHCK"
      },
      "source": [
        "# Wipe your original lists clean with None\n"
      ],
      "execution_count": null,
      "outputs": []
    },
    {
      "cell_type": "markdown",
      "metadata": {
        "id": "KYbD9ge1bHCK"
      },
      "source": [
        "#### D.) Confirm that all of your lists were wiped successfully. Print out each one's new class/type.\n",
        "* Tip: When you overwrite a variable with a new object, it keeps the same variable name, but the object could be a completely different type of object."
      ]
    },
    {
      "cell_type": "code",
      "metadata": {
        "scrolled": true,
        "id": "pqhHefoWbHCK"
      },
      "source": [
        ""
      ],
      "execution_count": null,
      "outputs": []
    },
    {
      "cell_type": "markdown",
      "metadata": {
        "id": "0z-loPH8bHCK"
      },
      "source": [
        "<strong style=\"color:RoyalBlue\">Expected output:</strong>\n",
        "<pre>\n",
        "&lt;class 'NoneType'>\n",
        "&lt;class 'NoneType'>\n",
        "&lt;class 'NoneType'>\n",
        "&lt;class 'NoneType'>\n",
        "</pre>"
      ]
    },
    {
      "cell_type": "markdown",
      "metadata": {
        "id": "siMATVDSbHCK"
      },
      "source": [
        "Now, we want to split our visit to London into two trips: one for Inner London and one for Outer London.\n",
        "\n",
        "#### E.) Add two new items to your dictionary:\n",
        "1. **Key:** <code style=\"color:steelblue\">'Inner London'</code>... **Value:** All locations in <code style=\"color:steelblue\">'Camden'</code> and <code style=\"color:steelblue\">'Southwark'</code>.\n",
        "2. **Key:** <code style=\"color:steelblue\">'Outer London'</code>... **Value:** All locations in <code style=\"color:steelblue\">'Brent'</code> and <code style=\"color:steelblue\">'Redbridge'</code>.\n",
        "\n",
        "Since you got rid of your original lists, you'll have to use the values you've already stored in your dictionary."
      ]
    },
    {
      "cell_type": "code",
      "metadata": {
        "id": "WZ1KNY3NbHCK"
      },
      "source": [
        "# Create a new key-value pair for 'Inner London'\n",
        "\n",
        "\n",
        "# Create a new key-value pair for 'Outer London'\n"
      ],
      "execution_count": null,
      "outputs": []
    },
    {
      "cell_type": "markdown",
      "metadata": {
        "id": "4bS5ECLVbHCK"
      },
      "source": [
        "Finally, let's just check that we have the right number of locations for each trip.\n",
        "* You should have 32 for Inner London\n",
        "* You should have 35 for Outer London\n",
        "\n",
        "#### F.) Run the cell below and check that you get the expected output.\n",
        "* The <code>len</code> function counts the number of elements in a list-like object. You'll see this pop up many times throughout this program."
      ]
    },
    {
      "cell_type": "code",
      "metadata": {
        "id": "kr9Gwj3TbHCL"
      },
      "source": [
        "print( len(location_dict['Inner London']) )\n",
        "print( len(location_dict['Outer London']) )"
      ],
      "execution_count": null,
      "outputs": []
    },
    {
      "cell_type": "markdown",
      "metadata": {
        "id": "5LgziUDBbHCL"
      },
      "source": [
        "<strong style=\"color:RoyalBlue\">Expected output:</strong>\n",
        "<pre>\n",
        "32\n",
        "35\n",
        "</pre>"
      ]
    },
    {
      "cell_type": "markdown",
      "metadata": {
        "id": "r4rV00CGbHCL"
      },
      "source": [
        "If you don't have the right number of locations, doublecheck that you removed duplicates and that you're concatenating the correct lists. You can also check the answer key for the solution.\n",
        "\n",
        "#### G.) Once you have the right number of locations, let's save this object so we can use it in the next module. Run the cell below.\n",
        "* We'll use a Python built-in package called <code style=\"color:steelblue\">pickle</code> to do so.\n",
        "* Pickle saves an entire object in a file on your computer."
      ]
    },
    {
      "cell_type": "code",
      "metadata": {
        "id": "t6q87IMjbHCL"
      },
      "source": [
        "import pickle\n",
        "\n",
        "# Save object to disk\n",
        "with open('location_dict.pkl', 'wb') as f:\n",
        "    pickle.dump(location_dict, f)"
      ],
      "execution_count": null,
      "outputs": []
    },
    {
      "cell_type": "markdown",
      "metadata": {
        "id": "nc_zGvDGbHCL"
      },
      "source": [
        "#### The mission continues in the next module...\n",
        "\n",
        "Now you have a dictionary of locations in London by borough. In the next module, we'll look through the locations and pick one to start with."
      ]
    }
  ]
}