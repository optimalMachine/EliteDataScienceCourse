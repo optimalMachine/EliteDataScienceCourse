{
  "nbformat": 4,
  "nbformat_minor": 0,
  "metadata": {
    "anaconda-cloud": {},
    "kernelspec": {
      "display_name": "Python 3",
      "language": "python",
      "name": "python3"
    },
    "language_info": {
      "codemirror_mode": {
        "name": "ipython",
        "version": 3
      },
      "file_extension": ".py",
      "mimetype": "text/x-python",
      "name": "python",
      "nbconvert_exporter": "python",
      "pygments_lexer": "ipython3",
      "version": "3.6.8"
    },
    "colab": {
      "name": "2 - Workbook - Data Structures.ipynb",
      "provenance": [],
      "collapsed_sections": [],
      "toc_visible": true,
      "include_colab_link": true
    }
  },
  "cells": [
    {
      "cell_type": "markdown",
      "metadata": {
        "id": "view-in-github",
        "colab_type": "text"
      },
      "source": [
        "<a href=\"https://colab.research.google.com/github/optimalMachine/EliteDataScienceCourse/blob/master/2_Workbook_Data_Structures.ipynb\" target=\"_parent\"><img src=\"https://colab.research.google.com/assets/colab-badge.svg\" alt=\"Open In Colab\"/></a>"
      ]
    },
    {
      "cell_type": "markdown",
      "metadata": {
        "id": "r9eJ8ABamHxA"
      },
      "source": [
        "#### COMPANION WORKBOOK\n",
        "\n",
        "# Data Structures\n",
        "\n",
        "To make the most out of this program, we strongly recommend you to:\n",
        "1. First practice writing and implementing all of the code from Coding Section of the online module.\n",
        "2. Then, freely experiment with and explore any interesting or confusing concepts. Simply insert new code cells and then use the help of Google and official documentation.\n",
        "3. Finally, tackle all of the exercises at the end. They will help you tie everything together and **learn in context.**\n",
        "\n",
        "#### <span style=\"color:#555\">MODULE CODE SANDBOX</span>\n",
        "\n",
        "Use this space to practice writing and implementing all of the code from Coding Section of the online module. Insert new code cells as needed, and feel free to write notes to yourself in Markdown."
      ]
    },
    {
      "cell_type": "markdown",
      "metadata": {
        "id": "DP3f1jRimHxB"
      },
      "source": [
        "## I. Lists are mutable sequences of objects."
      ]
    },
    {
      "cell_type": "code",
      "metadata": {
        "id": "MF3uD_sHmHxC",
        "outputId": "f21c3279-c8eb-41ad-d2df-08e37ac6cd46",
        "colab": {
          "base_uri": "https://localhost:8080/",
          "height": 35
        }
      },
      "source": [
        "integer_list = [0,1,2,3,4]\n",
        "print (integer_list)"
      ],
      "execution_count": null,
      "outputs": [
        {
          "output_type": "stream",
          "text": [
            "[0, 1, 2, 3, 4]\n"
          ],
          "name": "stdout"
        }
      ]
    },
    {
      "cell_type": "code",
      "metadata": {
        "id": "GwiBafuImHxF",
        "outputId": "4fdf9191-d1e1-4379-b4b6-e51ae15619c0",
        "colab": {
          "base_uri": "https://localhost:8080/",
          "height": 35
        }
      },
      "source": [
        "#Create list of mixed types: strings, ints, and floats\n",
        "my_list = ['hello',1,'world',2,3.0]\n",
        "print (my_list)"
      ],
      "execution_count": null,
      "outputs": [
        {
          "output_type": "stream",
          "text": [
            "['hello', 1, 'world', 2, 3.0]\n"
          ],
          "name": "stdout"
        }
      ]
    },
    {
      "cell_type": "code",
      "metadata": {
        "id": "7qcFo1R8mHxH",
        "outputId": "0e109a23-8d76-4efe-d996-81193558dc03",
        "colab": {
          "base_uri": "https://localhost:8080/",
          "height": 35
        }
      },
      "source": [
        "print (my_list[1:-1])"
      ],
      "execution_count": null,
      "outputs": [
        {
          "output_type": "stream",
          "text": [
            "[1, 'world', 2]\n"
          ],
          "name": "stdout"
        }
      ]
    },
    {
      "cell_type": "markdown",
      "metadata": {
        "id": "fw9JQ1ONmHxJ"
      },
      "source": [
        "## II. Tuples are immutable sequences of objects."
      ]
    },
    {
      "cell_type": "code",
      "metadata": {
        "id": "OpaHy_N2mHxK",
        "outputId": "d12d9581-508a-44d1-c306-552af0e2894c",
        "colab": {
          "base_uri": "https://localhost:8080/",
          "height": 52
        }
      },
      "source": [
        "integer_tuple = (0,1,2,3,4)\n",
        "\n",
        "print (integer_tuple)\n",
        "print (type(integer_tuple))"
      ],
      "execution_count": null,
      "outputs": [
        {
          "output_type": "stream",
          "text": [
            "(0, 1, 2, 3, 4)\n",
            "<class 'tuple'>\n"
          ],
          "name": "stdout"
        }
      ]
    },
    {
      "cell_type": "code",
      "metadata": {
        "id": "2pZxItLwmHxM",
        "outputId": "ef3118c5-8ff9-4c34-e7c5-2ee5b0387fb7",
        "colab": {
          "base_uri": "https://localhost:8080/",
          "height": 35
        }
      },
      "source": [
        "#Create tuple of mixed types: strings, ints, and floats\n",
        "my_tuple = ('hello',1,'world',2,3.0)\n",
        "print (my_tuple)"
      ],
      "execution_count": null,
      "outputs": [
        {
          "output_type": "stream",
          "text": [
            "('hello', 1, 'world', 2, 3.0)\n"
          ],
          "name": "stdout"
        }
      ]
    },
    {
      "cell_type": "code",
      "metadata": {
        "id": "0uCI_3KAmHxO",
        "outputId": "60e5532c-77c5-4bab-840a-f317f4f61b24",
        "colab": {
          "base_uri": "https://localhost:8080/",
          "height": 52
        }
      },
      "source": [
        "print (my_tuple[0])\n",
        "print (my_tuple[2])"
      ],
      "execution_count": null,
      "outputs": [
        {
          "output_type": "stream",
          "text": [
            "hello\n",
            "world\n"
          ],
          "name": "stdout"
        }
      ]
    },
    {
      "cell_type": "code",
      "metadata": {
        "id": "lXusBZMT_sBn"
      },
      "source": [
        "a,b,c,d,e = my_tuple"
      ],
      "execution_count": null,
      "outputs": []
    },
    {
      "cell_type": "code",
      "metadata": {
        "id": "jgjOcBuH_zTh",
        "outputId": "bdb06551-fd4b-4a34-fa7c-d227d9b8c044",
        "colab": {
          "base_uri": "https://localhost:8080/",
          "height": 52
        }
      },
      "source": [
        "print (a,c)\n",
        "a\n",
        "print (type(a))"
      ],
      "execution_count": null,
      "outputs": [
        {
          "output_type": "stream",
          "text": [
            "hello world\n",
            "<class 'str'>\n"
          ],
          "name": "stdout"
        }
      ]
    },
    {
      "cell_type": "markdown",
      "metadata": {
        "id": "c2hKaAlsmHxQ"
      },
      "source": [
        "## III. Sets are collections of unique objects."
      ]
    },
    {
      "cell_type": "code",
      "metadata": {
        "id": "aQgwWYiqmHxR",
        "outputId": "b19075f6-83c1-4323-e1f6-8db636d09e6b",
        "colab": {
          "base_uri": "https://localhost:8080/",
          "height": 52
        }
      },
      "source": [
        "integer_set = {0,1,2,3,4}\n",
        "print (integer_set)\n",
        "print (type(integer_set))"
      ],
      "execution_count": null,
      "outputs": [
        {
          "output_type": "stream",
          "text": [
            "{0, 1, 2, 3, 4}\n",
            "<class 'set'>\n"
          ],
          "name": "stdout"
        }
      ]
    },
    {
      "cell_type": "code",
      "metadata": {
        "id": "GzHMTFZKmHxT",
        "outputId": "02f9f42e-0f63-499f-9a2c-58d36a98532a",
        "colab": {
          "base_uri": "https://localhost:8080/",
          "height": 35
        }
      },
      "source": [
        "#Print length of integer set\n",
        "print (integer_set, 'has', len(integer_set), 'elements')"
      ],
      "execution_count": null,
      "outputs": [
        {
          "output_type": "stream",
          "text": [
            "{0, 1, 2, 3, 4} has 5 elements\n"
          ],
          "name": "stdout"
        }
      ]
    },
    {
      "cell_type": "code",
      "metadata": {
        "id": "linYztZtmHxV",
        "outputId": "2cb1d3b7-eaed-4089-9737-d3ad61f4b071",
        "colab": {
          "base_uri": "https://localhost:8080/",
          "height": 52
        }
      },
      "source": [
        "fibonacci_list = [1,1,2,3,5,8,13] # Will keep both 1's will remain\n",
        "fibonacci_set = {1,1,2,3,5,8,13}\n",
        "print (fibonacci_list)\n",
        "print (fibonacci_set)"
      ],
      "execution_count": null,
      "outputs": [
        {
          "output_type": "stream",
          "text": [
            "[1, 1, 2, 3, 5, 8, 13]\n",
            "{1, 2, 3, 5, 8, 13}\n"
          ],
          "name": "stdout"
        }
      ]
    },
    {
      "cell_type": "code",
      "metadata": {
        "id": "LZKgBWloCN5y",
        "outputId": "aa16d653-ca58-403e-c87e-07525a2ea769",
        "colab": {
          "base_uri": "https://localhost:8080/",
          "height": 35
        }
      },
      "source": [
        "#Create a list\n",
        "fibonacci_list = [1,1,2,3,5,8,13,21]\n",
        "fibonacci_set = set(fibonacci_list)\n",
        "print (fibonacci_set)"
      ],
      "execution_count": null,
      "outputs": [
        {
          "output_type": "stream",
          "text": [
            "{1, 2, 3, 5, 8, 13, 21}\n"
          ],
          "name": "stdout"
        }
      ]
    },
    {
      "cell_type": "code",
      "metadata": {
        "id": "PwYgjwyRDbZ2"
      },
      "source": [
        "#Set has its own operations\n",
        "#Union, Intersection, Difference\n",
        "#|,&,-\n",
        "powers_of_two = {1,2,4,8,16}\n",
        "fibonacci_set = {1,1,2,3,5,8,13}\n"
      ],
      "execution_count": null,
      "outputs": []
    },
    {
      "cell_type": "code",
      "metadata": {
        "id": "P3LebyMdDxIF",
        "outputId": "4e3736d5-75b5-4454-e739-4b7bdf380956",
        "colab": {
          "base_uri": "https://localhost:8080/",
          "height": 52
        }
      },
      "source": [
        "#Union: Elements in either set\n",
        "print (powers_of_two.union(fibonacci_set))\n",
        "print (powers_of_two | fibonacci_set)"
      ],
      "execution_count": null,
      "outputs": [
        {
          "output_type": "stream",
          "text": [
            "{1, 2, 3, 4, 5, 8, 13, 16}\n",
            "{1, 2, 3, 4, 5, 8, 13, 16}\n"
          ],
          "name": "stdout"
        }
      ]
    },
    {
      "cell_type": "code",
      "metadata": {
        "id": "Noys5y5REEB8",
        "outputId": "b8c0a1a9-fdad-4145-9ca1-b95700737ff6",
        "colab": {
          "base_uri": "https://localhost:8080/",
          "height": 52
        }
      },
      "source": [
        "#Intersection\n",
        "print (powers_of_two.intersection(fibonacci_set))\n",
        "print (powers_of_two & fibonacci_set)"
      ],
      "execution_count": null,
      "outputs": [
        {
          "output_type": "stream",
          "text": [
            "{8, 1, 2}\n",
            "{8, 1, 2}\n"
          ],
          "name": "stdout"
        }
      ]
    },
    {
      "cell_type": "code",
      "metadata": {
        "id": "FRk7cgysdErr",
        "outputId": "4991dcd3-e7da-404b-b878-61080d1d7445",
        "colab": {
          "base_uri": "https://localhost:8080/",
          "height": 52
        }
      },
      "source": [
        "#Difference\n",
        "print (powers_of_two - fibonacci_set)\n",
        "print (fibonacci_set - powers_of_two)"
      ],
      "execution_count": null,
      "outputs": [
        {
          "output_type": "stream",
          "text": [
            "{16, 4}\n",
            "{13, 3, 5}\n"
          ],
          "name": "stdout"
        }
      ]
    },
    {
      "cell_type": "markdown",
      "metadata": {
        "id": "sa8POZ3UmHxX"
      },
      "source": [
        "## IV. Dictionaries are collections of key-value pairs."
      ]
    },
    {
      "cell_type": "code",
      "metadata": {
        "id": "C4gDCe54mHxX",
        "outputId": "dfab78db-402f-4c95-9080-b69a0e64c61b",
        "colab": {
          "base_uri": "https://localhost:8080/",
          "height": 52
        }
      },
      "source": [
        "integer_dict = {\n",
        "    'zero':0,\n",
        "    'one':1,\n",
        "    'two':2,\n",
        "    'three':3,\n",
        "    'four':4\n",
        "}\n",
        "print (integer_dict)\n",
        "print (type(integer_dict))"
      ],
      "execution_count": null,
      "outputs": [
        {
          "output_type": "stream",
          "text": [
            "{'zero': 0, 'one': 1, 'two': 2, 'three': 3, 'four': 4}\n",
            "<class 'dict'>\n"
          ],
          "name": "stdout"
        }
      ]
    },
    {
      "cell_type": "code",
      "metadata": {
        "id": "A1poI-DTmHxZ"
      },
      "source": [
        "my_dict = {\n",
        "    'title': \"Hitchhiker's Guide to the Galaxy\",\n",
        "    'author': \"Dougie Adams\",\n",
        "    42: ['A number.','The answer to 40 + 2 =?']\n",
        "}"
      ],
      "execution_count": null,
      "outputs": []
    },
    {
      "cell_type": "code",
      "metadata": {
        "id": "dQUO3EmvmHxb",
        "outputId": "713951aa-d3ee-4255-b12c-17802024fdf6",
        "colab": {
          "base_uri": "https://localhost:8080/",
          "height": 52
        }
      },
      "source": [
        "print (my_dict['title'])\n",
        "print (my_dict['author'])"
      ],
      "execution_count": null,
      "outputs": [
        {
          "output_type": "stream",
          "text": [
            "Hitchhiker's Guide to the Galaxy\n",
            "Dougie Adams\n"
          ],
          "name": "stdout"
        }
      ]
    },
    {
      "cell_type": "code",
      "metadata": {
        "id": "WfPDzDvVP8GV",
        "outputId": "dca8fae4-543d-41b8-8c79-48c4ef783d62",
        "colab": {
          "base_uri": "https://localhost:8080/",
          "height": 35
        }
      },
      "source": [
        "my_dict['author'] = 'Douglas Adams'\n",
        "my_dict[42]"
      ],
      "execution_count": null,
      "outputs": [
        {
          "output_type": "execute_result",
          "data": {
            "text/plain": [
              "['A number.', 'The answer to 40 + 2 =?']"
            ]
          },
          "metadata": {
            "tags": []
          },
          "execution_count": 20
        }
      ]
    },
    {
      "cell_type": "code",
      "metadata": {
        "id": "Ox9PYlQwVptF"
      },
      "source": [
        "my_dict[42].append('The Answer to the Ultimate Question of Life, the Universe, and Everything.')\n",
        "my_dict[42]\n",
        "my_dict['year'] = 1979"
      ],
      "execution_count": null,
      "outputs": []
    },
    {
      "cell_type": "code",
      "metadata": {
        "id": "scbctcu5iAR0",
        "outputId": "456db8ac-aa19-4bec-aa42-d92bafad34fd",
        "colab": {
          "base_uri": "https://localhost:8080/",
          "height": 121
        }
      },
      "source": [
        "my_dict"
      ],
      "execution_count": null,
      "outputs": [
        {
          "output_type": "execute_result",
          "data": {
            "text/plain": [
              "{42: ['A number.',\n",
              "  'The answer to 40 + 2 =?',\n",
              "  'The Answer to the Ultimate Question of Life, the Universe, and Everything.'],\n",
              " 'author': 'Douglas Adams',\n",
              " 'title': \"Hitchhiker's Guide to the Galaxy\",\n",
              " 'year': 1979}"
            ]
          },
          "metadata": {
            "tags": []
          },
          "execution_count": 22
        }
      ]
    },
    {
      "cell_type": "code",
      "metadata": {
        "id": "oF0L7vpidXvg",
        "outputId": "7cb82ca0-3880-40ed-aeab-6183527bfc7d",
        "colab": {
          "base_uri": "https://localhost:8080/",
          "height": 35
        }
      },
      "source": [
        "#Print summary of the book.\n",
        "print ('{} was written by {} in {}'.format(my_dict['title'],my_dict['author'],my_dict['year']))"
      ],
      "execution_count": null,
      "outputs": [
        {
          "output_type": "stream",
          "text": [
            "Hitchhiker's Guide to the Galaxy was written by Douglas Adams in 1979\n"
          ],
          "name": "stdout"
        }
      ]
    },
    {
      "cell_type": "code",
      "metadata": {
        "id": "Aql47u2v6xmC",
        "outputId": "f60f8936-6532-4fd8-aab1-baa714381801",
        "colab": {
          "base_uri": "https://localhost:8080/",
          "height": 89
        }
      },
      "source": [
        "print (my_dict.keys())\n",
        "print (my_dict.values())\n",
        "print (my_dict.items())"
      ],
      "execution_count": null,
      "outputs": [
        {
          "output_type": "stream",
          "text": [
            "dict_keys(['title', 'author', 42, 'year'])\n",
            "dict_values([\"Hitchhiker's Guide to the Galaxy\", 'Douglas Adams', ['A number.', 'The answer to 40 + 2 =?', 'The Answer to the Ultimate Question of Life, the Universe, and Everything.'], 1979])\n",
            "dict_items([('title', \"Hitchhiker's Guide to the Galaxy\"), ('author', 'Douglas Adams'), (42, ['A number.', 'The answer to 40 + 2 =?', 'The Answer to the Ultimate Question of Life, the Universe, and Everything.']), ('year', 1979)])\n"
          ],
          "name": "stdout"
        }
      ]
    },
    {
      "cell_type": "markdown",
      "metadata": {
        "id": "d3F3rJ6xmHxc"
      },
      "source": [
        "#### <span style=\"color:#555\">EXERCISES</span>\n",
        "\n",
        "Complete each of the following exercises.\n",
        "\n",
        "## <span style=\"color:RoyalBlue\">Exercise 2.1 - Listing the Locations</span>\n",
        "\n",
        "#### In the previous module...\n",
        "\n",
        "In the previous module, you learned about the training mission: a visit to London. You also made sure you had enough water for the trip by performing calculations. Now, it's time to start planning the locations in London to visit! Before we start, let's import lists of locations by borough. \n",
        "* These are stored in text files that HQ has provided for you. \n",
        "* Python has a variety of **input/output** methods. We won't cover them here, but you can learn more about them in the [documentation](https://docs.python.org/3/tutorial/inputoutput.html).\n",
        "\n",
        "#### A.) First, run this code. This will read lists of locations by borough."
      ]
    },
    {
      "cell_type": "code",
      "metadata": {
        "id": "C1ROvhgRkOtE"
      },
      "source": [
        "from google.colab import files\n",
        "from google.colab import drive"
      ],
      "execution_count": null,
      "outputs": []
    },
    {
      "cell_type": "code",
      "metadata": {
        "id": "TEv23Ws6hJMc",
        "outputId": "fe91cc25-96ef-436f-b7cb-12fe47e6a4ab",
        "colab": {
          "base_uri": "https://localhost:8080/",
          "height": 55
        }
      },
      "source": [
        "from google.colab import drive\n",
        "drive.mount('/content/drive')"
      ],
      "execution_count": 170,
      "outputs": [
        {
          "output_type": "stream",
          "text": [
            "Drive already mounted at /content/drive; to attempt to forcibly remount, call drive.mount(\"/content/drive\", force_remount=True).\n"
          ],
          "name": "stdout"
        }
      ]
    },
    {
      "cell_type": "code",
      "metadata": {
        "id": "PiuO-inGmHxc"
      },
      "source": [
        "# Read lists of locations (simply run this code block)\n",
        "with open('/content/drive/My Drive/Colab Notebooks/Python for Data Science/project_files/brent.txt', 'r') as f:\n",
        "    brent = f.read().splitlines()\n",
        "   \n",
        "with open('/content/drive/My Drive/Colab Notebooks/Python for Data Science/project_files/camden.txt', 'r') as f:\n",
        "    camden = f.read().splitlines()\n",
        "\n",
        "with open('/content/drive/My Drive/Colab Notebooks/Python for Data Science/project_files/redbridge.txt', 'r') as f:\n",
        "    redbridge = f.read().splitlines()\n",
        "\n",
        "with open('/content/drive/My Drive/Colab Notebooks/Python for Data Science/project_files/southwark.txt', 'r') as f:\n",
        "    southwark = f.read().splitlines()"
      ],
      "execution_count": 172,
      "outputs": []
    },
    {
      "cell_type": "markdown",
      "metadata": {
        "id": "33SEixwymHxe"
      },
      "source": [
        "Note that when text files are read using the <code style=\"color:steelblue\">splitlines()</code> function, the resulting object is a list.\n",
        "\n",
        "So the four objects you just created from the files - <code style=\"color:steelblue\">brent</code>, <code style=\"color:steelblue\">camden</code>, <code style=\"color:steelblue\">redbridge</code>, and <code style=\"color:steelblue\">southwark</code> - are all lists.\n",
        "\n",
        "#### B.) Confirm that the new objects are all Python lists."
      ]
    },
    {
      "cell_type": "code",
      "metadata": {
        "id": "gHpSc5-vmHxe",
        "outputId": "49a61885-f9f1-496d-d0ef-020226f57b09",
        "colab": {
          "base_uri": "https://localhost:8080/",
          "height": 87
        }
      },
      "source": [
        "# Display the classes of your new objects\n",
        "print (type(camden))\n",
        "print (type(brent))\n",
        "print (type(redbridge))\n",
        "print (type(southwark))"
      ],
      "execution_count": 173,
      "outputs": [
        {
          "output_type": "stream",
          "text": [
            "<class 'list'>\n",
            "<class 'list'>\n",
            "<class 'list'>\n",
            "<class 'list'>\n"
          ],
          "name": "stdout"
        }
      ]
    },
    {
      "cell_type": "markdown",
      "metadata": {
        "id": "jGRxroZImHxg"
      },
      "source": [
        "Let's start exploring this data.\n",
        "\n",
        "#### C.) Print the first 5 locations in the Camden list."
      ]
    },
    {
      "cell_type": "code",
      "metadata": {
        "id": "RJIl-jytmHxg",
        "outputId": "b18a6c29-523e-42e2-81d7-3fc457fc2f11",
        "colab": {
          "base_uri": "https://localhost:8080/",
          "height": 35
        }
      },
      "source": [
        "# Print the first 5 locations in Camden\n",
        "print (camden[:5])"
      ],
      "execution_count": 174,
      "outputs": [
        {
          "output_type": "stream",
          "text": [
            "['Chalk Farm', 'Dartmouth Park', 'Fitzrovia', 'Frognal', 'Bloomsbury']\n"
          ],
          "name": "stdout"
        }
      ]
    },
    {
      "cell_type": "markdown",
      "metadata": {
        "id": "rWaXwSrAmHxi"
      },
      "source": [
        "<strong style=\"color:RoyalBlue\">Expected output:</strong>\n",
        "\n",
        "<pre>['Chalk Farm', 'Dartmouth Park', 'Fitzrovia', 'Frognal', 'Bloomsbury']</pre>"
      ]
    },
    {
      "cell_type": "markdown",
      "metadata": {
        "id": "jKgq7PxamHxi"
      },
      "source": [
        "Next, we need to know how many locations are in each borough. \n",
        "\n",
        "#### D.) Print the number of locations in each list.\n",
        "* Which borough has the most locations?\n",
        "* Which borough has the fewest locations?"
      ]
    },
    {
      "cell_type": "code",
      "metadata": {
        "id": "RvmB-eekmHxj",
        "outputId": "620844b4-aaed-4fcf-8f07-9300ac1ca44e",
        "colab": {
          "base_uri": "https://localhost:8080/",
          "height": 87
        }
      },
      "source": [
        "# Print length of each list\n",
        "print (len(camden))\n",
        "print (len(brent))\n",
        "print (len(redbridge))\n",
        "print (len(southwark))"
      ],
      "execution_count": 175,
      "outputs": [
        {
          "output_type": "stream",
          "text": [
            "22\n",
            "19\n",
            "18\n",
            "15\n"
          ],
          "name": "stdout"
        }
      ]
    },
    {
      "cell_type": "markdown",
      "metadata": {
        "id": "GS22SaoEmHxk"
      },
      "source": [
        "<strong style=\"color:RoyalBlue\">Expected output:</strong>\n",
        "<pre>\n",
        "19\n",
        "22\n",
        "18\n",
        "15\n",
        "</pre>\n",
        "\n",
        "*Camden has the most locations and Southwark has the fewest.*"
      ]
    },
    {
      "cell_type": "markdown",
      "metadata": {
        "id": "CzsUs8ogmHxl"
      },
      "source": [
        "#### E.) Next, HQ wants to check a few locations. Do the following:\n",
        "* **Print <code style=\"color:steelblue\">True</code> if <code>'Newbury Park'</code> is in Redbridge or <code style=\"color:steelblue\">False</code> if it's not.**\n",
        "* **Print <code style=\"color:steelblue\">True</code> if <code>'Peckham'</code> is in Brent or <code style=\"color:steelblue\">False</code> if it's not.**"
      ]
    },
    {
      "cell_type": "code",
      "metadata": {
        "id": "CQ1S0rswmHxl",
        "outputId": "c457d592-6ee9-43aa-ff9c-2291edaa6669",
        "colab": {
          "base_uri": "https://localhost:8080/",
          "height": 52
        }
      },
      "source": [
        "# Is 'Newbury Park' in Redbridge?\n",
        "print ('Newbury Park' in redbridge)\n",
        "\n",
        "# Is 'Peckham' in Brent?\n",
        "print ('Peckham' in brent)"
      ],
      "execution_count": 176,
      "outputs": [
        {
          "output_type": "stream",
          "text": [
            "True\n",
            "False\n"
          ],
          "name": "stdout"
        }
      ]
    },
    {
      "cell_type": "markdown",
      "metadata": {
        "id": "LRD7OruImHxo"
      },
      "source": [
        "#### F.) Next, try printing the \"minimum\" and \"maximum\" values in the Southwark list.\n",
        "* Why do you think you get those results?\n",
        "* How do you think lists of strings are ordered?"
      ]
    },
    {
      "cell_type": "code",
      "metadata": {
        "scrolled": true,
        "id": "4H7FuQyVmHxo",
        "outputId": "d19753fa-5188-4b4f-e7c9-0733cc09d6d6",
        "colab": {
          "base_uri": "https://localhost:8080/",
          "height": 52
        }
      },
      "source": [
        "# Print minimum value in southwark\n",
        "print (min(southwark))\n",
        "\n",
        "# Print maximum value in southwark\n",
        "print (max(southwark))"
      ],
      "execution_count": 177,
      "outputs": [
        {
          "output_type": "stream",
          "text": [
            "Bankside\n",
            "Walworth\n"
          ],
          "name": "stdout"
        }
      ]
    },
    {
      "cell_type": "markdown",
      "metadata": {
        "id": "4avNkibqmHxp"
      },
      "source": [
        "#### G.) Finally, try printing the \"minimum\" and \"maximum\" values from all of the other 3 lists.\n",
        "* Do the results confirm your suspicions from (F)?"
      ]
    },
    {
      "cell_type": "code",
      "metadata": {
        "id": "9Vu20p3YmHxq",
        "outputId": "ab73a613-3a54-4a27-a887-cf0b5f8cb044",
        "colab": {
          "base_uri": "https://localhost:8080/",
          "height": 69
        }
      },
      "source": [
        "# Print min/max values in brent\n",
        "print ('brent: {} ; {}'.format(min(brent),max(brent)))\n",
        "# Print min/max values in camden\n",
        "print ('camden: {} ; {}'.format(min(camden),max(camden)))\n",
        "# Print min/max values in redbridge\n",
        "print ('redbridge: {} ; {}'.format(min(redbridge),max(redbridge)))\n"
      ],
      "execution_count": 178,
      "outputs": [
        {
          "output_type": "stream",
          "text": [
            "brent: Alperton ; Willesden\n",
            "camden: Belsize Park ; West Hampstead\n",
            "redbridge: Aldborough Hatch ; Woodford Green\n"
          ],
          "name": "stdout"
        }
      ]
    },
    {
      "cell_type": "markdown",
      "metadata": {
        "id": "yNxgEQBqmHxr"
      },
      "source": [
        "## <span style=\"color:RoyalBlue\">Exercise 2.2 - Setting Uniques</span>\n",
        "\n",
        "Let's continue planning locations to visit for our training mission to London. Before we continue, we need to remove duplicates from our lists because we don't have time to visit the same location twice.\n",
        "\n",
        "#### A.) For each of the 4 lists of locations, print <code style=\"color:steelblue\">True</code> if it has duplicate locations and <code style=\"color:steelblue\">False</code> if it doesn't.\n",
        "* Hint: A list with duplicates will have a greater length than a set of the same locations."
      ]
    },
    {
      "cell_type": "code",
      "metadata": {
        "id": "r_rMq3nEmHxr",
        "outputId": "b9455e49-c2cc-4447-d112-99bdc443cbbd",
        "colab": {
          "base_uri": "https://localhost:8080/",
          "height": 87
        }
      },
      "source": [
        "# Brent has duplicates?\n",
        "print (len(set(brent)) > len(brent))\n",
        "\n",
        "# Camden has duplicates?\n",
        "print (len(set(camden)) < len(camden))\n",
        "\n",
        "# Redbridge has duplicates?\n",
        "print (len(redbridge) > len(set(redbridge)))\n",
        "\n",
        "# Southwark has duplicates?\n",
        "print (len(southwark) > len(set(southwark)))"
      ],
      "execution_count": 179,
      "outputs": [
        {
          "output_type": "stream",
          "text": [
            "False\n",
            "True\n",
            "True\n",
            "True\n"
          ],
          "name": "stdout"
        }
      ]
    },
    {
      "cell_type": "markdown",
      "metadata": {
        "id": "GHb4oZ52mHxt"
      },
      "source": [
        "<strong style=\"color:RoyalBlue\">Expected output:</strong>\n",
        "<pre>\n",
        "False\n",
        "True\n",
        "True\n",
        "True\n",
        "</pre>"
      ]
    },
    {
      "cell_type": "markdown",
      "metadata": {
        "id": "7MSBEcevmHxt"
      },
      "source": [
        "#### B.) For the lists with duplicates, remove duplicates by converting them into sets. Then, convert them back into lists.\n",
        "* Hint: <code style=\"color:steelblue\">set()</code> and <code style=\"color:steelblue\">list()</code> are your friends."
      ]
    },
    {
      "cell_type": "code",
      "metadata": {
        "id": "bjEAUTxkmHxt",
        "outputId": "289c7704-df20-42b3-bc0a-8a3f9a52673c",
        "colab": {
          "base_uri": "https://localhost:8080/",
          "height": 87
        }
      },
      "source": [
        "# Convert lists to sets to remove duplicates, then convert them back to lists \n",
        "camden_set = set(camden)\n",
        "camden_list = list(camden_set)\n",
        "brent_set = set(brent)\n",
        "brent_list = list(brent_set)\n",
        "redbridge_set = set(redbridge)\n",
        "redbridge_list = list(redbridge_set)\n",
        "southwark_set = set(southwark)\n",
        "southwark_list = list(southwark_set)\n",
        "print (len(camden + southwark))\n",
        "print (len(camden_list+southwark_list))\n",
        "print (len(redbridge+brent))\n",
        "print (len(redbridge_list+brent_list))\n"
      ],
      "execution_count": 180,
      "outputs": [
        {
          "output_type": "stream",
          "text": [
            "37\n",
            "32\n",
            "37\n",
            "35\n"
          ],
          "name": "stdout"
        }
      ]
    },
    {
      "cell_type": "markdown",
      "metadata": {
        "id": "VFNdh1oNmHxv"
      },
      "source": [
        "Great, we're now almost ready to visit the locations. \n",
        "\n",
        "But first, let's look at a simple way to store the locations in one place."
      ]
    },
    {
      "cell_type": "markdown",
      "metadata": {
        "id": "IkTp8EqgmHxw"
      },
      "source": [
        "## <span style=\"color:RoyalBlue\">Exercise 2.3 - Dictionary Database</span>\n",
        "\n",
        "We're almost ready to visit the locations in London! However, it's too cumbersome to lug around the 4 different lists we created in the previous exercise.\n",
        "\n",
        "#### A.) Create a single dictionary named <code style=\"color:steelblue\">location_dict</code> for the locations in each borough.\n",
        "* Each key should be the name of the borough.\n",
        "* Their values should be the lists of unique locations you created in <span style=\"color:RoyalBlue\">Exercise 2.2</span>."
      ]
    },
    {
      "cell_type": "code",
      "metadata": {
        "id": "Jgagh0UKmHxw",
        "outputId": "01a96126-965b-4712-eb4b-c218e6e2bfd6",
        "colab": {
          "base_uri": "https://localhost:8080/",
          "height": 1000
        }
      },
      "source": [
        "# Create location_dict\n",
        "location_dict = {'Brent':brent_list,'Camden':camden_list,'Redbridge':redbridge_list,'Southwark':southwark_list}\n",
        "location_dict"
      ],
      "execution_count": 181,
      "outputs": [
        {
          "output_type": "execute_result",
          "data": {
            "text/plain": [
              "{'Brent': ['Dollis Hill',\n",
              "  'Harlesden',\n",
              "  'Kenton',\n",
              "  'Wembley Park',\n",
              "  'Neasden',\n",
              "  'Willesden',\n",
              "  'Sudbury',\n",
              "  \"Queen's Park\",\n",
              "  'Church End',\n",
              "  'Kingsbury',\n",
              "  'Brondesbury',\n",
              "  'Wembley',\n",
              "  'Preston',\n",
              "  'Tokyngton',\n",
              "  'Brent Park',\n",
              "  'Alperton',\n",
              "  'Kilburn',\n",
              "  'Kensal Green',\n",
              "  'Park Royal'],\n",
              " 'Camden': ['Primrose Hill',\n",
              "  'Holborn',\n",
              "  'Swiss Cottage',\n",
              "  'St Giles',\n",
              "  'West Hampstead',\n",
              "  'Camden Town',\n",
              "  'Bloomsbury',\n",
              "  'Dartmouth Park',\n",
              "  'Frognal',\n",
              "  'St Pancras',\n",
              "  'Belsize Park',\n",
              "  'Hampstead',\n",
              "  'Kentish Town',\n",
              "  \"King's Cross\",\n",
              "  'Fitzrovia',\n",
              "  'Somerstown',\n",
              "  'Gospel Oak',\n",
              "  'Chalk Farm',\n",
              "  'Highgate'],\n",
              " 'Redbridge': ['Loxford',\n",
              "  'Aldborough Hatch',\n",
              "  'Ilford',\n",
              "  'Chadwell Heath',\n",
              "  'Woodford',\n",
              "  'Barkingside',\n",
              "  'Woodford Green',\n",
              "  'Goodmayes',\n",
              "  'Seven Kings',\n",
              "  'Gants Hill',\n",
              "  'Hainault',\n",
              "  'Redbridge',\n",
              "  'Snaresbrook',\n",
              "  'Newbury Park',\n",
              "  'South Woodford',\n",
              "  'Wanstead'],\n",
              " 'Southwark': ['Walworth',\n",
              "  'Surrey Quays',\n",
              "  'Rotherhithe',\n",
              "  'Nunhead',\n",
              "  'Dulwich',\n",
              "  'Newington',\n",
              "  'Camberwell',\n",
              "  'Peckham',\n",
              "  'Elephant and Castle',\n",
              "  'Denmark Hill',\n",
              "  'East Dulwich',\n",
              "  'Bermondsey',\n",
              "  'Bankside']}"
            ]
          },
          "metadata": {
            "tags": []
          },
          "execution_count": 181
        }
      ]
    },
    {
      "cell_type": "markdown",
      "metadata": {
        "id": "-sh0vAVxmHxy"
      },
      "source": [
        "Next, let's make sure the dictionary has the correct keys. \n",
        "\n",
        "#### B.) Run the cell below and check the output.\n",
        "* What do you think the code below is doing?\n",
        "* You'll learn more about <code style=\"color:steelblue\">for</code> loops in the next module."
      ]
    },
    {
      "cell_type": "code",
      "metadata": {
        "id": "pRy7pDivmHxy",
        "outputId": "2a0a1fa1-d96d-4c41-ed66-1e679906bc89",
        "colab": {
          "base_uri": "https://localhost:8080/",
          "height": 87
        }
      },
      "source": [
        "# Run this cell\n",
        "for borough in ['Brent', 'Camden', 'Redbridge', 'Southwark']:\n",
        "    print( borough in location_dict.keys() )"
      ],
      "execution_count": 182,
      "outputs": [
        {
          "output_type": "stream",
          "text": [
            "True\n",
            "True\n",
            "True\n",
            "True\n"
          ],
          "name": "stdout"
        }
      ]
    },
    {
      "cell_type": "markdown",
      "metadata": {
        "id": "RVJjiYxBmHx0"
      },
      "source": [
        "<strong style=\"color:RoyalBlue\">Expected output:</strong>\n",
        "<pre>\n",
        "True\n",
        "True\n",
        "True\n",
        "True\n",
        "</pre>"
      ]
    },
    {
      "cell_type": "markdown",
      "metadata": {
        "id": "4Dy03mjkmHx0"
      },
      "source": [
        "Did you get the expected output? If not, check the answer key before moving on.\n",
        "\n",
        "You've just received a message from HQ. *\"Now that you've set up your dictionary, you won't need the original lists anymore. Get rid of them and wipe them clean.\"*\n",
        "\n",
        "#### C.) Overwrite the original borough lists with <code style=\"color:steelblue\">None</code>.\n",
        "* <code style=\"color:steelblue\">None</code> is an object that denotes emptiness. It's a separate object type within Python, similar to integers, floats, etc.\n",
        "* There are different ways to approach this. See if you can do it in just one line of code! (Hint: \"unpacking\") The answer key has the solution that uses only one line of code."
      ]
    },
    {
      "cell_type": "code",
      "metadata": {
        "id": "g6f7-497mHx0",
        "outputId": "857eea15-2a06-4acf-f0b3-4308a8941c73",
        "colab": {
          "base_uri": "https://localhost:8080/",
          "height": 35
        }
      },
      "source": [
        "# Wipe your original lists clean with None\n",
        "brent, camden, redbridge, southward = None, None, None, None\n",
        "print (brent)\n"
      ],
      "execution_count": 183,
      "outputs": [
        {
          "output_type": "stream",
          "text": [
            "None\n"
          ],
          "name": "stdout"
        }
      ]
    },
    {
      "cell_type": "markdown",
      "metadata": {
        "id": "Gf9dqRi0mHx1"
      },
      "source": [
        "#### D.) Confirm that all of your lists were wiped successfully. Print out each one's new class/type.\n",
        "* Tip: When you overwrite a variable with a new object, it keeps the same variable name, but the object could be a completely different type of object."
      ]
    },
    {
      "cell_type": "code",
      "metadata": {
        "scrolled": true,
        "id": "YinZPas9mHx2",
        "outputId": "39e6fb1e-c4cc-4e1b-9ec1-78f879bca953",
        "colab": {
          "base_uri": "https://localhost:8080/",
          "height": 35
        }
      },
      "source": [
        "print (type(brent))"
      ],
      "execution_count": 184,
      "outputs": [
        {
          "output_type": "stream",
          "text": [
            "<class 'NoneType'>\n"
          ],
          "name": "stdout"
        }
      ]
    },
    {
      "cell_type": "markdown",
      "metadata": {
        "id": "AEIKbDtqmHx3"
      },
      "source": [
        "<strong style=\"color:RoyalBlue\">Expected output:</strong>\n",
        "<pre>\n",
        "&lt;class 'NoneType'>\n",
        "&lt;class 'NoneType'>\n",
        "&lt;class 'NoneType'>\n",
        "&lt;class 'NoneType'>\n",
        "</pre>"
      ]
    },
    {
      "cell_type": "markdown",
      "metadata": {
        "id": "6ivIWbp1mHx3"
      },
      "source": [
        "Now, we want to split our visit to London into two trips: one for Inner London and one for Outer London.\n",
        "\n",
        "#### E.) Add two new items to your dictionary:\n",
        "1. **Key:** <code style=\"color:steelblue\">'Inner London'</code>... **Value:** All locations in <code style=\"color:steelblue\">'Camden'</code> and <code style=\"color:steelblue\">'Southwark'</code>.\n",
        "2. **Key:** <code style=\"color:steelblue\">'Outer London'</code>... **Value:** All locations in <code style=\"color:steelblue\">'Brent'</code> and <code style=\"color:steelblue\">'Redbridge'</code>.\n",
        "\n",
        "Since you got rid of your original lists, you'll have to use the values you've already stored in your dictionary."
      ]
    },
    {
      "cell_type": "code",
      "metadata": {
        "id": "4oA3ZylNmHx3",
        "outputId": "f3a3f1ea-9e24-4de7-d6ee-132b1542c37d",
        "colab": {
          "base_uri": "https://localhost:8080/",
          "height": 89
        }
      },
      "source": [
        "# Create a new key-value pair for 'Inner London'\n",
        "location_dict['Inner London'] = location_dict['Camden'] + location_dict['Southwark']\n",
        "# Create a new key-value pair for 'Outer London'\n",
        "location_dict['Outer London'] = location_dict['Brent'] + location_dict['Redbridge']\n",
        "print (location_dict)\n",
        "print (type(location_dict['Inner London']))\n",
        "print (len(location_dict['Inner London']))"
      ],
      "execution_count": 185,
      "outputs": [
        {
          "output_type": "stream",
          "text": [
            "{'Brent': ['Dollis Hill', 'Harlesden', 'Kenton', 'Wembley Park', 'Neasden', 'Willesden', 'Sudbury', \"Queen's Park\", 'Church End', 'Kingsbury', 'Brondesbury', 'Wembley', 'Preston', 'Tokyngton', 'Brent Park', 'Alperton', 'Kilburn', 'Kensal Green', 'Park Royal'], 'Camden': ['Primrose Hill', 'Holborn', 'Swiss Cottage', 'St Giles', 'West Hampstead', 'Camden Town', 'Bloomsbury', 'Dartmouth Park', 'Frognal', 'St Pancras', 'Belsize Park', 'Hampstead', 'Kentish Town', \"King's Cross\", 'Fitzrovia', 'Somerstown', 'Gospel Oak', 'Chalk Farm', 'Highgate'], 'Redbridge': ['Loxford', 'Aldborough Hatch', 'Ilford', 'Chadwell Heath', 'Woodford', 'Barkingside', 'Woodford Green', 'Goodmayes', 'Seven Kings', 'Gants Hill', 'Hainault', 'Redbridge', 'Snaresbrook', 'Newbury Park', 'South Woodford', 'Wanstead'], 'Southwark': ['Walworth', 'Surrey Quays', 'Rotherhithe', 'Nunhead', 'Dulwich', 'Newington', 'Camberwell', 'Peckham', 'Elephant and Castle', 'Denmark Hill', 'East Dulwich', 'Bermondsey', 'Bankside'], 'Inner London': ['Primrose Hill', 'Holborn', 'Swiss Cottage', 'St Giles', 'West Hampstead', 'Camden Town', 'Bloomsbury', 'Dartmouth Park', 'Frognal', 'St Pancras', 'Belsize Park', 'Hampstead', 'Kentish Town', \"King's Cross\", 'Fitzrovia', 'Somerstown', 'Gospel Oak', 'Chalk Farm', 'Highgate', 'Walworth', 'Surrey Quays', 'Rotherhithe', 'Nunhead', 'Dulwich', 'Newington', 'Camberwell', 'Peckham', 'Elephant and Castle', 'Denmark Hill', 'East Dulwich', 'Bermondsey', 'Bankside'], 'Outer London': ['Dollis Hill', 'Harlesden', 'Kenton', 'Wembley Park', 'Neasden', 'Willesden', 'Sudbury', \"Queen's Park\", 'Church End', 'Kingsbury', 'Brondesbury', 'Wembley', 'Preston', 'Tokyngton', 'Brent Park', 'Alperton', 'Kilburn', 'Kensal Green', 'Park Royal', 'Loxford', 'Aldborough Hatch', 'Ilford', 'Chadwell Heath', 'Woodford', 'Barkingside', 'Woodford Green', 'Goodmayes', 'Seven Kings', 'Gants Hill', 'Hainault', 'Redbridge', 'Snaresbrook', 'Newbury Park', 'South Woodford', 'Wanstead']}\n",
            "<class 'list'>\n",
            "32\n"
          ],
          "name": "stdout"
        }
      ]
    },
    {
      "cell_type": "code",
      "metadata": {
        "id": "EUiYQQTRsY07",
        "outputId": "e8e34065-c250-4875-9117-716d2dca7a25",
        "colab": {
          "base_uri": "https://localhost:8080/",
          "height": 35
        }
      },
      "source": [
        "location_dict.keys()"
      ],
      "execution_count": 186,
      "outputs": [
        {
          "output_type": "execute_result",
          "data": {
            "text/plain": [
              "dict_keys(['Brent', 'Camden', 'Redbridge', 'Southwark', 'Inner London', 'Outer London'])"
            ]
          },
          "metadata": {
            "tags": []
          },
          "execution_count": 186
        }
      ]
    },
    {
      "cell_type": "markdown",
      "metadata": {
        "id": "RSMJ9NMBmHx5"
      },
      "source": [
        "Finally, let's just check that we have the right number of locations for each trip.\n",
        "* You should have 32 for Inner London\n",
        "* You should have 35 for Outer London\n",
        "\n",
        "#### F.) Run the cell below and check that you get the expected output.\n",
        "* The <code>len</code> function counts the number of elements in a list-like object. You'll see this pop up many times throughout this program."
      ]
    },
    {
      "cell_type": "code",
      "metadata": {
        "id": "XVs6UqBHmHx5",
        "outputId": "30d22c89-efc6-4b91-d704-c32abb1245b8",
        "colab": {
          "base_uri": "https://localhost:8080/",
          "height": 52
        }
      },
      "source": [
        "print( len(location_dict['Inner London']) )\n",
        "print( len(location_dict['Outer London']) )"
      ],
      "execution_count": 187,
      "outputs": [
        {
          "output_type": "stream",
          "text": [
            "32\n",
            "35\n"
          ],
          "name": "stdout"
        }
      ]
    },
    {
      "cell_type": "markdown",
      "metadata": {
        "id": "WqHf81YkmHx6"
      },
      "source": [
        "<strong style=\"color:RoyalBlue\">Expected output:</strong>\n",
        "<pre>\n",
        "32\n",
        "35\n",
        "</pre>"
      ]
    },
    {
      "cell_type": "markdown",
      "metadata": {
        "id": "QYfNA-dlmHx7"
      },
      "source": [
        "If you don't have the right number of locations, doublecheck that you removed duplicates and that you're concatenating the correct lists. You can also check the answer key for the solution.\n",
        "\n",
        "#### G.) Once you have the right number of locations, let's save this object so we can use it in the next module. Run the cell below.\n",
        "* We'll use a Python built-in package called <code style=\"color:steelblue\">pickle</code> to do so.\n",
        "* Pickle saves an entire object in a file on your computer."
      ]
    },
    {
      "cell_type": "code",
      "metadata": {
        "id": "fcyczJw-mHx7"
      },
      "source": [
        "import pickle\n",
        "\n",
        "# Save object to disk\n",
        "with open('location_dict_03.pkl', 'wb') as f:\n",
        "    pickle.dump(location_dict, f)"
      ],
      "execution_count": 189,
      "outputs": []
    },
    {
      "cell_type": "markdown",
      "metadata": {
        "id": "xTop1Z1QmHx8"
      },
      "source": [
        "#### The mission continues in the next module...\n",
        "\n",
        "Now you have a dictionary of locations in London by borough. In the next module, we'll look through the locations and pick one to start with."
      ]
    }
  ]
}