{
  "cells": [
    {
      "cell_type": "markdown",
      "metadata": {
        "id": "view-in-github",
        "colab_type": "text"
      },
      "source": [
        "<a href=\"https://colab.research.google.com/github/optimalMachine/EliteDataScienceCourse/blob/master/5_Workbook_Pandas.ipynb\" target=\"_parent\"><img src=\"https://colab.research.google.com/assets/colab-badge.svg\" alt=\"Open In Colab\"/></a>"
      ]
    },
    {
      "cell_type": "markdown",
      "metadata": {
        "id": "eSR5EWpOdyv8"
      },
      "source": [
        "#### COMPANION WORKBOOK\n",
        "\n",
        "# Pandas\n",
        "\n",
        "To make the most out this program, we strongly recommend you to:\n",
        "1. First practice writing and implementing all of the code from Coding Section of the online lesson.\n",
        "2. Then, freely experiment with and explore any interesting or confusing concepts. Simply insert new code cells and then use the help of Google and official documentation.\n",
        "3. Finally, tackle all of the exercises at the end. They will help you tie everything together and **learn in context.**\n",
        "\n",
        "#### <span style=\"color:#555\">LESSON CODE SANDBOX</span>\n",
        "\n",
        "Use this space to practice writing and implementing all of the code from Coding Section of the online lesson. Insert new code cells as needed, and feel free to write notes to yourself in Markdown."
      ]
    },
    {
      "cell_type": "markdown",
      "metadata": {
        "id": "oYm2D1YtdywA"
      },
      "source": [
        "## I. Pandas DataFrames are like spreadsheets."
      ]
    },
    {
      "cell_type": "code",
      "execution_count": 36,
      "metadata": {
        "id": "hSOhwmbBdywA"
      },
      "outputs": [],
      "source": [
        "import pandas as pd"
      ]
    },
    {
      "cell_type": "code",
      "source": [
        "example_dataframe = pd.DataFrame({'column_1':[5,4,3],'column_2':['a','b','c']})\n",
        "example_dataframe"
      ],
      "metadata": {
        "colab": {
          "base_uri": "https://localhost:8080/",
          "height": 143
        },
        "id": "Nqpps8R0iESF",
        "outputId": "ddf20a86-540f-4951-a74e-5b89e5c9df07"
      },
      "execution_count": 37,
      "outputs": [
        {
          "output_type": "execute_result",
          "data": {
            "text/html": [
              "\n",
              "  <div id=\"df-d59a3c48-1882-44a3-837c-ba56248fce45\">\n",
              "    <div class=\"colab-df-container\">\n",
              "      <div>\n",
              "<style scoped>\n",
              "    .dataframe tbody tr th:only-of-type {\n",
              "        vertical-align: middle;\n",
              "    }\n",
              "\n",
              "    .dataframe tbody tr th {\n",
              "        vertical-align: top;\n",
              "    }\n",
              "\n",
              "    .dataframe thead th {\n",
              "        text-align: right;\n",
              "    }\n",
              "</style>\n",
              "<table border=\"1\" class=\"dataframe\">\n",
              "  <thead>\n",
              "    <tr style=\"text-align: right;\">\n",
              "      <th></th>\n",
              "      <th>column_1</th>\n",
              "      <th>column_2</th>\n",
              "    </tr>\n",
              "  </thead>\n",
              "  <tbody>\n",
              "    <tr>\n",
              "      <th>0</th>\n",
              "      <td>5</td>\n",
              "      <td>a</td>\n",
              "    </tr>\n",
              "    <tr>\n",
              "      <th>1</th>\n",
              "      <td>4</td>\n",
              "      <td>b</td>\n",
              "    </tr>\n",
              "    <tr>\n",
              "      <th>2</th>\n",
              "      <td>3</td>\n",
              "      <td>c</td>\n",
              "    </tr>\n",
              "  </tbody>\n",
              "</table>\n",
              "</div>\n",
              "      <button class=\"colab-df-convert\" onclick=\"convertToInteractive('df-d59a3c48-1882-44a3-837c-ba56248fce45')\"\n",
              "              title=\"Convert this dataframe to an interactive table.\"\n",
              "              style=\"display:none;\">\n",
              "        \n",
              "  <svg xmlns=\"http://www.w3.org/2000/svg\" height=\"24px\"viewBox=\"0 0 24 24\"\n",
              "       width=\"24px\">\n",
              "    <path d=\"M0 0h24v24H0V0z\" fill=\"none\"/>\n",
              "    <path d=\"M18.56 5.44l.94 2.06.94-2.06 2.06-.94-2.06-.94-.94-2.06-.94 2.06-2.06.94zm-11 1L8.5 8.5l.94-2.06 2.06-.94-2.06-.94L8.5 2.5l-.94 2.06-2.06.94zm10 10l.94 2.06.94-2.06 2.06-.94-2.06-.94-.94-2.06-.94 2.06-2.06.94z\"/><path d=\"M17.41 7.96l-1.37-1.37c-.4-.4-.92-.59-1.43-.59-.52 0-1.04.2-1.43.59L10.3 9.45l-7.72 7.72c-.78.78-.78 2.05 0 2.83L4 21.41c.39.39.9.59 1.41.59.51 0 1.02-.2 1.41-.59l7.78-7.78 2.81-2.81c.8-.78.8-2.07 0-2.86zM5.41 20L4 18.59l7.72-7.72 1.47 1.35L5.41 20z\"/>\n",
              "  </svg>\n",
              "      </button>\n",
              "      \n",
              "  <style>\n",
              "    .colab-df-container {\n",
              "      display:flex;\n",
              "      flex-wrap:wrap;\n",
              "      gap: 12px;\n",
              "    }\n",
              "\n",
              "    .colab-df-convert {\n",
              "      background-color: #E8F0FE;\n",
              "      border: none;\n",
              "      border-radius: 50%;\n",
              "      cursor: pointer;\n",
              "      display: none;\n",
              "      fill: #1967D2;\n",
              "      height: 32px;\n",
              "      padding: 0 0 0 0;\n",
              "      width: 32px;\n",
              "    }\n",
              "\n",
              "    .colab-df-convert:hover {\n",
              "      background-color: #E2EBFA;\n",
              "      box-shadow: 0px 1px 2px rgba(60, 64, 67, 0.3), 0px 1px 3px 1px rgba(60, 64, 67, 0.15);\n",
              "      fill: #174EA6;\n",
              "    }\n",
              "\n",
              "    [theme=dark] .colab-df-convert {\n",
              "      background-color: #3B4455;\n",
              "      fill: #D2E3FC;\n",
              "    }\n",
              "\n",
              "    [theme=dark] .colab-df-convert:hover {\n",
              "      background-color: #434B5C;\n",
              "      box-shadow: 0px 1px 3px 1px rgba(0, 0, 0, 0.15);\n",
              "      filter: drop-shadow(0px 1px 2px rgba(0, 0, 0, 0.3));\n",
              "      fill: #FFFFFF;\n",
              "    }\n",
              "  </style>\n",
              "\n",
              "      <script>\n",
              "        const buttonEl =\n",
              "          document.querySelector('#df-d59a3c48-1882-44a3-837c-ba56248fce45 button.colab-df-convert');\n",
              "        buttonEl.style.display =\n",
              "          google.colab.kernel.accessAllowed ? 'block' : 'none';\n",
              "\n",
              "        async function convertToInteractive(key) {\n",
              "          const element = document.querySelector('#df-d59a3c48-1882-44a3-837c-ba56248fce45');\n",
              "          const dataTable =\n",
              "            await google.colab.kernel.invokeFunction('convertToInteractive',\n",
              "                                                     [key], {});\n",
              "          if (!dataTable) return;\n",
              "\n",
              "          const docLinkHtml = 'Like what you see? Visit the ' +\n",
              "            '<a target=\"_blank\" href=https://colab.research.google.com/notebooks/data_table.ipynb>data table notebook</a>'\n",
              "            + ' to learn more about interactive tables.';\n",
              "          element.innerHTML = '';\n",
              "          dataTable['output_type'] = 'display_data';\n",
              "          await google.colab.output.renderOutput(dataTable, element);\n",
              "          const docLink = document.createElement('div');\n",
              "          docLink.innerHTML = docLinkHtml;\n",
              "          element.appendChild(docLink);\n",
              "        }\n",
              "      </script>\n",
              "    </div>\n",
              "  </div>\n",
              "  "
            ],
            "text/plain": [
              "   column_1 column_2\n",
              "0         5        a\n",
              "1         4        b\n",
              "2         3        c"
            ]
          },
          "metadata": {},
          "execution_count": 37
        }
      ]
    },
    {
      "cell_type": "code",
      "execution_count": 38,
      "metadata": {
        "colab": {
          "base_uri": "https://localhost:8080/"
        },
        "id": "iOqusmd9dywB",
        "outputId": "a776d65c-ab0b-4fda-87d4-17b0e7dc8cf7"
      },
      "outputs": [
        {
          "output_type": "stream",
          "name": "stdout",
          "text": [
            "Drive already mounted at /content/drive; to attempt to forcibly remount, call drive.mount(\"/content/drive\", force_remount=True).\n"
          ]
        }
      ],
      "source": [
        "from google.colab import drive\n",
        "drive.mount('/content/drive')"
      ]
    },
    {
      "cell_type": "code",
      "execution_count": 39,
      "metadata": {
        "colab": {
          "base_uri": "https://localhost:8080/"
        },
        "id": "Y02KxsUzdywB",
        "outputId": "84da5dac-05d1-4211-fa4b-1b9696851541"
      },
      "outputs": [
        {
          "output_type": "stream",
          "name": "stdout",
          "text": [
            "<class 'pandas.core.frame.DataFrame'>\n"
          ]
        }
      ],
      "source": [
        "df = pd.read_csv('/content/drive/MyDrive/Colab Notebooks/Python for Data Science/project_files/iris.csv')\n",
        "print (type(df))"
      ]
    },
    {
      "cell_type": "code",
      "source": [
        "df.head()"
      ],
      "metadata": {
        "colab": {
          "base_uri": "https://localhost:8080/",
          "height": 206
        },
        "id": "RBjt11I_G4v4",
        "outputId": "158f04c6-dd6b-4793-f1ee-17d09dbaa210"
      },
      "execution_count": 40,
      "outputs": [
        {
          "output_type": "execute_result",
          "data": {
            "text/html": [
              "\n",
              "  <div id=\"df-294d9914-9bdc-46c5-93ca-a43b18f6a27d\">\n",
              "    <div class=\"colab-df-container\">\n",
              "      <div>\n",
              "<style scoped>\n",
              "    .dataframe tbody tr th:only-of-type {\n",
              "        vertical-align: middle;\n",
              "    }\n",
              "\n",
              "    .dataframe tbody tr th {\n",
              "        vertical-align: top;\n",
              "    }\n",
              "\n",
              "    .dataframe thead th {\n",
              "        text-align: right;\n",
              "    }\n",
              "</style>\n",
              "<table border=\"1\" class=\"dataframe\">\n",
              "  <thead>\n",
              "    <tr style=\"text-align: right;\">\n",
              "      <th></th>\n",
              "      <th>sepal_length</th>\n",
              "      <th>sepal_width</th>\n",
              "      <th>petal_length</th>\n",
              "      <th>petal_width</th>\n",
              "      <th>species</th>\n",
              "    </tr>\n",
              "  </thead>\n",
              "  <tbody>\n",
              "    <tr>\n",
              "      <th>0</th>\n",
              "      <td>5.1</td>\n",
              "      <td>3.5</td>\n",
              "      <td>1.4</td>\n",
              "      <td>0.2</td>\n",
              "      <td>setosa</td>\n",
              "    </tr>\n",
              "    <tr>\n",
              "      <th>1</th>\n",
              "      <td>4.9</td>\n",
              "      <td>3.0</td>\n",
              "      <td>1.4</td>\n",
              "      <td>0.2</td>\n",
              "      <td>setosa</td>\n",
              "    </tr>\n",
              "    <tr>\n",
              "      <th>2</th>\n",
              "      <td>4.7</td>\n",
              "      <td>3.2</td>\n",
              "      <td>1.3</td>\n",
              "      <td>0.2</td>\n",
              "      <td>setosa</td>\n",
              "    </tr>\n",
              "    <tr>\n",
              "      <th>3</th>\n",
              "      <td>4.6</td>\n",
              "      <td>3.1</td>\n",
              "      <td>1.5</td>\n",
              "      <td>0.2</td>\n",
              "      <td>setosa</td>\n",
              "    </tr>\n",
              "    <tr>\n",
              "      <th>4</th>\n",
              "      <td>5.0</td>\n",
              "      <td>3.6</td>\n",
              "      <td>1.4</td>\n",
              "      <td>0.2</td>\n",
              "      <td>setosa</td>\n",
              "    </tr>\n",
              "  </tbody>\n",
              "</table>\n",
              "</div>\n",
              "      <button class=\"colab-df-convert\" onclick=\"convertToInteractive('df-294d9914-9bdc-46c5-93ca-a43b18f6a27d')\"\n",
              "              title=\"Convert this dataframe to an interactive table.\"\n",
              "              style=\"display:none;\">\n",
              "        \n",
              "  <svg xmlns=\"http://www.w3.org/2000/svg\" height=\"24px\"viewBox=\"0 0 24 24\"\n",
              "       width=\"24px\">\n",
              "    <path d=\"M0 0h24v24H0V0z\" fill=\"none\"/>\n",
              "    <path d=\"M18.56 5.44l.94 2.06.94-2.06 2.06-.94-2.06-.94-.94-2.06-.94 2.06-2.06.94zm-11 1L8.5 8.5l.94-2.06 2.06-.94-2.06-.94L8.5 2.5l-.94 2.06-2.06.94zm10 10l.94 2.06.94-2.06 2.06-.94-2.06-.94-.94-2.06-.94 2.06-2.06.94z\"/><path d=\"M17.41 7.96l-1.37-1.37c-.4-.4-.92-.59-1.43-.59-.52 0-1.04.2-1.43.59L10.3 9.45l-7.72 7.72c-.78.78-.78 2.05 0 2.83L4 21.41c.39.39.9.59 1.41.59.51 0 1.02-.2 1.41-.59l7.78-7.78 2.81-2.81c.8-.78.8-2.07 0-2.86zM5.41 20L4 18.59l7.72-7.72 1.47 1.35L5.41 20z\"/>\n",
              "  </svg>\n",
              "      </button>\n",
              "      \n",
              "  <style>\n",
              "    .colab-df-container {\n",
              "      display:flex;\n",
              "      flex-wrap:wrap;\n",
              "      gap: 12px;\n",
              "    }\n",
              "\n",
              "    .colab-df-convert {\n",
              "      background-color: #E8F0FE;\n",
              "      border: none;\n",
              "      border-radius: 50%;\n",
              "      cursor: pointer;\n",
              "      display: none;\n",
              "      fill: #1967D2;\n",
              "      height: 32px;\n",
              "      padding: 0 0 0 0;\n",
              "      width: 32px;\n",
              "    }\n",
              "\n",
              "    .colab-df-convert:hover {\n",
              "      background-color: #E2EBFA;\n",
              "      box-shadow: 0px 1px 2px rgba(60, 64, 67, 0.3), 0px 1px 3px 1px rgba(60, 64, 67, 0.15);\n",
              "      fill: #174EA6;\n",
              "    }\n",
              "\n",
              "    [theme=dark] .colab-df-convert {\n",
              "      background-color: #3B4455;\n",
              "      fill: #D2E3FC;\n",
              "    }\n",
              "\n",
              "    [theme=dark] .colab-df-convert:hover {\n",
              "      background-color: #434B5C;\n",
              "      box-shadow: 0px 1px 3px 1px rgba(0, 0, 0, 0.15);\n",
              "      filter: drop-shadow(0px 1px 2px rgba(0, 0, 0, 0.3));\n",
              "      fill: #FFFFFF;\n",
              "    }\n",
              "  </style>\n",
              "\n",
              "      <script>\n",
              "        const buttonEl =\n",
              "          document.querySelector('#df-294d9914-9bdc-46c5-93ca-a43b18f6a27d button.colab-df-convert');\n",
              "        buttonEl.style.display =\n",
              "          google.colab.kernel.accessAllowed ? 'block' : 'none';\n",
              "\n",
              "        async function convertToInteractive(key) {\n",
              "          const element = document.querySelector('#df-294d9914-9bdc-46c5-93ca-a43b18f6a27d');\n",
              "          const dataTable =\n",
              "            await google.colab.kernel.invokeFunction('convertToInteractive',\n",
              "                                                     [key], {});\n",
              "          if (!dataTable) return;\n",
              "\n",
              "          const docLinkHtml = 'Like what you see? Visit the ' +\n",
              "            '<a target=\"_blank\" href=https://colab.research.google.com/notebooks/data_table.ipynb>data table notebook</a>'\n",
              "            + ' to learn more about interactive tables.';\n",
              "          element.innerHTML = '';\n",
              "          dataTable['output_type'] = 'display_data';\n",
              "          await google.colab.output.renderOutput(dataTable, element);\n",
              "          const docLink = document.createElement('div');\n",
              "          docLink.innerHTML = docLinkHtml;\n",
              "          element.appendChild(docLink);\n",
              "        }\n",
              "      </script>\n",
              "    </div>\n",
              "  </div>\n",
              "  "
            ],
            "text/plain": [
              "   sepal_length  sepal_width  petal_length  petal_width species\n",
              "0           5.1          3.5           1.4          0.2  setosa\n",
              "1           4.9          3.0           1.4          0.2  setosa\n",
              "2           4.7          3.2           1.3          0.2  setosa\n",
              "3           4.6          3.1           1.5          0.2  setosa\n",
              "4           5.0          3.6           1.4          0.2  setosa"
            ]
          },
          "metadata": {},
          "execution_count": 40
        }
      ]
    },
    {
      "cell_type": "code",
      "source": [
        "print (df.shape)"
      ],
      "metadata": {
        "colab": {
          "base_uri": "https://localhost:8080/"
        },
        "id": "f2jFRRRAIt2R",
        "outputId": "c1e44fa8-fe4a-4e18-b006-719b2c73659e"
      },
      "execution_count": 41,
      "outputs": [
        {
          "output_type": "stream",
          "name": "stdout",
          "text": [
            "(150, 5)\n"
          ]
        }
      ]
    },
    {
      "cell_type": "code",
      "source": [
        "print (len(df))\n",
        "print (df.shape[0])"
      ],
      "metadata": {
        "colab": {
          "base_uri": "https://localhost:8080/"
        },
        "id": "SKfYldc7It9O",
        "outputId": "c5f0a364-903c-4e3e-eb7f-d1e4650689d7"
      },
      "execution_count": 42,
      "outputs": [
        {
          "output_type": "stream",
          "name": "stdout",
          "text": [
            "150\n",
            "150\n"
          ]
        }
      ]
    },
    {
      "cell_type": "code",
      "source": [
        "print (df.min())"
      ],
      "metadata": {
        "colab": {
          "base_uri": "https://localhost:8080/"
        },
        "id": "TW2zMFWsJQaT",
        "outputId": "892b28d5-eb32-452b-9221-b3d076694b5c"
      },
      "execution_count": 43,
      "outputs": [
        {
          "output_type": "stream",
          "name": "stdout",
          "text": [
            "sepal_length       4.3\n",
            "sepal_width        2.0\n",
            "petal_length       1.0\n",
            "petal_width        0.1\n",
            "species         setosa\n",
            "dtype: object\n"
          ]
        }
      ]
    },
    {
      "cell_type": "code",
      "source": [
        "print (df.max())"
      ],
      "metadata": {
        "colab": {
          "base_uri": "https://localhost:8080/"
        },
        "id": "kcM2xLWOJQc6",
        "outputId": "728eaa1e-224e-4dce-d04b-795aff308042"
      },
      "execution_count": 44,
      "outputs": [
        {
          "output_type": "stream",
          "name": "stdout",
          "text": [
            "sepal_length          7.9\n",
            "sepal_width           4.4\n",
            "petal_length          6.9\n",
            "petal_width           2.5\n",
            "species         virginica\n",
            "dtype: object\n"
          ]
        }
      ]
    },
    {
      "cell_type": "code",
      "source": [
        "df.describe()"
      ],
      "metadata": {
        "colab": {
          "base_uri": "https://localhost:8080/",
          "height": 300
        },
        "id": "Jpqg-RfEJQfU",
        "outputId": "f43dfe67-4e53-43fe-b915-9d92afca113b"
      },
      "execution_count": 45,
      "outputs": [
        {
          "output_type": "execute_result",
          "data": {
            "text/html": [
              "\n",
              "  <div id=\"df-4f81a112-0ade-4b9f-b4cf-d6f93e530f2d\">\n",
              "    <div class=\"colab-df-container\">\n",
              "      <div>\n",
              "<style scoped>\n",
              "    .dataframe tbody tr th:only-of-type {\n",
              "        vertical-align: middle;\n",
              "    }\n",
              "\n",
              "    .dataframe tbody tr th {\n",
              "        vertical-align: top;\n",
              "    }\n",
              "\n",
              "    .dataframe thead th {\n",
              "        text-align: right;\n",
              "    }\n",
              "</style>\n",
              "<table border=\"1\" class=\"dataframe\">\n",
              "  <thead>\n",
              "    <tr style=\"text-align: right;\">\n",
              "      <th></th>\n",
              "      <th>sepal_length</th>\n",
              "      <th>sepal_width</th>\n",
              "      <th>petal_length</th>\n",
              "      <th>petal_width</th>\n",
              "    </tr>\n",
              "  </thead>\n",
              "  <tbody>\n",
              "    <tr>\n",
              "      <th>count</th>\n",
              "      <td>150.000000</td>\n",
              "      <td>150.000000</td>\n",
              "      <td>150.000000</td>\n",
              "      <td>150.000000</td>\n",
              "    </tr>\n",
              "    <tr>\n",
              "      <th>mean</th>\n",
              "      <td>5.843333</td>\n",
              "      <td>3.057333</td>\n",
              "      <td>3.758000</td>\n",
              "      <td>1.199333</td>\n",
              "    </tr>\n",
              "    <tr>\n",
              "      <th>std</th>\n",
              "      <td>0.828066</td>\n",
              "      <td>0.435866</td>\n",
              "      <td>1.765298</td>\n",
              "      <td>0.762238</td>\n",
              "    </tr>\n",
              "    <tr>\n",
              "      <th>min</th>\n",
              "      <td>4.300000</td>\n",
              "      <td>2.000000</td>\n",
              "      <td>1.000000</td>\n",
              "      <td>0.100000</td>\n",
              "    </tr>\n",
              "    <tr>\n",
              "      <th>25%</th>\n",
              "      <td>5.100000</td>\n",
              "      <td>2.800000</td>\n",
              "      <td>1.600000</td>\n",
              "      <td>0.300000</td>\n",
              "    </tr>\n",
              "    <tr>\n",
              "      <th>50%</th>\n",
              "      <td>5.800000</td>\n",
              "      <td>3.000000</td>\n",
              "      <td>4.350000</td>\n",
              "      <td>1.300000</td>\n",
              "    </tr>\n",
              "    <tr>\n",
              "      <th>75%</th>\n",
              "      <td>6.400000</td>\n",
              "      <td>3.300000</td>\n",
              "      <td>5.100000</td>\n",
              "      <td>1.800000</td>\n",
              "    </tr>\n",
              "    <tr>\n",
              "      <th>max</th>\n",
              "      <td>7.900000</td>\n",
              "      <td>4.400000</td>\n",
              "      <td>6.900000</td>\n",
              "      <td>2.500000</td>\n",
              "    </tr>\n",
              "  </tbody>\n",
              "</table>\n",
              "</div>\n",
              "      <button class=\"colab-df-convert\" onclick=\"convertToInteractive('df-4f81a112-0ade-4b9f-b4cf-d6f93e530f2d')\"\n",
              "              title=\"Convert this dataframe to an interactive table.\"\n",
              "              style=\"display:none;\">\n",
              "        \n",
              "  <svg xmlns=\"http://www.w3.org/2000/svg\" height=\"24px\"viewBox=\"0 0 24 24\"\n",
              "       width=\"24px\">\n",
              "    <path d=\"M0 0h24v24H0V0z\" fill=\"none\"/>\n",
              "    <path d=\"M18.56 5.44l.94 2.06.94-2.06 2.06-.94-2.06-.94-.94-2.06-.94 2.06-2.06.94zm-11 1L8.5 8.5l.94-2.06 2.06-.94-2.06-.94L8.5 2.5l-.94 2.06-2.06.94zm10 10l.94 2.06.94-2.06 2.06-.94-2.06-.94-.94-2.06-.94 2.06-2.06.94z\"/><path d=\"M17.41 7.96l-1.37-1.37c-.4-.4-.92-.59-1.43-.59-.52 0-1.04.2-1.43.59L10.3 9.45l-7.72 7.72c-.78.78-.78 2.05 0 2.83L4 21.41c.39.39.9.59 1.41.59.51 0 1.02-.2 1.41-.59l7.78-7.78 2.81-2.81c.8-.78.8-2.07 0-2.86zM5.41 20L4 18.59l7.72-7.72 1.47 1.35L5.41 20z\"/>\n",
              "  </svg>\n",
              "      </button>\n",
              "      \n",
              "  <style>\n",
              "    .colab-df-container {\n",
              "      display:flex;\n",
              "      flex-wrap:wrap;\n",
              "      gap: 12px;\n",
              "    }\n",
              "\n",
              "    .colab-df-convert {\n",
              "      background-color: #E8F0FE;\n",
              "      border: none;\n",
              "      border-radius: 50%;\n",
              "      cursor: pointer;\n",
              "      display: none;\n",
              "      fill: #1967D2;\n",
              "      height: 32px;\n",
              "      padding: 0 0 0 0;\n",
              "      width: 32px;\n",
              "    }\n",
              "\n",
              "    .colab-df-convert:hover {\n",
              "      background-color: #E2EBFA;\n",
              "      box-shadow: 0px 1px 2px rgba(60, 64, 67, 0.3), 0px 1px 3px 1px rgba(60, 64, 67, 0.15);\n",
              "      fill: #174EA6;\n",
              "    }\n",
              "\n",
              "    [theme=dark] .colab-df-convert {\n",
              "      background-color: #3B4455;\n",
              "      fill: #D2E3FC;\n",
              "    }\n",
              "\n",
              "    [theme=dark] .colab-df-convert:hover {\n",
              "      background-color: #434B5C;\n",
              "      box-shadow: 0px 1px 3px 1px rgba(0, 0, 0, 0.15);\n",
              "      filter: drop-shadow(0px 1px 2px rgba(0, 0, 0, 0.3));\n",
              "      fill: #FFFFFF;\n",
              "    }\n",
              "  </style>\n",
              "\n",
              "      <script>\n",
              "        const buttonEl =\n",
              "          document.querySelector('#df-4f81a112-0ade-4b9f-b4cf-d6f93e530f2d button.colab-df-convert');\n",
              "        buttonEl.style.display =\n",
              "          google.colab.kernel.accessAllowed ? 'block' : 'none';\n",
              "\n",
              "        async function convertToInteractive(key) {\n",
              "          const element = document.querySelector('#df-4f81a112-0ade-4b9f-b4cf-d6f93e530f2d');\n",
              "          const dataTable =\n",
              "            await google.colab.kernel.invokeFunction('convertToInteractive',\n",
              "                                                     [key], {});\n",
              "          if (!dataTable) return;\n",
              "\n",
              "          const docLinkHtml = 'Like what you see? Visit the ' +\n",
              "            '<a target=\"_blank\" href=https://colab.research.google.com/notebooks/data_table.ipynb>data table notebook</a>'\n",
              "            + ' to learn more about interactive tables.';\n",
              "          element.innerHTML = '';\n",
              "          dataTable['output_type'] = 'display_data';\n",
              "          await google.colab.output.renderOutput(dataTable, element);\n",
              "          const docLink = document.createElement('div');\n",
              "          docLink.innerHTML = docLinkHtml;\n",
              "          element.appendChild(docLink);\n",
              "        }\n",
              "      </script>\n",
              "    </div>\n",
              "  </div>\n",
              "  "
            ],
            "text/plain": [
              "       sepal_length  sepal_width  petal_length  petal_width\n",
              "count    150.000000   150.000000    150.000000   150.000000\n",
              "mean       5.843333     3.057333      3.758000     1.199333\n",
              "std        0.828066     0.435866      1.765298     0.762238\n",
              "min        4.300000     2.000000      1.000000     0.100000\n",
              "25%        5.100000     2.800000      1.600000     0.300000\n",
              "50%        5.800000     3.000000      4.350000     1.300000\n",
              "75%        6.400000     3.300000      5.100000     1.800000\n",
              "max        7.900000     4.400000      6.900000     2.500000"
            ]
          },
          "metadata": {},
          "execution_count": 45
        }
      ]
    },
    {
      "cell_type": "markdown",
      "metadata": {
        "id": "6ElWVxeedywC"
      },
      "source": [
        "## II. Pandas Series are like single columns."
      ]
    },
    {
      "cell_type": "code",
      "execution_count": 46,
      "metadata": {
        "colab": {
          "base_uri": "https://localhost:8080/"
        },
        "id": "JvYwz_pTdywC",
        "outputId": "3cfe81af-a37b-43db-af39-3d437fdc4fd3"
      },
      "outputs": [
        {
          "output_type": "stream",
          "name": "stdout",
          "text": [
            "0    0\n",
            "1    1\n",
            "2    2\n",
            "3    3\n",
            "4    4\n",
            "dtype: int64\n",
            "<class 'pandas.core.series.Series'>\n"
          ]
        }
      ],
      "source": [
        "integer_series = pd.Series([0,1,2,3,4])\n",
        "print (integer_series)\n",
        "print (type(integer_series))"
      ]
    },
    {
      "cell_type": "code",
      "execution_count": 47,
      "metadata": {
        "colab": {
          "base_uri": "https://localhost:8080/"
        },
        "id": "mFCOPxUsdywC",
        "outputId": "40b2525a-5b49-401d-f660-a0ad9082bb45"
      },
      "outputs": [
        {
          "output_type": "stream",
          "name": "stdout",
          "text": [
            "<class 'pandas.core.series.Series'>\n"
          ]
        }
      ],
      "source": [
        "print (type(df.petal_length))"
      ]
    },
    {
      "cell_type": "code",
      "execution_count": 48,
      "metadata": {
        "colab": {
          "base_uri": "https://localhost:8080/"
        },
        "id": "m9wQ4yn8dywD",
        "outputId": "8223f844-df06-43f5-da10-f24f1ce81097"
      },
      "outputs": [
        {
          "output_type": "stream",
          "name": "stdout",
          "text": [
            "<class 'pandas.core.series.Series'>\n"
          ]
        }
      ],
      "source": [
        "print (type(df['petal_length']))"
      ]
    },
    {
      "cell_type": "code",
      "source": [
        "print (df.petal_length.head())\n",
        "print ('The minimum petal length is', df.petal_length.min())\n",
        "print ('The maximum petal length is', df.petal_length.max())"
      ],
      "metadata": {
        "colab": {
          "base_uri": "https://localhost:8080/"
        },
        "id": "-oSJDPHj8gM2",
        "outputId": "439a1231-f463-4c71-b983-e53ab0336da0"
      },
      "execution_count": 49,
      "outputs": [
        {
          "output_type": "stream",
          "name": "stdout",
          "text": [
            "0    1.4\n",
            "1    1.4\n",
            "2    1.3\n",
            "3    1.5\n",
            "4    1.4\n",
            "Name: petal_length, dtype: float64\n",
            "The minimum petal length is 1.0\n",
            "The maximum petal length is 6.9\n"
          ]
        }
      ]
    },
    {
      "cell_type": "code",
      "source": [
        "print (df.species.unique())"
      ],
      "metadata": {
        "colab": {
          "base_uri": "https://localhost:8080/"
        },
        "id": "3m0HCVNH-oCT",
        "outputId": "1f546437-6175-4d4e-f6c7-a10c74356fa9"
      },
      "execution_count": 50,
      "outputs": [
        {
          "output_type": "stream",
          "name": "stdout",
          "text": [
            "['setosa' 'versicolor' 'virginica']\n"
          ]
        }
      ]
    },
    {
      "cell_type": "code",
      "source": [
        "print (df.petal_length.median())\n",
        "import numpy as np\n",
        "print (np.median(df.petal_length))"
      ],
      "metadata": {
        "colab": {
          "base_uri": "https://localhost:8080/"
        },
        "id": "_PRURWOQ-oHI",
        "outputId": "b3fc599b-ceda-45bd-f6d3-d726e4d85e4d"
      },
      "execution_count": 51,
      "outputs": [
        {
          "output_type": "stream",
          "name": "stdout",
          "text": [
            "4.35\n",
            "4.35\n"
          ]
        }
      ]
    },
    {
      "cell_type": "code",
      "source": [
        "df['petal_area'] = df.petal_width * df.petal_length\n",
        "df['petal_area'].head()"
      ],
      "metadata": {
        "colab": {
          "base_uri": "https://localhost:8080/"
        },
        "id": "z8zpOx0HHWab",
        "outputId": "594d3e0f-f5ff-46f0-ac70-6ba951ebe060"
      },
      "execution_count": 52,
      "outputs": [
        {
          "output_type": "execute_result",
          "data": {
            "text/plain": [
              "0    0.28\n",
              "1    0.28\n",
              "2    0.26\n",
              "3    0.30\n",
              "4    0.28\n",
              "Name: petal_area, dtype: float64"
            ]
          },
          "metadata": {},
          "execution_count": 52
        }
      ]
    },
    {
      "cell_type": "markdown",
      "metadata": {
        "id": "IuBA3BCydywD"
      },
      "source": [
        "## III. Boolean masks allow you to filter data."
      ]
    },
    {
      "cell_type": "code",
      "execution_count": 53,
      "metadata": {
        "id": "rq7iZOvRdywD"
      },
      "outputs": [],
      "source": [
        "list_mask = [True,True,True,True]\n",
        "series_mask = ([True,True,False,False])"
      ]
    },
    {
      "cell_type": "code",
      "execution_count": 54,
      "metadata": {
        "colab": {
          "base_uri": "https://localhost:8080/"
        },
        "id": "5RtZE-hWdywE",
        "outputId": "88753632-cf53-49cc-82e2-9cdb8747131f"
      },
      "outputs": [
        {
          "output_type": "stream",
          "name": "stdout",
          "text": [
            "[True, True, False, False]\n"
          ]
        }
      ],
      "source": [
        "print (series_mask)"
      ]
    },
    {
      "cell_type": "code",
      "execution_count": 71,
      "metadata": {
        "colab": {
          "base_uri": "https://localhost:8080/"
        },
        "id": "XScFqGXidywE",
        "outputId": "173b8ce2-4656-4ec6-93bf-80e5e0446a51"
      },
      "outputs": [
        {
          "output_type": "stream",
          "name": "stdout",
          "text": [
            "0    10\n",
            "1     5\n",
            "2    -3\n",
            "3     2\n",
            "dtype: int64\n"
          ]
        }
      ],
      "source": [
        "example_series = pd.Series([10,5,-3,2])\n",
        "print (example_series)"
      ]
    },
    {
      "cell_type": "code",
      "source": [
        "series_mask = example_series > 0\n",
        "print (series_mask)"
      ],
      "metadata": {
        "colab": {
          "base_uri": "https://localhost:8080/"
        },
        "id": "AS5Zdjz0IEP8",
        "outputId": "261bd2c4-b4b3-4ec0-928e-c5081409f929"
      },
      "execution_count": 72,
      "outputs": [
        {
          "output_type": "stream",
          "name": "stdout",
          "text": [
            "0     True\n",
            "1     True\n",
            "2    False\n",
            "3     True\n",
            "dtype: bool\n"
          ]
        }
      ]
    },
    {
      "cell_type": "code",
      "source": [
        "example_series[series_mask]"
      ],
      "metadata": {
        "colab": {
          "base_uri": "https://localhost:8080/"
        },
        "id": "f0GDgPyNIESU",
        "outputId": "2717f7d3-feaf-409c-d8d6-6bc5cd238932"
      },
      "execution_count": 73,
      "outputs": [
        {
          "output_type": "execute_result",
          "data": {
            "text/plain": [
              "0    10\n",
              "1     5\n",
              "3     2\n",
              "dtype: int64"
            ]
          },
          "metadata": {},
          "execution_count": 73
        }
      ]
    },
    {
      "cell_type": "code",
      "source": [
        ""
      ],
      "metadata": {
        "id": "QBTxVknSIEUn"
      },
      "execution_count": 55,
      "outputs": []
    },
    {
      "cell_type": "code",
      "source": [
        ""
      ],
      "metadata": {
        "id": "yqb-cbTfIEYE"
      },
      "execution_count": 55,
      "outputs": []
    },
    {
      "cell_type": "markdown",
      "metadata": {
        "id": "785M6b5rdywE"
      },
      "source": [
        "## IV. Groupbys allow you to segment and aggregate data."
      ]
    },
    {
      "cell_type": "code",
      "execution_count": 55,
      "metadata": {
        "id": "v5gTopOrdywE"
      },
      "outputs": [],
      "source": [
        ""
      ]
    },
    {
      "cell_type": "code",
      "execution_count": 55,
      "metadata": {
        "id": "UdG8WLcSdywF"
      },
      "outputs": [],
      "source": [
        ""
      ]
    },
    {
      "cell_type": "code",
      "execution_count": 55,
      "metadata": {
        "id": "NdnXP05MdywF"
      },
      "outputs": [],
      "source": [
        ""
      ]
    },
    {
      "cell_type": "markdown",
      "metadata": {
        "id": "kIhBCabDdywF"
      },
      "source": [
        "#### <span style=\"color:#555\">EXERCISES</span>\n",
        "\n",
        "Complete each of the following exercises.\n",
        "\n",
        "First, remember to import Pandas and read in the iris dataset."
      ]
    },
    {
      "cell_type": "code",
      "execution_count": 56,
      "metadata": {
        "colab": {
          "base_uri": "https://localhost:8080/"
        },
        "id": "m-PEDSQMdywF",
        "outputId": "a0f82a17-bee0-4ba9-b2cb-c178e8663ad1"
      },
      "outputs": [
        {
          "output_type": "stream",
          "name": "stdout",
          "text": [
            "Drive already mounted at /content/drive; to attempt to forcibly remount, call drive.mount(\"/content/drive\", force_remount=True).\n"
          ]
        }
      ],
      "source": [
        "import pandas as pd\n",
        "from google.colab import drive\n",
        "drive.mount('/content/drive')"
      ]
    },
    {
      "cell_type": "code",
      "source": [
        "df = pd.read_csv('/content/drive/MyDrive/Colab Notebooks/Python for Data Science/project_files/iris.csv')"
      ],
      "metadata": {
        "id": "icJJiXLpIRzb"
      },
      "execution_count": 57,
      "outputs": []
    },
    {
      "cell_type": "markdown",
      "metadata": {
        "id": "HHqLGzvmdywG"
      },
      "source": [
        "## <span style=\"color:RoyalBlue\">Exercise 5.1 - Flowers for Casey</span>\n",
        "\n",
        "In the previous lesson, we discovered that the first local business we need to visit in Park Royal is a local **flower shop.** When we arrive, we find out that the owner, Casey, urgently needs our help!\n",
        "\n",
        "They just received a new shipment of **iris flowers**, but they've never stocked these flowers before. Casey asks us to share what we know about these new flowers. Luckily, we have the *iris dataset* to learn more about them ourselves!\n",
        "\n",
        "In the previous lesson, we also introduced the idea of using a **toy problem** to reduce the size of a problem and break down the concepts. While 150 observations is not exactly \"big data,\" it's still too large to fit on our screen at once. So let's use another toy problem to practice the concepts in this lesson.\n",
        "\n",
        "#### A.) First, create a new DataFrame called <code style=\"color:steelblue\">toy_df</code>. It should contain the first 5 rows plus the last 5 rows from our original Iris dataset.\n",
        "* **Tip:** You already have a <code style=\"color:steelblue\">.head()</code>, but what about a <code style=\"color:steelblue\">.tail()</code>?\n",
        "* **Tip:** <code style=\"color:steelblue\">pd.concat()</code> is your [friend](http://pandas.pydata.org/pandas-docs/stable/generated/pandas.concat.html)."
      ]
    },
    {
      "cell_type": "code",
      "execution_count": 58,
      "metadata": {
        "id": "IkoVITDtdywG"
      },
      "outputs": [],
      "source": [
        "# Create toy_df\n"
      ]
    },
    {
      "cell_type": "markdown",
      "metadata": {
        "id": "CLnBLYbhdywH"
      },
      "source": [
        "#### B.) Next, display <code style=\"color:steelblue\">toy_df</code>.\n",
        "* After all, it will only be 10 rows.\n",
        "* In <code style=\"color:steelblue\">toy_df</code>, you should have data from 2 different species of flower. Which are they?"
      ]
    },
    {
      "cell_type": "code",
      "execution_count": 59,
      "metadata": {
        "id": "dz1ZkMNJdywH"
      },
      "outputs": [],
      "source": [
        "# Display toy_df\n"
      ]
    },
    {
      "cell_type": "markdown",
      "metadata": {
        "id": "lWcO9O39dywH"
      },
      "source": [
        "<strong style=\"color:RoyalBlue\">Expected output:</strong>\n",
        "\n",
        "<table border=\"1\" class=\"dataframe\">\n",
        "  <thead>\n",
        "    <tr style=\"text-align: right\">\n",
        "      <th></th>\n",
        "      <th>sepal_length</th>\n",
        "      <th>sepal_width</th>\n",
        "      <th>petal_length</th>\n",
        "      <th>petal_width</th>\n",
        "      <th>species</th>\n",
        "    </tr>\n",
        "  </thead>\n",
        "  <tbody>\n",
        "    <tr>\n",
        "      <th>0</th>\n",
        "      <td>5.1</td>\n",
        "      <td>3.5</td>\n",
        "      <td>1.4</td>\n",
        "      <td>0.2</td>\n",
        "      <td>setosa</td>\n",
        "    </tr>\n",
        "    <tr>\n",
        "      <th>1</th>\n",
        "      <td>4.9</td>\n",
        "      <td>3.0</td>\n",
        "      <td>1.4</td>\n",
        "      <td>0.2</td>\n",
        "      <td>setosa</td>\n",
        "    </tr>\n",
        "    <tr>\n",
        "      <th>2</th>\n",
        "      <td>4.7</td>\n",
        "      <td>3.2</td>\n",
        "      <td>1.3</td>\n",
        "      <td>0.2</td>\n",
        "      <td>setosa</td>\n",
        "    </tr>\n",
        "    <tr>\n",
        "      <th>3</th>\n",
        "      <td>4.6</td>\n",
        "      <td>3.1</td>\n",
        "      <td>1.5</td>\n",
        "      <td>0.2</td>\n",
        "      <td>setosa</td>\n",
        "    </tr>\n",
        "    <tr>\n",
        "      <th>4</th>\n",
        "      <td>5.0</td>\n",
        "      <td>3.6</td>\n",
        "      <td>1.4</td>\n",
        "      <td>0.2</td>\n",
        "      <td>setosa</td>\n",
        "    </tr>\n",
        "    <tr>\n",
        "      <th>145</th>\n",
        "      <td>6.7</td>\n",
        "      <td>3.0</td>\n",
        "      <td>5.2</td>\n",
        "      <td>2.3</td>\n",
        "      <td>virginica</td>\n",
        "    </tr>\n",
        "    <tr>\n",
        "      <th>146</th>\n",
        "      <td>6.3</td>\n",
        "      <td>2.5</td>\n",
        "      <td>5.0</td>\n",
        "      <td>1.9</td>\n",
        "      <td>virginica</td>\n",
        "    </tr>\n",
        "    <tr>\n",
        "      <th>147</th>\n",
        "      <td>6.5</td>\n",
        "      <td>3.0</td>\n",
        "      <td>5.2</td>\n",
        "      <td>2.0</td>\n",
        "      <td>virginica</td>\n",
        "    </tr>\n",
        "    <tr>\n",
        "      <th>148</th>\n",
        "      <td>6.2</td>\n",
        "      <td>3.4</td>\n",
        "      <td>5.4</td>\n",
        "      <td>2.3</td>\n",
        "      <td>virginica</td>\n",
        "    </tr>\n",
        "    <tr>\n",
        "      <th>149</th>\n",
        "      <td>5.9</td>\n",
        "      <td>3.0</td>\n",
        "      <td>5.1</td>\n",
        "      <td>1.8</td>\n",
        "      <td>virginica</td>\n",
        "    </tr>\n",
        "  </tbody>\n",
        "</table>"
      ]
    },
    {
      "cell_type": "markdown",
      "metadata": {
        "id": "Bdhh5ZK5dywI"
      },
      "source": [
        "#### C.) Next, display a summary table for <code style=\"color:steelblue\">toy_df</code>.\n",
        "* It should have the mean, standard deviation, and quartiles for each of the columns.\n",
        "* Since <code style=\"color:steelblue\">toy_df</code> is only 10 rows, you can manually check the **mins** and **maxes**. Are they correct?"
      ]
    },
    {
      "cell_type": "code",
      "execution_count": 60,
      "metadata": {
        "id": "DuhBcT_edywI"
      },
      "outputs": [],
      "source": [
        "# Describe toy_df\n"
      ]
    },
    {
      "cell_type": "markdown",
      "metadata": {
        "id": "E8NlRCmhdywI"
      },
      "source": [
        "<strong style=\"color:RoyalBlue\">Expected output:</strong>\n",
        "<table border=\"1\" class=\"dataframe\">\n",
        "  <thead>\n",
        "    <tr style=\"text-align: right\">\n",
        "      <th></th>\n",
        "      <th>sepal_length</th>\n",
        "      <th>sepal_width</th>\n",
        "      <th>petal_length</th>\n",
        "      <th>petal_width</th>\n",
        "    </tr>\n",
        "  </thead>\n",
        "  <tbody>\n",
        "    <tr>\n",
        "      <th>count</th>\n",
        "      <td>10.000000</td>\n",
        "      <td>10.000000</td>\n",
        "      <td>10.000000</td>\n",
        "      <td>10.000000</td>\n",
        "    </tr>\n",
        "    <tr>\n",
        "      <th>mean</th>\n",
        "      <td>5.590000</td>\n",
        "      <td>3.130000</td>\n",
        "      <td>3.290000</td>\n",
        "      <td>1.130000</td>\n",
        "    </tr>\n",
        "    <tr>\n",
        "      <th>std</th>\n",
        "      <td>0.807534</td>\n",
        "      <td>0.316403</td>\n",
        "      <td>1.995244</td>\n",
        "      <td>0.992248</td>\n",
        "    </tr>\n",
        "    <tr>\n",
        "      <th>min</th>\n",
        "      <td>4.600000</td>\n",
        "      <td>2.500000</td>\n",
        "      <td>1.300000</td>\n",
        "      <td>0.200000</td>\n",
        "    </tr>\n",
        "    <tr>\n",
        "      <th>25%</th>\n",
        "      <td>4.925000</td>\n",
        "      <td>3.000000</td>\n",
        "      <td>1.400000</td>\n",
        "      <td>0.200000</td>\n",
        "    </tr>\n",
        "    <tr>\n",
        "      <th>50%</th>\n",
        "      <td>5.500000</td>\n",
        "      <td>3.050000</td>\n",
        "      <td>3.250000</td>\n",
        "      <td>1.000000</td>\n",
        "    </tr>\n",
        "    <tr>\n",
        "      <th>75%</th>\n",
        "      <td>6.275000</td>\n",
        "      <td>3.350000</td>\n",
        "      <td>5.175000</td>\n",
        "      <td>1.975000</td>\n",
        "    </tr>\n",
        "    <tr>\n",
        "      <th>max</th>\n",
        "      <td>6.700000</td>\n",
        "      <td>3.600000</td>\n",
        "      <td>5.400000</td>\n",
        "      <td>2.300000</td>\n",
        "    </tr>\n",
        "  </tbody>\n",
        "</table>"
      ]
    },
    {
      "cell_type": "markdown",
      "metadata": {
        "id": "dzKIWQ-VdywI"
      },
      "source": [
        "## <span style=\"color:RoyalBlue\">Exercise 5.2 - Basic Feature Engineering</span>\n",
        "\n",
        "Elementwise operations are very useful in machine learning, especially for **feature engineering.** Feature engineering is the process of creating new features (model input variables) from existing ones, and its one of the best ways for data scientists to add value.\n",
        "\n",
        "In the Iris dataset, we have petal width and length, but what if we wanted to know petal area? Well, we can create a new <code style=\"color:steelblue\">petal_area</code> feature (yes, the petals are not perfect rectangles, but that's fine).\n",
        "\n",
        "#### A.) First, display the two columns of <code style=\"color:steelblue\">petal_width</code> and <code style=\"color:steelblue\">petal_length</code> in <code style=\"color:steelblue\">toy_df</code>.\n",
        "* **Tip:** You can index a DataFrame using a list of column names too, like so:\n",
        "\n",
        "\n",
        "<pre style=\"color:steelblue\">df[['column_1', 'column_2']]</pre>"
      ]
    },
    {
      "cell_type": "code",
      "execution_count": 61,
      "metadata": {
        "id": "B2ezbZhHdywJ"
      },
      "outputs": [],
      "source": [
        "# Display petal_width and petal_length\n"
      ]
    },
    {
      "cell_type": "markdown",
      "metadata": {
        "id": "20Yjf4jtdywJ"
      },
      "source": [
        "<strong style=\"color:RoyalBlue\">Expected output:</strong>\n",
        "<table border=\"1\" class=\"dataframe\">\n",
        "  <thead>\n",
        "    <tr style=\"text-align: right\">\n",
        "      <th></th>\n",
        "      <th>petal_width</th>\n",
        "      <th>petal_length</th>\n",
        "    </tr>\n",
        "  </thead>\n",
        "  <tbody>\n",
        "    <tr>\n",
        "      <th>0</th>\n",
        "      <td>0.2</td>\n",
        "      <td>1.4</td>\n",
        "    </tr>\n",
        "    <tr>\n",
        "      <th>1</th>\n",
        "      <td>0.2</td>\n",
        "      <td>1.4</td>\n",
        "    </tr>\n",
        "    <tr>\n",
        "      <th>2</th>\n",
        "      <td>0.2</td>\n",
        "      <td>1.3</td>\n",
        "    </tr>\n",
        "    <tr>\n",
        "      <th>3</th>\n",
        "      <td>0.2</td>\n",
        "      <td>1.5</td>\n",
        "    </tr>\n",
        "    <tr>\n",
        "      <th>4</th>\n",
        "      <td>0.2</td>\n",
        "      <td>1.4</td>\n",
        "    </tr>\n",
        "    <tr>\n",
        "      <th>145</th>\n",
        "      <td>2.3</td>\n",
        "      <td>5.2</td>\n",
        "    </tr>\n",
        "    <tr>\n",
        "      <th>146</th>\n",
        "      <td>1.9</td>\n",
        "      <td>5.0</td>\n",
        "    </tr>\n",
        "    <tr>\n",
        "      <th>147</th>\n",
        "      <td>2.0</td>\n",
        "      <td>5.2</td>\n",
        "    </tr>\n",
        "    <tr>\n",
        "      <th>148</th>\n",
        "      <td>2.3</td>\n",
        "      <td>5.4</td>\n",
        "    </tr>\n",
        "    <tr>\n",
        "      <th>149</th>\n",
        "      <td>1.8</td>\n",
        "      <td>5.1</td>\n",
        "    </tr>\n",
        "  </tbody>\n",
        "</table>"
      ]
    },
    {
      "cell_type": "markdown",
      "metadata": {
        "id": "WUICR9tadywJ"
      },
      "source": [
        "#### B.) Next, create a new <code style=\"color:steelblue\">petal_area</code> feature in <code style=\"color:steelblue\">toy_df</code>.\n",
        "* Multiply the <code style=\"color:steelblue\">petal_width</code> column by the <code style=\"color:steelblue\">petal_length</code> column.\n",
        "* Display <code style=\"color:steelblue\">toy_df</code> after creating the new feature.\n",
        "* Are the values for <code style=\"color:steelblue\">petal_area</code> correct? Manually spot check a few of them just to make sure."
      ]
    },
    {
      "cell_type": "code",
      "execution_count": 62,
      "metadata": {
        "id": "PTrzbBB6dywJ"
      },
      "outputs": [],
      "source": [
        "# Create a new petal_area column\n",
        "\n",
        "\n",
        "# Display toy_df\n",
        "\n"
      ]
    },
    {
      "cell_type": "markdown",
      "metadata": {
        "id": "lySm5lxQdywJ"
      },
      "source": [
        "<strong style=\"color:RoyalBlue\">Expected output:</strong>\n",
        "<table border=\"1\" class=\"dataframe\">\n",
        "  <thead>\n",
        "    <tr style=\"text-align: right\">\n",
        "      <th></th>\n",
        "      <th>sepal_length</th>\n",
        "      <th>sepal_width</th>\n",
        "      <th>petal_length</th>\n",
        "      <th>petal_width</th>\n",
        "      <th>species</th>\n",
        "      <th>petal_area</th>\n",
        "    </tr>\n",
        "  </thead>\n",
        "  <tbody>\n",
        "    <tr>\n",
        "      <th>0</th>\n",
        "      <td>5.1</td>\n",
        "      <td>3.5</td>\n",
        "      <td>1.4</td>\n",
        "      <td>0.2</td>\n",
        "      <td>setosa</td>\n",
        "      <td>0.28</td>\n",
        "    </tr>\n",
        "    <tr>\n",
        "      <th>1</th>\n",
        "      <td>4.9</td>\n",
        "      <td>3.0</td>\n",
        "      <td>1.4</td>\n",
        "      <td>0.2</td>\n",
        "      <td>setosa</td>\n",
        "      <td>0.28</td>\n",
        "    </tr>\n",
        "    <tr>\n",
        "      <th>2</th>\n",
        "      <td>4.7</td>\n",
        "      <td>3.2</td>\n",
        "      <td>1.3</td>\n",
        "      <td>0.2</td>\n",
        "      <td>setosa</td>\n",
        "      <td>0.26</td>\n",
        "    </tr>\n",
        "    <tr>\n",
        "      <th>3</th>\n",
        "      <td>4.6</td>\n",
        "      <td>3.1</td>\n",
        "      <td>1.5</td>\n",
        "      <td>0.2</td>\n",
        "      <td>setosa</td>\n",
        "      <td>0.30</td>\n",
        "    </tr>\n",
        "    <tr>\n",
        "      <th>4</th>\n",
        "      <td>5.0</td>\n",
        "      <td>3.6</td>\n",
        "      <td>1.4</td>\n",
        "      <td>0.2</td>\n",
        "      <td>setosa</td>\n",
        "      <td>0.28</td>\n",
        "    </tr>\n",
        "    <tr>\n",
        "      <th>145</th>\n",
        "      <td>6.7</td>\n",
        "      <td>3.0</td>\n",
        "      <td>5.2</td>\n",
        "      <td>2.3</td>\n",
        "      <td>virginica</td>\n",
        "      <td>11.96</td>\n",
        "    </tr>\n",
        "    <tr>\n",
        "      <th>146</th>\n",
        "      <td>6.3</td>\n",
        "      <td>2.5</td>\n",
        "      <td>5.0</td>\n",
        "      <td>1.9</td>\n",
        "      <td>virginica</td>\n",
        "      <td>9.50</td>\n",
        "    </tr>\n",
        "    <tr>\n",
        "      <th>147</th>\n",
        "      <td>6.5</td>\n",
        "      <td>3.0</td>\n",
        "      <td>5.2</td>\n",
        "      <td>2.0</td>\n",
        "      <td>virginica</td>\n",
        "      <td>10.40</td>\n",
        "    </tr>\n",
        "    <tr>\n",
        "      <th>148</th>\n",
        "      <td>6.2</td>\n",
        "      <td>3.4</td>\n",
        "      <td>5.4</td>\n",
        "      <td>2.3</td>\n",
        "      <td>virginica</td>\n",
        "      <td>12.42</td>\n",
        "    </tr>\n",
        "    <tr>\n",
        "      <th>149</th>\n",
        "      <td>5.9</td>\n",
        "      <td>3.0</td>\n",
        "      <td>5.1</td>\n",
        "      <td>1.8</td>\n",
        "      <td>virginica</td>\n",
        "      <td>9.18</td>\n",
        "    </tr>\n",
        "  </tbody>\n",
        "</table>"
      ]
    },
    {
      "cell_type": "markdown",
      "metadata": {
        "id": "V9LcXuFidywK"
      },
      "source": [
        "### C.) Finally, what do we now know about Iris flowers?\n",
        "\n",
        "By creating a <code style=\"color:steelblue\">petal_area</code> feature, it's now much easier to see that virginica flowers have significantly larger petals than setosa flowers do! Often, by creating new features, you can learn more about the data (and improve your machine learning models). As you might guess, a machine learning algorithm and take these features and tease out the underlying patterns in a much more precise and comprehensive way."
      ]
    },
    {
      "cell_type": "markdown",
      "metadata": {
        "id": "FuekVip8dywK"
      },
      "source": [
        "## <span style=\"color:RoyalBlue\">Exercise 5.3 - Mask On Mask Off</span>\n",
        "\n",
        "Now, let's use the <code style=\"color:steelblue\">toy_df</code> to really drive home the concept of **boolean masks**, because we'll be using these very frequently in data science.\n",
        "\n",
        "For example, assume we wanted to display observations where <code style=\"color:steelblue\">petal_area > 10</code> and <code style=\"color:steelblue\">sepal_width > 3</code>. How could we do so?\n",
        "\n",
        "#### A.) First, display <code style=\"color:steelblue\">toy_df</code> again just to have it in front of you."
      ]
    },
    {
      "cell_type": "code",
      "execution_count": 63,
      "metadata": {
        "id": "INYPW7-RdywK"
      },
      "outputs": [],
      "source": [
        "# Display toy_df\n"
      ]
    },
    {
      "cell_type": "markdown",
      "metadata": {
        "id": "IJUYUlykdywK"
      },
      "source": [
        "#### B.) Take a look at the DataFrame and manually count the number that satisfy our conditions.\n",
        "* How many observations have <code style=\"color:steelblue\">petal_area > 10</code>?\n",
        "* How many observations have <code style=\"color:steelblue\">sepal_width > 3</code>?\n",
        "* How many satisfy both conditions?"
      ]
    },
    {
      "cell_type": "markdown",
      "metadata": {
        "id": "VGyIIrPEdywK"
      },
      "source": [
        "*In the toy_df, there are:*\n",
        "* **3** observations with <code style=\"color:steelblue\">petal_area > 10</code> (indices 145, 147, 148)\n",
        "* **5** observations with <code style=\"color:steelblue\">sepal_width > 3</code> (indices 0,2,3,4,148)\n",
        "* **1** observation that satifies both conditions (index 148)"
      ]
    },
    {
      "cell_type": "markdown",
      "metadata": {
        "id": "OJRx1bBldywL"
      },
      "source": [
        "Great. Now we'll see what's going on under the hood when we use our boolean masks.\n",
        "\n",
        "#### C.) Create a boolean mask for <code style=\"color:steelblue\">petal_area > 10</code>.\n",
        "* Name it <code style=\"color:steelblue\">petal_area_mask</code>.\n",
        "* Display the mask after you create it.\n",
        "* Does the result make sense?"
      ]
    },
    {
      "cell_type": "code",
      "execution_count": 64,
      "metadata": {
        "id": "zC74yGBpdywL"
      },
      "outputs": [],
      "source": [
        "# Mask for petal_area > 10\n",
        "\n",
        "\n",
        "# Display petal_area_mask\n"
      ]
    },
    {
      "cell_type": "markdown",
      "metadata": {
        "id": "bohlrjl4dywL"
      },
      "source": [
        "<strong style=\"color:RoyalBlue\">Expected output:</strong>\n",
        "<pre>\n",
        "0      False\n",
        "1      False\n",
        "2      False\n",
        "3      False\n",
        "4      False\n",
        "145     True\n",
        "146    False\n",
        "147     True\n",
        "148     True\n",
        "149    False\n",
        "Name: petal_area, dtype: bool\n",
        "</pre>"
      ]
    },
    {
      "cell_type": "markdown",
      "metadata": {
        "id": "YP9h6eRcdywL"
      },
      "source": [
        "#### D.) Next, create a boolean mask for <code style=\"color:steelblue\">sepal_width > 3</code>.\n",
        "* Name it <code style=\"color:steelblue\">sepal_width_mask</code>.\n",
        "* Display the mask after you create it.\n",
        "* Does the result make sense?"
      ]
    },
    {
      "cell_type": "code",
      "execution_count": 65,
      "metadata": {
        "id": "wQj3gxDudywL"
      },
      "outputs": [],
      "source": [
        "# Mask for sepal_width > 3\n",
        "\n",
        "\n",
        "# Display sepal_width_mask\n"
      ]
    },
    {
      "cell_type": "markdown",
      "metadata": {
        "id": "2Qe7gFp-dywL"
      },
      "source": [
        "<strong style=\"color:RoyalBlue\">Expected output:</strong>\n",
        "<pre>\n",
        "0       True\n",
        "1      False\n",
        "2       True\n",
        "3       True\n",
        "4       True\n",
        "145    False\n",
        "146    False\n",
        "147    False\n",
        "148     True\n",
        "149    False\n",
        "Name: sepal_width, dtype: bool\n",
        "</pre>"
      ]
    },
    {
      "cell_type": "markdown",
      "metadata": {
        "id": "cgfMaF0ydywL"
      },
      "source": [
        "#### E.) Next, display the two masks combined using the <code style=\"color:steelblue\">&</code> operator.\n",
        "* Note how their combination results in another boolean mask!"
      ]
    },
    {
      "cell_type": "code",
      "execution_count": 66,
      "metadata": {
        "id": "V8K-Mlh3dywL"
      },
      "outputs": [],
      "source": [
        "# Display both masks, combined\n"
      ]
    },
    {
      "cell_type": "markdown",
      "metadata": {
        "id": "wgmNFUj1dywM"
      },
      "source": [
        "<strong style=\"color:RoyalBlue\">Expected output:</strong>\n",
        "<pre>\n",
        "0      False\n",
        "1      False\n",
        "2      False\n",
        "3      False\n",
        "4      False\n",
        "145    False\n",
        "146    False\n",
        "147    False\n",
        "148     True\n",
        "149    False\n",
        "dtype: bool\n",
        "</pre>"
      ]
    },
    {
      "cell_type": "markdown",
      "metadata": {
        "id": "HPTtzIN4dywM"
      },
      "source": [
        "#### F.) Finally, select the observation(s) from <code style=\"color:steelblue\">toy_df</code> where both conditions are met.\n",
        "* Do you get the result you expected based on (B)?"
      ]
    },
    {
      "cell_type": "code",
      "execution_count": 67,
      "metadata": {
        "id": "mALvQZmJdywM"
      },
      "outputs": [],
      "source": [
        "# Index with both masks\n"
      ]
    },
    {
      "cell_type": "markdown",
      "metadata": {
        "id": "rqZ22aa8dywM"
      },
      "source": [
        "## <span style=\"color:RoyalBlue\">Exercise 5.4 - Iris Insights</span>\n",
        "\n",
        "With the help of **groupbys**, we're almost ready to return to Casey and share what we've learned about Iris flowers. But before we do, let's just bring back our <code style=\"color:steelblue\">toy_df</code> for one last hoorah, just to make sure we know what's going on under the hood.\n",
        "\n",
        "Let's calculate the median <code style=\"color:steelblue\">petal_area</code> for each species. Since <code style=\"color:steelblue\">toy_df</code> is small, we can do this manually as well and check to make sure the values are correct.\n",
        "\n",
        "\n",
        "#### A.) First, let's manually calculate the median <code style=\"color:steelblue\">petal_area</code> for the virginica flowers in our <code style=\"steelblue\">toy_df</code>.\n",
        "* Display all observations of the virginica species.\n",
        "* Sort them by <code style=\"color:steelblue\">petal_area</code> in ascending order.\n",
        "* **Tip:** Check out the <code style=\"color:steelblue\">.sort_values()</code> function ([documentation](http://pandas.pydata.org/pandas-docs/stable/generated/pandas.DataFrame.sort_values.html))."
      ]
    },
    {
      "cell_type": "code",
      "execution_count": 68,
      "metadata": {
        "id": "Z7UA19jpdywM"
      },
      "outputs": [],
      "source": [
        "# Display all 'virginica' species, sorted by petal_area\n"
      ]
    },
    {
      "cell_type": "markdown",
      "metadata": {
        "id": "sTWkf52udywM"
      },
      "source": [
        "<strong style=\"color:RoyalBlue\">Expected output:</strong>\n",
        "<table border=\"1\" class=\"dataframe\">\n",
        "  <thead>\n",
        "    <tr style=\"text-align: right\">\n",
        "      <th></th>\n",
        "      <th>sepal_length</th>\n",
        "      <th>sepal_width</th>\n",
        "      <th>petal_length</th>\n",
        "      <th>petal_width</th>\n",
        "      <th>species</th>\n",
        "      <th>petal_area</th>\n",
        "    </tr>\n",
        "  </thead>\n",
        "  <tbody>\n",
        "    <tr>\n",
        "      <th>149</th>\n",
        "      <td>5.9</td>\n",
        "      <td>3.0</td>\n",
        "      <td>5.1</td>\n",
        "      <td>1.8</td>\n",
        "      <td>virginica</td>\n",
        "      <td>9.18</td>\n",
        "    </tr>\n",
        "    <tr>\n",
        "      <th>146</th>\n",
        "      <td>6.3</td>\n",
        "      <td>2.5</td>\n",
        "      <td>5.0</td>\n",
        "      <td>1.9</td>\n",
        "      <td>virginica</td>\n",
        "      <td>9.50</td>\n",
        "    </tr>\n",
        "    <tr>\n",
        "      <th>147</th>\n",
        "      <td>6.5</td>\n",
        "      <td>3.0</td>\n",
        "      <td>5.2</td>\n",
        "      <td>2.0</td>\n",
        "      <td>virginica</td>\n",
        "      <td>10.40</td>\n",
        "    </tr>\n",
        "    <tr>\n",
        "      <th>145</th>\n",
        "      <td>6.7</td>\n",
        "      <td>3.0</td>\n",
        "      <td>5.2</td>\n",
        "      <td>2.3</td>\n",
        "      <td>virginica</td>\n",
        "      <td>11.96</td>\n",
        "    </tr>\n",
        "    <tr>\n",
        "      <th>148</th>\n",
        "      <td>6.2</td>\n",
        "      <td>3.4</td>\n",
        "      <td>5.4</td>\n",
        "      <td>2.3</td>\n",
        "      <td>virginica</td>\n",
        "      <td>12.42</td>\n",
        "    </tr>\n",
        "  </tbody>\n",
        "</table>"
      ]
    },
    {
      "cell_type": "markdown",
      "metadata": {
        "id": "tq-VVYaedywM"
      },
      "source": [
        "Based on the output above, what's median <code style=\"color:steelblue\">petal_area</code> for the virginica species?\n",
        "\n",
        "#### B.) Next, let's manually calculate the median <code style=\"color:steelblue\">petal_area</code> for the setosa flowers in our <code style=\"steelblue\">toy_df</code>.\n",
        "* Display all observations of the setosa species.\n",
        "* Sort them by <code style=\"color:steelblue\">petal_area</code> in ascending order.\n",
        "* Based on the output, what's median <code style=\"color:steelblue\">petal_area</code> for the setosa species?"
      ]
    },
    {
      "cell_type": "code",
      "execution_count": 69,
      "metadata": {
        "id": "tFHBl9JvdywM"
      },
      "outputs": [],
      "source": [
        "# Display all 'setosa' species\n"
      ]
    },
    {
      "cell_type": "markdown",
      "metadata": {
        "id": "eSiWTj9ddywN"
      },
      "source": [
        "<strong style=\"color:RoyalBlue\">Expected output:</strong>\n",
        "<table border=\"1\" class=\"dataframe\">\n",
        "  <thead>\n",
        "    <tr style=\"text-align: right\">\n",
        "      <th></th>\n",
        "      <th>sepal_length</th>\n",
        "      <th>sepal_width</th>\n",
        "      <th>petal_length</th>\n",
        "      <th>petal_width</th>\n",
        "      <th>species</th>\n",
        "      <th>petal_area</th>\n",
        "    </tr>\n",
        "  </thead>\n",
        "  <tbody>\n",
        "    <tr>\n",
        "      <th>2</th>\n",
        "      <td>4.7</td>\n",
        "      <td>3.2</td>\n",
        "      <td>1.3</td>\n",
        "      <td>0.2</td>\n",
        "      <td>setosa</td>\n",
        "      <td>0.26</td>\n",
        "    </tr>\n",
        "    <tr>\n",
        "      <th>0</th>\n",
        "      <td>5.1</td>\n",
        "      <td>3.5</td>\n",
        "      <td>1.4</td>\n",
        "      <td>0.2</td>\n",
        "      <td>setosa</td>\n",
        "      <td>0.28</td>\n",
        "    </tr>\n",
        "    <tr>\n",
        "      <th>1</th>\n",
        "      <td>4.9</td>\n",
        "      <td>3.0</td>\n",
        "      <td>1.4</td>\n",
        "      <td>0.2</td>\n",
        "      <td>setosa</td>\n",
        "      <td>0.28</td>\n",
        "    </tr>\n",
        "    <tr>\n",
        "      <th>4</th>\n",
        "      <td>5.0</td>\n",
        "      <td>3.6</td>\n",
        "      <td>1.4</td>\n",
        "      <td>0.2</td>\n",
        "      <td>setosa</td>\n",
        "      <td>0.28</td>\n",
        "    </tr>\n",
        "    <tr>\n",
        "      <th>3</th>\n",
        "      <td>4.6</td>\n",
        "      <td>3.1</td>\n",
        "      <td>1.5</td>\n",
        "      <td>0.2</td>\n",
        "      <td>setosa</td>\n",
        "      <td>0.30</td>\n",
        "    </tr>\n",
        "  </tbody>\n",
        "</table>"
      ]
    },
    {
      "cell_type": "markdown",
      "metadata": {
        "id": "Mz4-bak7dywN"
      },
      "source": [
        "#### C.) Finally let's calculate the median values using a <code style=\"color:steelblue\">.groupby()</code>.\n",
        "* Do you get the same result?"
      ]
    },
    {
      "cell_type": "code",
      "execution_count": 70,
      "metadata": {
        "id": "Du5PlX14dywN"
      },
      "outputs": [],
      "source": [
        "# Median petal_area in toy_df\n"
      ]
    },
    {
      "cell_type": "markdown",
      "metadata": {
        "id": "27jJpF-PdywN"
      },
      "source": [
        "<strong style=\"color:RoyalBlue\">Expected output:</strong>\n",
        "<pre>\n",
        "species\n",
        "setosa        0.28\n",
        "virginica    10.40\n",
        "Name: petal_area, dtype: float64\n",
        "</pre>"
      ]
    },
    {
      "cell_type": "markdown",
      "metadata": {
        "id": "t1dluUAXdywN"
      },
      "source": [
        "#### Congratulations... You've completed the training mission!\n",
        "\n",
        "In this lesson, you explored the Iris dataset using Pandas. After arming yourself with Pandas, you've successfully completed the rest of the training mission!*"
      ]
    }
  ],
  "metadata": {
    "anaconda-cloud": {},
    "kernelspec": {
      "display_name": "Python 3",
      "language": "python",
      "name": "python3"
    },
    "language_info": {
      "codemirror_mode": {
        "name": "ipython",
        "version": 3
      },
      "file_extension": ".py",
      "mimetype": "text/x-python",
      "name": "python",
      "nbconvert_exporter": "python",
      "pygments_lexer": "ipython3",
      "version": "3.7.0"
    },
    "colab": {
      "name": "5 - Workbook - Pandas.ipynb",
      "provenance": [],
      "collapsed_sections": [],
      "include_colab_link": true
    }
  },
  "nbformat": 4,
  "nbformat_minor": 0
}