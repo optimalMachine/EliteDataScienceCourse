{
  "nbformat": 4,
  "nbformat_minor": 0,
  "metadata": {
    "anaconda-cloud": {},
    "kernelspec": {
      "display_name": "Python 3",
      "language": "python",
      "name": "python3"
    },
    "language_info": {
      "codemirror_mode": {
        "name": "ipython",
        "version": 3
      },
      "file_extension": ".py",
      "mimetype": "text/x-python",
      "name": "python",
      "nbconvert_exporter": "python",
      "pygments_lexer": "ipython3",
      "version": "3.7.0"
    },
    "colab": {
      "name": "4 - Workbook - NumPy.ipynb",
      "provenance": [],
      "collapsed_sections": [
        "cXj26yPAhWqc",
        "1w7m66BkhWqf",
        "hwMyLViahWqi",
        "Ot2O_e1rhWqo",
        "ntfFG1dehWqt",
        "piQ2Px7-hWqy",
        "ZT0cmkkohWq1",
        "jK2j3Zn1hWq5",
        "Kfu4_bovhWq7",
        "VTpnQW-chWq9",
        "RVHA8WjOhWq_"
      ],
      "include_colab_link": true
    }
  },
  "cells": [
    {
      "cell_type": "markdown",
      "metadata": {
        "id": "view-in-github",
        "colab_type": "text"
      },
      "source": [
        "<a href=\"https://colab.research.google.com/github/optimalMachine/EliteDataScienceCourse/blob/master/4_Workbook_NumPy.ipynb\" target=\"_parent\"><img src=\"https://colab.research.google.com/assets/colab-badge.svg\" alt=\"Open In Colab\"/></a>"
      ]
    },
    {
      "cell_type": "markdown",
      "metadata": {
        "id": "QifsBbvkhWp5"
      },
      "source": [
        "#### COMPANION WORKBOOK\n",
        "\n",
        "# NumPy\n",
        "\n",
        "To make the most out this program, we strongly recommend you to:\n",
        "1. First practice writing and implementing all of the code from Coding Section of the online lesson.\n",
        "2. Then, freely experiment with and explore any interesting or confusing concepts. Simply insert new code cells and then use the help of Google and official documentation.\n",
        "3. Finally, tackle all of the exercises at the end. They will help you tie everything together and **learn in context.**\n",
        "\n",
        "#### <span style=\"color:#555\">LESSON CODE SANDBOX</span>\n",
        "\n",
        "Use this space to practice writing and implementing all of the code from Coding Section of the online lesson. Insert new code cells as needed, and feel free to write notes to yourself in Markdown."
      ]
    },
    {
      "cell_type": "markdown",
      "metadata": {
        "id": "vMnSIsE7hWp5"
      },
      "source": [
        "First, let's import the actual NumPy library."
      ]
    },
    {
      "cell_type": "code",
      "metadata": {
        "id": "L3NB1H7UhWp6"
      },
      "source": [
        "import numpy as np"
      ],
      "execution_count": 38,
      "outputs": []
    },
    {
      "cell_type": "markdown",
      "metadata": {
        "id": "evJ_l7j4hWp9"
      },
      "source": [
        "## I. NumPy Arrays are homogeneous."
      ]
    },
    {
      "cell_type": "code",
      "metadata": {
        "id": "ZWZwNWrYhWp-",
        "outputId": "ead31a55-139d-44a6-dc49-0776993514a1",
        "colab": {
          "base_uri": "https://localhost:8080/",
          "height": 52
        }
      },
      "source": [
        "array_a = np.array([0,1,2,3])\n",
        "print (array_a)\n",
        "print (type(array_a))"
      ],
      "execution_count": 39,
      "outputs": [
        {
          "output_type": "stream",
          "text": [
            "[0 1 2 3]\n",
            "<class 'numpy.ndarray'>\n"
          ],
          "name": "stdout"
        }
      ]
    },
    {
      "cell_type": "code",
      "metadata": {
        "id": "PfSrOQmbhWqA",
        "outputId": "87c9f757-c7c7-4f5a-8a20-bae5f2612c87",
        "colab": {
          "base_uri": "https://localhost:8080/",
          "height": 35
        }
      },
      "source": [
        "print (array_a.dtype)"
      ],
      "execution_count": 40,
      "outputs": [
        {
          "output_type": "stream",
          "text": [
            "int64\n"
          ],
          "name": "stdout"
        }
      ]
    },
    {
      "cell_type": "code",
      "metadata": {
        "id": "InXGRhYShWqD",
        "outputId": "f4c19f13-5dd3-47bb-c551-7c3f563957d2",
        "colab": {
          "base_uri": "https://localhost:8080/",
          "height": 52
        }
      },
      "source": [
        "array_b = np.array(['four',5,6])\n",
        "print (array_b)\n",
        "print (array_b.dtype)"
      ],
      "execution_count": 41,
      "outputs": [
        {
          "output_type": "stream",
          "text": [
            "['four' '5' '6']\n",
            "<U4\n"
          ],
          "name": "stdout"
        }
      ]
    },
    {
      "cell_type": "code",
      "metadata": {
        "id": "UL5Q_3oXM2ZW",
        "outputId": "25da2027-f09e-4993-e3ad-99b1980121ac",
        "colab": {
          "base_uri": "https://localhost:8080/",
          "height": 52
        }
      },
      "source": [
        "print (array_a.shape)\n",
        "print (array_b.shape)"
      ],
      "execution_count": 42,
      "outputs": [
        {
          "output_type": "stream",
          "text": [
            "(4,)\n",
            "(3,)\n"
          ],
          "name": "stdout"
        }
      ]
    },
    {
      "cell_type": "code",
      "metadata": {
        "id": "DSrGS3KsM8N4",
        "outputId": "39fc3b6a-2009-45d5-f048-712a2ed69432",
        "colab": {
          "base_uri": "https://localhost:8080/",
          "height": 69
        }
      },
      "source": [
        "print (array_a[0])\n",
        "print (array_a[-1])\n",
        "print (array_a[2:4])"
      ],
      "execution_count": 43,
      "outputs": [
        {
          "output_type": "stream",
          "text": [
            "0\n",
            "3\n",
            "[2 3]\n"
          ],
          "name": "stdout"
        }
      ]
    },
    {
      "cell_type": "code",
      "metadata": {
        "id": "7zMsScaZOlUm",
        "outputId": "656b4d21-d5b2-4d54-e9a4-20ece8599f17",
        "colab": {
          "base_uri": "https://localhost:8080/",
          "height": 52
        }
      },
      "source": [
        "array_with_missing_value = np.array([1.2,8.8,4.0,np.nan,6.1])\n",
        "print (array_with_missing_value)\n",
        "print (array_with_missing_value.dtype)"
      ],
      "execution_count": 44,
      "outputs": [
        {
          "output_type": "stream",
          "text": [
            "[1.2 8.8 4.  nan 6.1]\n",
            "float64\n"
          ],
          "name": "stdout"
        }
      ]
    },
    {
      "cell_type": "markdown",
      "metadata": {
        "id": "oLJaTvlShWqF"
      },
      "source": [
        "## II. NumPy Arrays are multidimensional."
      ]
    },
    {
      "cell_type": "code",
      "metadata": {
        "id": "FPFVihwChWqF",
        "outputId": "796c69d5-fba2-443f-d3c2-584eaa0a5099",
        "colab": {
          "base_uri": "https://localhost:8080/",
          "height": 52
        }
      },
      "source": [
        "array_c = np.array ([[1,2,3],[4,5,6]])\n",
        "print (array_c)"
      ],
      "execution_count": 45,
      "outputs": [
        {
          "output_type": "stream",
          "text": [
            "[[1 2 3]\n",
            " [4 5 6]]\n"
          ],
          "name": "stdout"
        }
      ]
    },
    {
      "cell_type": "code",
      "metadata": {
        "id": "h68YUx1phWqI",
        "outputId": "5b56ff38-fbb7-4f47-f1f4-09056f7d6f67",
        "colab": {
          "base_uri": "https://localhost:8080/",
          "height": 35
        }
      },
      "source": [
        "print (array_c.shape)"
      ],
      "execution_count": 46,
      "outputs": [
        {
          "output_type": "stream",
          "text": [
            "(2, 3)\n"
          ],
          "name": "stdout"
        }
      ]
    },
    {
      "cell_type": "code",
      "metadata": {
        "id": "qKNIZ-ffhWqM",
        "outputId": "3d012ae8-fcb3-483d-cc9e-ffebc45d51d9",
        "colab": {
          "base_uri": "https://localhost:8080/",
          "height": 69
        }
      },
      "source": [
        "print (array_c.reshape(3,2))"
      ],
      "execution_count": 47,
      "outputs": [
        {
          "output_type": "stream",
          "text": [
            "[[1 2]\n",
            " [3 4]\n",
            " [5 6]]\n"
          ],
          "name": "stdout"
        }
      ]
    },
    {
      "cell_type": "code",
      "metadata": {
        "id": "bDQhvL2aWHgn",
        "outputId": "f6c93c5a-177c-40e0-cdcb-e0f6892b1508",
        "colab": {
          "base_uri": "https://localhost:8080/",
          "height": 35
        }
      },
      "source": [
        "print (array_c.reshape(1,6))"
      ],
      "execution_count": 48,
      "outputs": [
        {
          "output_type": "stream",
          "text": [
            "[[1 2 3 4 5 6]]\n"
          ],
          "name": "stdout"
        }
      ]
    },
    {
      "cell_type": "code",
      "metadata": {
        "id": "_BbbmYPkJy2m",
        "outputId": "eafe3d74-1664-4acb-fe73-542cfe9b6e4b",
        "colab": {
          "base_uri": "https://localhost:8080/",
          "height": 35
        }
      },
      "source": [
        "print (len(array_c.reshape(1,6).shape))"
      ],
      "execution_count": 49,
      "outputs": [
        {
          "output_type": "stream",
          "text": [
            "2\n"
          ],
          "name": "stdout"
        }
      ]
    },
    {
      "cell_type": "code",
      "metadata": {
        "id": "QUioDPBLJ_Lv",
        "outputId": "c3646c40-9c26-4af2-eb18-b80da22084e5",
        "colab": {
          "base_uri": "https://localhost:8080/",
          "height": 52
        }
      },
      "source": [
        "print (array_c.reshape(6,))\n",
        "print (array_c.flatten().shape)\n"
      ],
      "execution_count": 50,
      "outputs": [
        {
          "output_type": "stream",
          "text": [
            "[1 2 3 4 5 6]\n",
            "(6,)\n"
          ],
          "name": "stdout"
        }
      ]
    },
    {
      "cell_type": "code",
      "metadata": {
        "id": "tvXsgLQ1PAQJ"
      },
      "source": [
        ""
      ],
      "execution_count": 50,
      "outputs": []
    },
    {
      "cell_type": "markdown",
      "metadata": {
        "id": "EYxojKPQhWqO"
      },
      "source": [
        "## III. NumPy math is elementwise."
      ]
    },
    {
      "cell_type": "code",
      "metadata": {
        "id": "GLeUVhjcYLyc",
        "outputId": "c572fe39-c587-48e6-c226-98cd8cc77457",
        "colab": {
          "base_uri": "https://localhost:8080/",
          "height": 52
        }
      },
      "source": [
        "x = np.array([[1.0,2.0],[3.0,4.0]])\n",
        "print (x)"
      ],
      "execution_count": 51,
      "outputs": [
        {
          "output_type": "stream",
          "text": [
            "[[1. 2.]\n",
            " [3. 4.]]\n"
          ],
          "name": "stdout"
        }
      ]
    },
    {
      "cell_type": "code",
      "metadata": {
        "id": "6SRBlBdwhWqO",
        "outputId": "0e8bcf3d-a6a9-4f73-a010-72c3d3ef61d0",
        "colab": {
          "base_uri": "https://localhost:8080/",
          "height": 52
        }
      },
      "source": [
        "y = np.array([[2.0,5.0],[10.0,3.0]])\n",
        "print (y)"
      ],
      "execution_count": 52,
      "outputs": [
        {
          "output_type": "stream",
          "text": [
            "[[ 2.  5.]\n",
            " [10.  3.]]\n"
          ],
          "name": "stdout"
        }
      ]
    },
    {
      "cell_type": "code",
      "metadata": {
        "id": "E_BZhc0whWqR",
        "outputId": "339f4cc0-b581-4e36-be01-21dfacb78610",
        "colab": {
          "base_uri": "https://localhost:8080/",
          "height": 52
        }
      },
      "source": [
        "print (x+y)"
      ],
      "execution_count": 53,
      "outputs": [
        {
          "output_type": "stream",
          "text": [
            "[[ 3.  7.]\n",
            " [13.  7.]]\n"
          ],
          "name": "stdout"
        }
      ]
    },
    {
      "cell_type": "code",
      "metadata": {
        "id": "Yyk48HUhhWqT",
        "outputId": "0369835d-9016-4415-fe31-f4fc009f5247",
        "colab": {
          "base_uri": "https://localhost:8080/",
          "height": 156
        }
      },
      "source": [
        "print (x-y)\n",
        "print (x*y)\n",
        "print (x/y)\n",
        "print (x%y)"
      ],
      "execution_count": 54,
      "outputs": [
        {
          "output_type": "stream",
          "text": [
            "[[-1. -3.]\n",
            " [-7.  1.]]\n",
            "[[ 2. 10.]\n",
            " [30. 12.]]\n",
            "[[0.5        0.4       ]\n",
            " [0.3        1.33333333]]\n",
            "[[1. 2.]\n",
            " [3. 1.]]\n"
          ],
          "name": "stdout"
        }
      ]
    },
    {
      "cell_type": "code",
      "metadata": {
        "id": "U8kJSoRSYE9_",
        "outputId": "c3086b4e-9e62-451e-b0d9-1ea771773125",
        "colab": {
          "base_uri": "https://localhost:8080/",
          "height": 173
        }
      },
      "source": [
        "print (x-y,'\\n')\n",
        "print (x+y,'\\n')\n",
        "print (x*y,'\\n')"
      ],
      "execution_count": 55,
      "outputs": [
        {
          "output_type": "stream",
          "text": [
            "[[-1. -3.]\n",
            " [-7.  1.]] \n",
            "\n",
            "[[ 3.  7.]\n",
            " [13.  7.]] \n",
            "\n",
            "[[ 2. 10.]\n",
            " [30. 12.]] \n",
            "\n"
          ],
          "name": "stdout"
        }
      ]
    },
    {
      "cell_type": "code",
      "metadata": {
        "id": "tSTvIr6BaiLj",
        "outputId": "23f89585-6975-49f1-ddf7-3a97e73eae54",
        "colab": {
          "base_uri": "https://localhost:8080/",
          "height": 260
        }
      },
      "source": [
        "print (x,'\\n')\n",
        "print (np.power(x,2),'\\n')\n",
        "print (np.power(x,3), '\\n')\n",
        "print (np.log(x),'\\n')\n",
        "print (np.sqrt(x))"
      ],
      "execution_count": 56,
      "outputs": [
        {
          "output_type": "stream",
          "text": [
            "[[1. 2.]\n",
            " [3. 4.]] \n",
            "\n",
            "[[ 1.  4.]\n",
            " [ 9. 16.]] \n",
            "\n",
            "[[ 1.  8.]\n",
            " [27. 64.]] \n",
            "\n",
            "[[0.         0.69314718]\n",
            " [1.09861229 1.38629436]] \n",
            "\n",
            "[[1.         1.41421356]\n",
            " [1.73205081 2.        ]]\n"
          ],
          "name": "stdout"
        }
      ]
    },
    {
      "cell_type": "code",
      "metadata": {
        "id": "rpwFDcjGbH8E",
        "outputId": "207c5713-e9b5-402b-91f5-b8b15676c6ea",
        "colab": {
          "base_uri": "https://localhost:8080/",
          "height": 225
        }
      },
      "source": [
        "print (x,'\\n')\n",
        "print (np.sum(x),'\\n')\n",
        "print (np.min(x),'\\n')\n",
        "print (np.max(x),'\\n')\n",
        "print (np.median(x),'\\n')\n",
        "print (np.mean(x))"
      ],
      "execution_count": 57,
      "outputs": [
        {
          "output_type": "stream",
          "text": [
            "[[1. 2.]\n",
            " [3. 4.]] \n",
            "\n",
            "10.0 \n",
            "\n",
            "1.0 \n",
            "\n",
            "4.0 \n",
            "\n",
            "2.5 \n",
            "\n",
            "2.5\n"
          ],
          "name": "stdout"
        }
      ]
    },
    {
      "cell_type": "code",
      "metadata": {
        "id": "j8NF7JpGdXMf",
        "outputId": "2a7dbd1d-d234-4986-edb6-8ab48b782b3c",
        "colab": {
          "base_uri": "https://localhost:8080/",
          "height": 87
        }
      },
      "source": [
        "print (np.sum(x,axis=0), '\\n')\n",
        "print (np.sum(x,axis=1), '\\n')"
      ],
      "execution_count": 58,
      "outputs": [
        {
          "output_type": "stream",
          "text": [
            "[4. 6.] \n",
            "\n",
            "[3. 7.] \n",
            "\n"
          ],
          "name": "stdout"
        }
      ]
    },
    {
      "cell_type": "markdown",
      "metadata": {
        "id": "M1JBOhTghWqV"
      },
      "source": [
        "## IV. NumPy is reliably random."
      ]
    },
    {
      "cell_type": "code",
      "metadata": {
        "id": "wQa-AuNKhWqV",
        "outputId": "bed63236-585b-4f76-8315-7a97e719a19b",
        "colab": {
          "base_uri": "https://localhost:8080/",
          "height": 35
        }
      },
      "source": [
        "np.random.randint(low=0,high=10,size=5)"
      ],
      "execution_count": 59,
      "outputs": [
        {
          "output_type": "execute_result",
          "data": {
            "text/plain": [
              "array([2, 6, 7, 1, 5])"
            ]
          },
          "metadata": {
            "tags": []
          },
          "execution_count": 59
        }
      ]
    },
    {
      "cell_type": "code",
      "metadata": {
        "id": "xLpuXWk6hWqY",
        "outputId": "12912ce7-1713-4612-8a98-4823676fc50b",
        "colab": {
          "base_uri": "https://localhost:8080/",
          "height": 191
        }
      },
      "source": [
        "sample = np.random.randint(low=0,high=10,size=64)\n",
        "print (sample)\n",
        "print (sample.reshape(8,8))"
      ],
      "execution_count": 77,
      "outputs": [
        {
          "output_type": "stream",
          "text": [
            "[1 2 6 7 1 0 0 2 5 6 1 3 3 1 7 6 1 4 7 6 2 0 7 8 5 7 1 0 7 4 1 3 8 4 6 6 2\n",
            " 6 3 7 3 4 1 2 2 2 9 9 7 5 8 2 4 5 3 3 1 4 1 2 0 6 1 6]\n",
            "[[1 2 6 7 1 0 0 2]\n",
            " [5 6 1 3 3 1 7 6]\n",
            " [1 4 7 6 2 0 7 8]\n",
            " [5 7 1 0 7 4 1 3]\n",
            " [8 4 6 6 2 6 3 7]\n",
            " [3 4 1 2 2 2 9 9]\n",
            " [7 5 8 2 4 5 3 3]\n",
            " [1 4 1 2 0 6 1 6]]\n"
          ],
          "name": "stdout"
        }
      ]
    },
    {
      "cell_type": "code",
      "metadata": {
        "id": "_gogBt_1hWqa",
        "outputId": "1c1c1f29-e93e-47df-a09e-62c7ece24ba5",
        "colab": {
          "base_uri": "https://localhost:8080/",
          "height": 156
        }
      },
      "source": [
        "generated_matrix = np.random.randint(0,10,(8,8))\n",
        "generated_matrix"
      ],
      "execution_count": 75,
      "outputs": [
        {
          "output_type": "execute_result",
          "data": {
            "text/plain": [
              "array([[3, 9, 5, 5, 7, 3, 6, 0],\n",
              "       [2, 6, 6, 8, 4, 4, 8, 9],\n",
              "       [7, 4, 0, 1, 0, 1, 0, 4],\n",
              "       [4, 7, 1, 3, 8, 7, 8, 7],\n",
              "       [1, 2, 8, 2, 9, 2, 8, 2],\n",
              "       [9, 5, 7, 4, 8, 7, 4, 1],\n",
              "       [9, 0, 1, 5, 2, 6, 1, 8],\n",
              "       [7, 6, 7, 0, 0, 2, 6, 4]])"
            ]
          },
          "metadata": {
            "tags": []
          },
          "execution_count": 75
        }
      ]
    },
    {
      "cell_type": "code",
      "metadata": {
        "id": "C7TNLygqiuSs",
        "outputId": "c2daee7a-67f2-480f-9bd4-ba104c6fa6a9",
        "colab": {
          "base_uri": "https://localhost:8080/",
          "height": 156
        }
      },
      "source": [
        "generated_matrix = np.random.randint(0,10,(8,8))\n",
        "generated_matrix"
      ],
      "execution_count": 76,
      "outputs": [
        {
          "output_type": "execute_result",
          "data": {
            "text/plain": [
              "array([[5, 5, 1, 9, 2, 4, 7, 4],\n",
              "       [4, 0, 4, 5, 0, 4, 7, 6],\n",
              "       [8, 5, 5, 3, 5, 4, 6, 8],\n",
              "       [3, 8, 6, 1, 5, 8, 5, 1],\n",
              "       [7, 2, 7, 0, 3, 7, 9, 7],\n",
              "       [3, 6, 5, 0, 8, 7, 0, 5],\n",
              "       [6, 8, 1, 8, 2, 6, 9, 5],\n",
              "       [5, 2, 8, 9, 4, 6, 1, 1]])"
            ]
          },
          "metadata": {
            "tags": []
          },
          "execution_count": 76
        }
      ]
    },
    {
      "cell_type": "code",
      "metadata": {
        "id": "FXxbVaF7jmVs",
        "outputId": "e51082fe-dd2d-4f6a-d841-3a0cd3629393",
        "colab": {
          "base_uri": "https://localhost:8080/",
          "height": 156
        }
      },
      "source": [
        "np.random.seed(321)\n",
        "generated_matrix = np.random.randint(0,10,(8,8))\n",
        "print (generated_matrix)"
      ],
      "execution_count": 78,
      "outputs": [
        {
          "output_type": "stream",
          "text": [
            "[[4 9 8 1 8 8 4 5]\n",
            " [8 3 5 1 4 6 5 7]\n",
            " [7 2 2 3 9 2 1 2]\n",
            " [1 1 0 4 4 3 0 3]\n",
            " [7 4 5 7 0 8 7 1]\n",
            " [0 2 5 6 1 0 7 2]\n",
            " [8 3 0 3 9 8 5 6]\n",
            " [0 2 7 5 2 3 9 9]]\n"
          ],
          "name": "stdout"
        }
      ]
    },
    {
      "cell_type": "code",
      "metadata": {
        "id": "LeBX9OKqjyT6",
        "outputId": "8595720f-b022-4c0c-b1cf-e5e2d8f8477f",
        "colab": {
          "base_uri": "https://localhost:8080/",
          "height": 156
        }
      },
      "source": [
        "generated_matrix"
      ],
      "execution_count": 80,
      "outputs": [
        {
          "output_type": "execute_result",
          "data": {
            "text/plain": [
              "array([[4, 9, 8, 1, 8, 8, 4, 5],\n",
              "       [8, 3, 5, 1, 4, 6, 5, 7],\n",
              "       [7, 2, 2, 3, 9, 2, 1, 2],\n",
              "       [1, 1, 0, 4, 4, 3, 0, 3],\n",
              "       [7, 4, 5, 7, 0, 8, 7, 1],\n",
              "       [0, 2, 5, 6, 1, 0, 7, 2],\n",
              "       [8, 3, 0, 3, 9, 8, 5, 6],\n",
              "       [0, 2, 7, 5, 2, 3, 9, 9]])"
            ]
          },
          "metadata": {
            "tags": []
          },
          "execution_count": 80
        }
      ]
    },
    {
      "cell_type": "code",
      "metadata": {
        "id": "qGb3QZPYkDcy",
        "outputId": "ffee7af9-6721-4522-9768-67ace1b09fd3",
        "colab": {
          "base_uri": "https://localhost:8080/",
          "height": 35
        }
      },
      "source": [
        "print (generated_matrix[:,0])"
      ],
      "execution_count": 81,
      "outputs": [
        {
          "output_type": "stream",
          "text": [
            "[4 8 7 1 7 0 8 0]\n"
          ],
          "name": "stdout"
        }
      ]
    },
    {
      "cell_type": "code",
      "metadata": {
        "id": "Ob_JxwyMuJIS"
      },
      "source": [
        ""
      ],
      "execution_count": null,
      "outputs": []
    },
    {
      "cell_type": "markdown",
      "metadata": {
        "id": "cXj26yPAhWqc"
      },
      "source": [
        "#### <span style=\"color:#555\">EXERCISES</span>\n",
        "\n",
        "Complete each of the following exercises.\n",
        "\n",
        "## <span style=\"color:RoyalBlue\">Exercise 4.1 - Business Park Arrays</span>\n",
        "\n",
        "#### In the previous lesson...\n",
        "\n",
        "In the previous lesson, we decided on Park Royal as our first stop in our training mission to London. Now we've arrived at the tube station! Park Royal is home to London's largest business park. \n",
        "* Assume the business park supports 1,700 businesses.\n",
        "* HQ sent you a manual with their names and locations. \n",
        "* *They are listed in order from smallest to largest* (this will be important later).\n",
        "\n",
        "#### A.) First, let's create a NumPy array called <code style=\"color:steelblue\">business_ids</code>.\n",
        "* The first business has ID <code>1</code>, the second one has ID <code>2</code> and so on.\n",
        "* Remember that Python is zero-indexed... but your business ID array should still start from 1!\n",
        "* The array should have shape <code style=\"color:steelblue\">(1700,)</code>."
      ]
    },
    {
      "cell_type": "code",
      "metadata": {
        "id": "1PENtWJbhWqc"
      },
      "source": [
        "# Create array of business_ids with values ranging from 1 to 1700\n"
      ],
      "execution_count": 61,
      "outputs": []
    },
    {
      "cell_type": "markdown",
      "metadata": {
        "id": "1w7m66BkhWqf"
      },
      "source": [
        "#### B.) Next, print the shape of <code style=\"color:steelblue\">business_ids</code> to confirm it has shape <code style=\"color:steelblue\">(1700,)</code>."
      ]
    },
    {
      "cell_type": "code",
      "metadata": {
        "id": "OrkLvLC-hWqf"
      },
      "source": [
        "# Print shape of business_ids\n"
      ],
      "execution_count": 62,
      "outputs": []
    },
    {
      "cell_type": "markdown",
      "metadata": {
        "id": "3bV7T_UZhWqh"
      },
      "source": [
        "<strong style=\"color:RoyalBlue\">Expected output:</strong>\n",
        "\n",
        "<pre>\n",
        "(1700,)\n",
        "</pre>"
      ]
    },
    {
      "cell_type": "markdown",
      "metadata": {
        "id": "hwMyLViahWqi"
      },
      "source": [
        "#### C.) Finally, print the last 10 business ID's to confirm the array is set up properly."
      ]
    },
    {
      "cell_type": "code",
      "metadata": {
        "scrolled": true,
        "id": "WLrKx7zUhWqi"
      },
      "source": [
        "# Print last 10 business ID's\n"
      ],
      "execution_count": 63,
      "outputs": []
    },
    {
      "cell_type": "markdown",
      "metadata": {
        "id": "mC24HIcnhWql"
      },
      "source": [
        "<strong style=\"color:RoyalBlue\">Expected output:</strong>\n",
        "\n",
        "<pre>\n",
        "[1691 1692 1693 1694 1695 1696 1697 1698 1699 1700]\n",
        "</pre>"
      ]
    },
    {
      "cell_type": "markdown",
      "metadata": {
        "id": "OjztqA0AhWql"
      },
      "source": [
        "## <span style=\"color:RoyalBlue\">Exercise 4.2 - Stratified Random Sampling</span>\n",
        "\n",
        "There are **1700** businesses in Park Royal's business park. However, you only have **10** hours to stay in Park Royal before you need to move on to the next location. Assuming you could only visit **5** businesses per hour, which businesses should you visit?\n",
        "\n",
        "#### Well, 2 options immediately come to mind:\n",
        "1. You could just visit the first 50 businesses.\n",
        "2. You could randomly sample 50 businesses.\n",
        "\n",
        "While these appear fine at first glance, there are potential flaws with both of these approaches. *Remember, we learned that the businesses were listed in order from smallest to largest! Therefore...*\n",
        "1. Just visiting the first 50 would give us a biased sample of only the smallest businesses.\n",
        "2. Visiting a random sample of 50 is better, but there's still a chance that our sample ends up biased from pure chance.\n",
        "\n",
        "#### Instead, let's take a *stratified random sample* based on the size of the business.\n",
        "* Stratified random sampling is a sampling method by which you first group your observations based on a **key variable**, and then randomly sampling from those groups.\n",
        "* This will ensure your sample is **representative** of the broader dataset along that key variable. In other words, your sample will be \"spread out\" across different values of that key variable.\n",
        "\n",
        "<p style=\"text-align:center\">\n",
        "<img src=\"https://upload.wikimedia.org/wikipedia/commons/f/fa/Stratified_sampling.PNG\" alt=\"Stratified Random Sampling\" style=\"width: 280px;\"/>\n",
        "<br>\n",
        "<em>Stratified Random Sampling</em>\n",
        "</p>\n",
        "\n",
        "#### For this exercise, stratified random sampling just means that...\n",
        "* We'll start by splitting our businesses into 10 groups of 170 businesses each.\n",
        "* The first group will have ID's from 1 to 170, the second will have ID's from 171 to 340, etc.\n",
        "* Then we'll randomly select 5 businesses from each group of 170.\n",
        "* Since the businesses are already ordered by size, this will ensure that small, medium, and big businesses are all represented in our sample.\n",
        "\n",
        "#### A.) First, reshape the 1-dimensional <code style=\"color:steelblue\">business_ids</code> array into a new 2-dimensional <code style=\"color:steelblue\">id_matrix</code> array.\n",
        "* <code style=\"color:steelblue\">id_matrix</code> should have **10 columns**... one for each group of businesses.\n",
        "* How many rows should it have?\n",
        "* What does the number of rows represent?"
      ]
    },
    {
      "cell_type": "code",
      "metadata": {
        "id": "rb5UnmbvhWql"
      },
      "source": [
        "# Create id_matrix by reshaping business_ids to have 10 columns\n",
        "\n",
        "\n",
        "# Print shape\n",
        "\n"
      ],
      "execution_count": 64,
      "outputs": []
    },
    {
      "cell_type": "markdown",
      "metadata": {
        "id": "vwPq0H6qhWqo"
      },
      "source": [
        "<strong style=\"color:RoyalBlue\">Expected output:</strong>\n",
        "\n",
        "<pre>\n",
        "(170, 10)\n",
        "</pre>"
      ]
    },
    {
      "cell_type": "markdown",
      "metadata": {
        "id": "Ot2O_e1rhWqo"
      },
      "source": [
        "Great, now we have a matrix with 10 columns representing 10 groups of businesses. But remember, our goal is to stratify our sample by size of the business, and because our businesses are ordered by size, the first group should be 1 to 170, the second group should be 171 to 340, and so on.\n",
        "\n",
        "#### B.) Print the first column (group) of <code style=\"color:steelblue\">id_matrix</code>.\n",
        "* Does it contain businesses 1 to 170?"
      ]
    },
    {
      "cell_type": "code",
      "metadata": {
        "id": "6d6pOOZ3hWqo"
      },
      "source": [
        "# Print first column of id_matrix\n"
      ],
      "execution_count": 65,
      "outputs": []
    },
    {
      "cell_type": "markdown",
      "metadata": {
        "id": "1YUQmcnEhWqq"
      },
      "source": [
        "<strong style=\"color:RoyalBlue\">Expected output:</strong>\n",
        "\n",
        "<pre>\n",
        "[   1   11   21   31   41   51   61   71   81   91  101  111  121  131  141\n",
        "  151  161  171  181  191  201  211  221  231  241  251  261  271  281  291\n",
        "  301  311  321  331  341  351  361  371  381  391  401  411  421  431  441\n",
        "  451  461  471  481  491  501  511  521  531  541  551  561  571  581  591\n",
        "  601  611  621  631  641  651  661  671  681  691  701  711  721  731  741\n",
        "  751  761  771  781  791  801  811  821  831  841  851  861  871  881  891\n",
        "  901  911  921  931  941  951  961  971  981  991 1001 1011 1021 1031 1041\n",
        " 1051 1061 1071 1081 1091 1101 1111 1121 1131 1141 1151 1161 1171 1181 1191\n",
        " 1201 1211 1221 1231 1241 1251 1261 1271 1281 1291 1301 1311 1321 1331 1341\n",
        " 1351 1361 1371 1381 1391 1401 1411 1421 1431 1441 1451 1461 1471 1481 1491\n",
        " 1501 1511 1521 1531 1541 1551 1561 1571 1581 1591 1601 1611 1621 1631 1641\n",
        " 1651 1661 1671 1681 1691]\n",
        "</pre>"
      ]
    },
    {
      "cell_type": "markdown",
      "metadata": {
        "id": "OdAzjkwdhWqq"
      },
      "source": [
        "Crap, that's not what we wanted. Ah, but we should have seen this coming!\n",
        "\n",
        "Remember, when you <code style=\"color:steelblue\">.reshape</code> an array, the new array keeps the order of the elements. Let's see how we can solve this."
      ]
    },
    {
      "cell_type": "markdown",
      "metadata": {
        "id": "r-gikgLThWqr"
      },
      "source": [
        "## <span style=\"color:RoyalBlue\">Exercise 4.3 - Toy Problem Interlude</span>\n",
        "\n",
        "Let's walk through a miniature example of what we just did in the previous exercise, because it will be easier to understand by peeking under the hood. \n",
        "* Instead of 1700 businesses, let's say we only had **170** businesses to visit, but we still want to group them into **10** groups by ID.\n",
        "* Therefore, we want the first group to have businesses **1 to 17**, the second group to have **18 to 34**, the third group to have **35 to 51**, and so on.\n",
        "\n",
        "By using this type of \"toy problem,\" we can actually print the entire matrix and see what's going on under the hood when we reshape an array.\n",
        "\n",
        "#### A.) Create a new <code>mini_business_ids</code> array with only 170 businesses (10% of the size of our full problem).\n",
        "* Then reshape it to only have 10 columns and store it as <code>mini_id_matrix</code>.\n",
        "* Finally, display <code>mini_id_matrix</code>."
      ]
    },
    {
      "cell_type": "code",
      "metadata": {
        "id": "8H6_ZUJKhWqr"
      },
      "source": [
        "# Create array of 170 ID's\n",
        "\n",
        "\n",
        "# Reshape to have 10 columns\n",
        "\n",
        "\n",
        "# Display mini_id_matrix\n",
        "\n"
      ],
      "execution_count": 66,
      "outputs": []
    },
    {
      "cell_type": "markdown",
      "metadata": {
        "id": "xl39L2jThWqt"
      },
      "source": [
        "<strong style=\"color:RoyalBlue\">Expected output:</strong>\n",
        "\n",
        "<pre>\n",
        "[[  1   2   3   4   5   6   7   8   9  10]\n",
        " [ 11  12  13  14  15  16  17  18  19  20]\n",
        " [ 21  22  23  24  25  26  27  28  29  30]\n",
        " [ 31  32  33  34  35  36  37  38  39  40]\n",
        " [ 41  42  43  44  45  46  47  48  49  50]\n",
        " [ 51  52  53  54  55  56  57  58  59  60]\n",
        " [ 61  62  63  64  65  66  67  68  69  70]\n",
        " [ 71  72  73  74  75  76  77  78  79  80]\n",
        " [ 81  82  83  84  85  86  87  88  89  90]\n",
        " [ 91  92  93  94  95  96  97  98  99 100]\n",
        " [101 102 103 104 105 106 107 108 109 110]\n",
        " [111 112 113 114 115 116 117 118 119 120]\n",
        " [121 122 123 124 125 126 127 128 129 130]\n",
        " [131 132 133 134 135 136 137 138 139 140]\n",
        " [141 142 143 144 145 146 147 148 149 150]\n",
        " [151 152 153 154 155 156 157 158 159 160]\n",
        " [161 162 163 164 165 166 167 168 169 170]]\n",
        "</pre>"
      ]
    },
    {
      "cell_type": "markdown",
      "metadata": {
        "id": "ntfFG1dehWqt"
      },
      "source": [
        "There! Do you see how it fills in the matrix one row at a time?\n",
        "* So, when you select the first **column**, you're not getting businesses 1 to 17. \n",
        "* Instead, you're getting every 10th business: 1, 11, 21, 31, etc...\n",
        "\n",
        "#### B.) Aha, now we're on to something... so instead of reshaping to 17 rows and 10 columns, let's try reshaping it to 10 rows and 17 columns."
      ]
    },
    {
      "cell_type": "code",
      "metadata": {
        "id": "2pINYJKshWqt"
      },
      "source": [
        "# Reshape to have 10 rows\n",
        "\n",
        "\n",
        "# Display mini id matrix\n",
        "\n"
      ],
      "execution_count": 67,
      "outputs": []
    },
    {
      "cell_type": "markdown",
      "metadata": {
        "id": "qvjbbdeRhWqv"
      },
      "source": [
        "<strong style=\"color:RoyalBlue\">Expected output:</strong>\n",
        "\n",
        "<pre>\n",
        "[[  1   2   3   4   5   6   7   8   9  10  11  12  13  14  15  16  17]\n",
        " [ 18  19  20  21  22  23  24  25  26  27  28  29  30  31  32  33  34]\n",
        " [ 35  36  37  38  39  40  41  42  43  44  45  46  47  48  49  50  51]\n",
        " [ 52  53  54  55  56  57  58  59  60  61  62  63  64  65  66  67  68]\n",
        " [ 69  70  71  72  73  74  75  76  77  78  79  80  81  82  83  84  85]\n",
        " [ 86  87  88  89  90  91  92  93  94  95  96  97  98  99 100 101 102]\n",
        " [103 104 105 106 107 108 109 110 111 112 113 114 115 116 117 118 119]\n",
        " [120 121 122 123 124 125 126 127 128 129 130 131 132 133 134 135 136]\n",
        " [137 138 139 140 141 142 143 144 145 146 147 148 149 150 151 152 153]\n",
        " [154 155 156 157 158 159 160 161 162 163 164 165 166 167 168 169 170]]\n",
        "</pre>"
      ]
    },
    {
      "cell_type": "markdown",
      "metadata": {
        "id": "9VwxMxEIhWqv"
      },
      "source": [
        "Now we have 10 rows instead of 10 columns. \n",
        "* The first **row** has the businesses 1 to 17, which is what we want!\n",
        "* And if we want the first **column** to have businesses 1 to 17, we can simply **transpose** this matrix.\n",
        "\n",
        "Working through toy problems is an underappreciated and very useful skill in data science... Toy problems are basically miniature versions of your problem that are easier to break apart and understand conceptually. You'll often be working with difficult datasets or solving tough analytical problems. If you get stuck, it can be helpful to work through a simpler version of the problem by reducing the size of your dataset or trying easier algorithms!"
      ]
    },
    {
      "cell_type": "markdown",
      "metadata": {
        "id": "8VM6crSahWqv"
      },
      "source": [
        "## <span style=\"color:RoyalBlue\">Exercise 4.4 - SRS Round 2</span>\n",
        "\n",
        "Let's try building that <code style=\"color:steelblue\">id_matrix</code> again. \n",
        "\n",
        "#### A.) This time, reshape it to have 10 rows, each representing 1 group of businesses.\n",
        "* The first row should contain businesses 1 to 170."
      ]
    },
    {
      "cell_type": "code",
      "metadata": {
        "id": "UvQ1L22FhWqw"
      },
      "source": [
        "# Reshape business_ids to have 10 rows, with 170 businesses each\n"
      ],
      "execution_count": 68,
      "outputs": []
    },
    {
      "cell_type": "markdown",
      "metadata": {
        "id": "piQ2Px7-hWqy"
      },
      "source": [
        "#### B.) Now, print the first *row* of <code style=\"color:steelblue\">id_matrix</code>."
      ]
    },
    {
      "cell_type": "code",
      "metadata": {
        "id": "ymPxJE-GhWqy"
      },
      "source": [
        "# Print the first row of id_matrix\n"
      ],
      "execution_count": 69,
      "outputs": []
    },
    {
      "cell_type": "markdown",
      "metadata": {
        "id": "KGE2rDBmhWq1"
      },
      "source": [
        "<strong style=\"color:RoyalBlue\">Expected output:</strong>\n",
        "\n",
        "<pre>\n",
        "[  1   2   3   4   5   6   7   8   9  10  11  12  13  14  15  16  17  18\n",
        "  19  20  21  22  23  24  25  26  27  28  29  30  31  32  33  34  35  36\n",
        "  37  38  39  40  41  42  43  44  45  46  47  48  49  50  51  52  53  54\n",
        "  55  56  57  58  59  60  61  62  63  64  65  66  67  68  69  70  71  72\n",
        "  73  74  75  76  77  78  79  80  81  82  83  84  85  86  87  88  89  90\n",
        "  91  92  93  94  95  96  97  98  99 100 101 102 103 104 105 106 107 108\n",
        " 109 110 111 112 113 114 115 116 117 118 119 120 121 122 123 124 125 126\n",
        " 127 128 129 130 131 132 133 134 135 136 137 138 139 140 141 142 143 144\n",
        " 145 146 147 148 149 150 151 152 153 154 155 156 157 158 159 160 161 162\n",
        " 163 164 165 166 167 168 169 170]\n",
        "</pre>"
      ]
    },
    {
      "cell_type": "markdown",
      "metadata": {
        "id": "ZT0cmkkohWq1"
      },
      "source": [
        "You should see the businesses with ID's from **1 to 170**. Now, what if we still want our groups to be grouped by column, instead of by row? Let's *flip our rows and columns* now that the rows have the correct groups.\n",
        "\n",
        "#### C.) Overwrite <code style=\"color:steelblue\">id_matrix</code> with its transposed version.\n",
        "* After you do so, print the first column in the new <code style=\"color:steelblue\">id_matrix</code> to confirm the group is correct.\n",
        "* Also print the shape of the new <code style=\"color:steelblue\">id_matrix</code> to confirm your new dimensions are correct."
      ]
    },
    {
      "cell_type": "code",
      "metadata": {
        "id": "d7j_vdlYhWq1"
      },
      "source": [
        "# Overwrite id_matrix with flipped version\n",
        "\n",
        "\n",
        "# Print first column\n",
        "\n",
        "\n",
        "# Print shape of new id_matrix\n",
        "\n"
      ],
      "execution_count": 70,
      "outputs": []
    },
    {
      "cell_type": "markdown",
      "metadata": {
        "id": "7F9C-oVQhWq3"
      },
      "source": [
        "<strong style=\"color:RoyalBlue\">Expected output:</strong>\n",
        "\n",
        "<pre>\n",
        "[  1   2   3   4   5   6   7   8   9  10  11  12  13  14  15  16  17  18\n",
        "  19  20  21  22  23  24  25  26  27  28  29  30  31  32  33  34  35  36\n",
        "  37  38  39  40  41  42  43  44  45  46  47  48  49  50  51  52  53  54\n",
        "  55  56  57  58  59  60  61  62  63  64  65  66  67  68  69  70  71  72\n",
        "  73  74  75  76  77  78  79  80  81  82  83  84  85  86  87  88  89  90\n",
        "  91  92  93  94  95  96  97  98  99 100 101 102 103 104 105 106 107 108\n",
        " 109 110 111 112 113 114 115 116 117 118 119 120 121 122 123 124 125 126\n",
        " 127 128 129 130 131 132 133 134 135 136 137 138 139 140 141 142 143 144\n",
        " 145 146 147 148 149 150 151 152 153 154 155 156 157 158 159 160 161 162\n",
        " 163 164 165 166 167 168 169 170]\n",
        "(170, 10)\n",
        "</pre>"
      ]
    },
    {
      "cell_type": "markdown",
      "metadata": {
        "id": "x7DWecjLhWq3"
      },
      "source": [
        "## <span style=\"color:RoyalBlue\">Exercise 4.5 - Final Business Selections</span>\n",
        "\n",
        "Let's take another look at our <code style=\"color:steelblue\">id_matrix</code>. \n",
        "\n",
        "* In <span style=\"color:royalblue\">Exercise 4.2b</span> we displayed the first group (column) and confirmed that the ID's were from **1 to 170**.\n",
        "* Now let's confirm the rest of the array is correct by finding the <code style=\"color:steelblue\">np.min()</code> and <code style=\"color:steelblue\">np.max()</code> of each group.\n",
        "\n",
        "#### A.) First, create and print an object called <code style=\"color:steelblue\">group_min</code> with the minimum ID of each group (column) of <code style=\"color:steelblue\">id_matrix</code>."
      ]
    },
    {
      "cell_type": "code",
      "metadata": {
        "id": "Tobz_3ajhWq3"
      },
      "source": [
        "# Create group_min\n",
        "\n",
        "\n",
        "# Print group_min\n",
        "\n"
      ],
      "execution_count": 71,
      "outputs": []
    },
    {
      "cell_type": "markdown",
      "metadata": {
        "id": "SBtLykdEhWq5"
      },
      "source": [
        "<strong style=\"color:RoyalBlue\">Expected output:</strong>\n",
        "\n",
        "<pre>\n",
        "[   1  171  341  511  681  851 1021 1191 1361 1531]\n",
        "</pre>"
      ]
    },
    {
      "cell_type": "markdown",
      "metadata": {
        "id": "jK2j3Zn1hWq5"
      },
      "source": [
        "#### B.) Next, create and print an object called <code style=\"color:steelblue\">group_max</code> with the maximum ID of each group (column) of <code style=\"color:steelblue\">id_matrix</code>."
      ]
    },
    {
      "cell_type": "code",
      "metadata": {
        "id": "4lI6lWBShWq5"
      },
      "source": [
        "# Create group_max\n",
        "\n",
        "\n",
        "# Print group_max\n",
        "\n"
      ],
      "execution_count": 72,
      "outputs": []
    },
    {
      "cell_type": "markdown",
      "metadata": {
        "id": "oA7AsOemhWq7"
      },
      "source": [
        "<strong style=\"color:RoyalBlue\">Expected output:</strong>\n",
        "\n",
        "<pre>\n",
        "[ 170  340  510  680  850 1020 1190 1360 1530 1700]\n",
        "</pre>"
      ]
    },
    {
      "cell_type": "markdown",
      "metadata": {
        "id": "Kfu4_bovhWq7"
      },
      "source": [
        "#### C.) Next, subtract <code style=\"color:steelblue\">group_min</code> from <code style=\"color:steelblue\">group_max</code> to confirm that each of the 10 groups has a <span style=\"tomato\">range</span> of 170.\n",
        "* Remember to add 1 to the difference between max and min because the ends are inclusive \n",
        "    * i.e. $170 - 1 = 169$"
      ]
    },
    {
      "cell_type": "code",
      "metadata": {
        "id": "DJ0Uvb8ehWq7"
      },
      "source": [
        "# Print range of each group\n"
      ],
      "execution_count": 73,
      "outputs": []
    },
    {
      "cell_type": "markdown",
      "metadata": {
        "id": "RTzG12gChWq9"
      },
      "source": [
        "<strong style=\"color:RoyalBlue\">Expected output:</strong>\n",
        "\n",
        "<pre>\n",
        "[170 170 170 170 170 170 170 170 170 170]\n",
        "</pre>"
      ]
    },
    {
      "cell_type": "markdown",
      "metadata": {
        "id": "VTpnQW-chWq9"
      },
      "source": [
        "Great. We are now ready to select 5 businesses from each group in <code style=\"color:steelblue\">id_matrix</code>.\n",
        "\n",
        "#### D.) Finally, write a loop that chooses 5 businesses from column of <code style=\"color:steelblue\">id_matrix</code>.\n",
        "* Set the random seed to 123. (This is just an arbitrary seed chosen for replicable results... you could technically choose any seed you'd like.)\n",
        "* Format the output like in the <span style=\"color:royalblue\">Expected output</span> cell below.\n",
        "* Should we sample with replacement or without replacement? **Hint:** What happens if a business is selected twice?\n",
        "* Bonus points for writing the loop in a way that works with any number of columns."
      ]
    },
    {
      "cell_type": "code",
      "metadata": {
        "id": "mPbsTHG7hWq9"
      },
      "source": [
        "# Seed random seed\n",
        "\n",
        "\n",
        "# Print selected businesses from each group\n",
        "\n"
      ],
      "execution_count": 74,
      "outputs": []
    },
    {
      "cell_type": "markdown",
      "metadata": {
        "id": "wpMw9MVThWq_"
      },
      "source": [
        "<strong style=\"color:RoyalBlue\">Expected output:</strong>\n",
        "\n",
        "<pre>\n",
        "Group 1: [ 92  73 139  54 147]\n",
        "Group 2: [182 333 219 292 214]\n",
        "Group 3: [482 384 400 458 477]\n",
        "Group 4: [662 603 676 594 609]\n",
        "Group 5: [827 718 829 845 803]\n",
        "Group 6: [979 893 932 864 984]\n",
        "Group 7: [1115 1103 1093 1062 1160]\n",
        "Group 8: [1308 1248 1231 1222 1330]\n",
        "Group 9: [1492 1406 1401 1456 1398]\n",
        "Group 10: [1680 1674 1697 1534 1540]\n",
        "</pre>"
      ]
    },
    {
      "cell_type": "markdown",
      "metadata": {
        "id": "RVHA8WjOhWq_"
      },
      "source": [
        "Awesome, now we're ready to start visiting the businesses... Let's start with Group 1 and the business with ID 7. After checking our manual, we find out that this business happens to be flower shop. We'll see why that's relevant in the next lesson.\n",
        "\n",
        "#### The mission continues in the next lesson...\n",
        "\n",
        "In this lesson, you narrowed the list of businesses down through stratified random sampling. In the next lesson, you'll visit the flower shop and offer help using your data analysis skills!"
      ]
    }
  ]
}