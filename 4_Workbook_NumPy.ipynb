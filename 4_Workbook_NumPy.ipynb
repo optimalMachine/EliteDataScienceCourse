{
  "cells": [
    {
      "cell_type": "markdown",
      "metadata": {
        "id": "view-in-github",
        "colab_type": "text"
      },
      "source": [
        "<a href=\"https://colab.research.google.com/github/optimalMachine/EliteDataScienceCourse/blob/master/4_Workbook_NumPy.ipynb\" target=\"_parent\"><img src=\"https://colab.research.google.com/assets/colab-badge.svg\" alt=\"Open In Colab\"/></a>"
      ]
    },
    {
      "cell_type": "markdown",
      "metadata": {
        "id": "v2axNwqyd9P-"
      },
      "source": [
        "#### COMPANION WORKBOOK\n",
        "\n",
        "# NumPy\n",
        "\n",
        "To make the most out this program, we strongly recommend you to:\n",
        "1. First practice writing and implementing all of the code from Coding Section of the online lesson.\n",
        "2. Then, freely experiment with and explore any interesting or confusing concepts. Simply insert new code cells and then use the help of Google and official documentation.\n",
        "3. Finally, tackle all of the exercises at the end. They will help you tie everything together and **learn in context.**\n",
        "\n",
        "#### <span style=\"color:#555\">LESSON CODE SANDBOX</span>\n",
        "\n",
        "Use this space to practice writing and implementing all of the code from Coding Section of the online lesson. Insert new code cells as needed, and feel free to write notes to yourself in Markdown."
      ]
    },
    {
      "cell_type": "markdown",
      "metadata": {
        "id": "-wCLO70od9QC"
      },
      "source": [
        "First, let's import the actual NumPy library."
      ]
    },
    {
      "cell_type": "code",
      "execution_count": 1,
      "metadata": {
        "id": "VNsNU9N9d9QC"
      },
      "outputs": [],
      "source": [
        "import numpy as np"
      ]
    },
    {
      "cell_type": "markdown",
      "metadata": {
        "id": "w1IG8-7yd9QD"
      },
      "source": [
        "## I. NumPy Arrays are homogeneous."
      ]
    },
    {
      "cell_type": "code",
      "execution_count": 2,
      "metadata": {
        "colab": {
          "base_uri": "https://localhost:8080/"
        },
        "id": "OdUvN--Fd9QE",
        "outputId": "dd5e5194-2139-43a1-ba91-5fdcc3118ca3"
      },
      "outputs": [
        {
          "output_type": "stream",
          "name": "stdout",
          "text": [
            "[0 1 2 3]\n",
            "<class 'numpy.ndarray'>\n"
          ]
        }
      ],
      "source": [
        "array_a = np.array([0,1,2,3])\n",
        "\n",
        "print (array_a)\n",
        "print (type(array_a))"
      ]
    },
    {
      "cell_type": "code",
      "execution_count": 3,
      "metadata": {
        "colab": {
          "base_uri": "https://localhost:8080/"
        },
        "id": "DMtpYpIzd9QE",
        "outputId": "41d4a80e-e64e-4ab1-d16c-8e1339bcc03c"
      },
      "outputs": [
        {
          "output_type": "stream",
          "name": "stdout",
          "text": [
            "int64\n"
          ]
        }
      ],
      "source": [
        "print (array_a.dtype)"
      ]
    },
    {
      "cell_type": "code",
      "execution_count": 4,
      "metadata": {
        "colab": {
          "base_uri": "https://localhost:8080/"
        },
        "id": "7zmy5_R5d9QE",
        "outputId": "d461a480-50d1-4924-bde2-353f6f6d1013"
      },
      "outputs": [
        {
          "output_type": "stream",
          "name": "stdout",
          "text": [
            "['four' '5' '6']\n",
            "<U21\n"
          ]
        }
      ],
      "source": [
        "array_b = np.array(['four',5,6])\n",
        "print (array_b)\n",
        "print (array_b.dtype)"
      ]
    },
    {
      "cell_type": "code",
      "source": [
        "print (array_a.shape)\n",
        "print (array_b.shape)"
      ],
      "metadata": {
        "colab": {
          "base_uri": "https://localhost:8080/"
        },
        "id": "PZVLMjqzQSzY",
        "outputId": "37879f5e-b9e9-4f83-b84c-6ecbaf76f832"
      },
      "execution_count": 5,
      "outputs": [
        {
          "output_type": "stream",
          "name": "stdout",
          "text": [
            "(4,)\n",
            "(3,)\n"
          ]
        }
      ]
    },
    {
      "cell_type": "code",
      "source": [
        "array_with_missing_value = np.array([1.2,8.8,4.0,np.nan,6.1])\n",
        "print (array_with_missing_value)"
      ],
      "metadata": {
        "colab": {
          "base_uri": "https://localhost:8080/"
        },
        "id": "fzK9iloXQqCk",
        "outputId": "68b0cf23-8c52-46ec-c233-18407208602e"
      },
      "execution_count": 6,
      "outputs": [
        {
          "output_type": "stream",
          "name": "stdout",
          "text": [
            "[1.2 8.8 4.  nan 6.1]\n"
          ]
        }
      ]
    },
    {
      "cell_type": "code",
      "source": [
        "print (array_with_missing_value.dtype)"
      ],
      "metadata": {
        "id": "bGhwMQbDurjr",
        "colab": {
          "base_uri": "https://localhost:8080/"
        },
        "outputId": "dca2ec7c-fed1-4689-e2fe-f21e1bd8c23d"
      },
      "execution_count": 7,
      "outputs": [
        {
          "output_type": "stream",
          "name": "stdout",
          "text": [
            "float64\n"
          ]
        }
      ]
    },
    {
      "cell_type": "markdown",
      "metadata": {
        "id": "-e8lfbMYd9QF"
      },
      "source": [
        "## II. NumPy Arrays are multidimensional."
      ]
    },
    {
      "cell_type": "code",
      "source": [
        "array_c = np.array([[1,2,3],[4,5,6]])\n",
        "print (array_c)\n",
        "print (array_c.shape)"
      ],
      "metadata": {
        "id": "LVz8JzKEQX2f",
        "colab": {
          "base_uri": "https://localhost:8080/"
        },
        "outputId": "c1f6d44d-4dd6-4b1b-eea1-5ef50f5f7240"
      },
      "execution_count": 8,
      "outputs": [
        {
          "output_type": "stream",
          "name": "stdout",
          "text": [
            "[[1 2 3]\n",
            " [4 5 6]]\n",
            "(2, 3)\n"
          ]
        }
      ]
    },
    {
      "cell_type": "code",
      "execution_count": 9,
      "metadata": {
        "id": "YedR4agud9QF",
        "colab": {
          "base_uri": "https://localhost:8080/"
        },
        "outputId": "ad4479da-ad4c-44fc-c604-42beb8689ad0"
      },
      "outputs": [
        {
          "output_type": "stream",
          "name": "stdout",
          "text": [
            "[[1 2]\n",
            " [3 4]\n",
            " [5 6]]\n"
          ]
        }
      ],
      "source": [
        "print (array_c.reshape(3,2))"
      ]
    },
    {
      "cell_type": "code",
      "execution_count": 10,
      "metadata": {
        "id": "N6QuZY9nd9QG",
        "colab": {
          "base_uri": "https://localhost:8080/"
        },
        "outputId": "75a8bb6a-171c-4d80-e14d-c8c6538e54dc"
      },
      "outputs": [
        {
          "output_type": "stream",
          "name": "stdout",
          "text": [
            "[[1 2 3]\n",
            " [4 5 6]]\n",
            "[[1 2 3 4 5 6]]\n"
          ]
        }
      ],
      "source": [
        "print (array_c)\n",
        "print (array_c.reshape(1,6))"
      ]
    },
    {
      "cell_type": "code",
      "execution_count": 11,
      "metadata": {
        "id": "U8F_kkGod9QG",
        "colab": {
          "base_uri": "https://localhost:8080/"
        },
        "outputId": "dc4b3fff-fad0-47a0-8596-fab4dbcdab86"
      },
      "outputs": [
        {
          "output_type": "stream",
          "name": "stdout",
          "text": [
            "[1 2 3 4 5 6]\n",
            "[1 2 3 4 5 6]\n"
          ]
        }
      ],
      "source": [
        "print (array_c.reshape(6,))\n",
        "print (array_c.flatten())"
      ]
    },
    {
      "cell_type": "code",
      "source": [
        "print (array_c)\n",
        "print (array_c.transpose())"
      ],
      "metadata": {
        "colab": {
          "base_uri": "https://localhost:8080/"
        },
        "id": "3L6jKvsgnQyG",
        "outputId": "296ff24b-9164-44fc-84b4-490e9bcaf9ee"
      },
      "execution_count": 12,
      "outputs": [
        {
          "output_type": "stream",
          "name": "stdout",
          "text": [
            "[[1 2 3]\n",
            " [4 5 6]]\n",
            "[[1 4]\n",
            " [2 5]\n",
            " [3 6]]\n"
          ]
        }
      ]
    },
    {
      "cell_type": "code",
      "source": [
        "array_d = np.array(range(1,10)).reshape(3,3)\n",
        "print (array_d)"
      ],
      "metadata": {
        "colab": {
          "base_uri": "https://localhost:8080/"
        },
        "id": "Afnvb_uxnQ5v",
        "outputId": "f32abad9-ea09-4f68-f995-51724dce760d"
      },
      "execution_count": 13,
      "outputs": [
        {
          "output_type": "stream",
          "name": "stdout",
          "text": [
            "[[1 2 3]\n",
            " [4 5 6]\n",
            " [7 8 9]]\n"
          ]
        }
      ]
    },
    {
      "cell_type": "markdown",
      "metadata": {
        "id": "I26LVjQ7d9QG"
      },
      "source": [
        "## III. NumPy math is elementwise."
      ]
    },
    {
      "cell_type": "code",
      "execution_count": 14,
      "metadata": {
        "id": "B9Tt1r6Md9QG",
        "colab": {
          "base_uri": "https://localhost:8080/"
        },
        "outputId": "39f288f9-d434-4f05-c352-30651fa0050d"
      },
      "outputs": [
        {
          "output_type": "stream",
          "name": "stdout",
          "text": [
            "[[1. 2.]\n",
            " [3. 4.]]\n",
            "[[ 2.  5.]\n",
            " [10.  3.]]\n"
          ]
        }
      ],
      "source": [
        "x = np.array([[1.0,2.0],[3.0,4.0]])\n",
        "print (x)\n",
        "y= np.array([[2.0,5.0],[10.0,3.0]])\n",
        "print (y)"
      ]
    },
    {
      "cell_type": "code",
      "execution_count": 15,
      "metadata": {
        "id": "s9HzgtIfd9QH",
        "colab": {
          "base_uri": "https://localhost:8080/"
        },
        "outputId": "947b45b9-f213-40b1-cfad-a4f53bfdca1b"
      },
      "outputs": [
        {
          "output_type": "stream",
          "name": "stdout",
          "text": [
            "[[ 3.  7.]\n",
            " [13.  7.]]\n"
          ]
        }
      ],
      "source": [
        "print (x+y)"
      ]
    },
    {
      "cell_type": "code",
      "execution_count": 16,
      "metadata": {
        "id": "hjUWcIIBd9QH",
        "colab": {
          "base_uri": "https://localhost:8080/"
        },
        "outputId": "42ae2582-0518-4252-aeee-bf62ab39349a"
      },
      "outputs": [
        {
          "output_type": "stream",
          "name": "stdout",
          "text": [
            "[[-1. -3.]\n",
            " [-7.  1.]] \n",
            "\n",
            "[[ 2. 10.]\n",
            " [30. 12.]] \n",
            "\n",
            "[[0.5        0.4       ]\n",
            " [0.3        1.33333333]] \n",
            "\n",
            "[[1. 2.]\n",
            " [3. 1.]] \n",
            "\n"
          ]
        }
      ],
      "source": [
        "print (x-y,'\\n')\n",
        "print (x*y,'\\n')\n",
        "print (x/y,'\\n')\n",
        "print (x%y, '\\n')"
      ]
    },
    {
      "cell_type": "markdown",
      "metadata": {
        "id": "qA3Z_493d9QH"
      },
      "source": [
        "## IV. NumPy is reliably random."
      ]
    },
    {
      "cell_type": "code",
      "execution_count": 17,
      "metadata": {
        "id": "k9CbKxped9QH"
      },
      "outputs": [],
      "source": [
        "sample = np.random.randint(low=0,high=10,size=64)"
      ]
    },
    {
      "cell_type": "code",
      "execution_count": 18,
      "metadata": {
        "id": "ySB6roQMd9QI",
        "colab": {
          "base_uri": "https://localhost:8080/"
        },
        "outputId": "57d91416-a34f-4861-a9c0-f694595a310f"
      },
      "outputs": [
        {
          "output_type": "stream",
          "name": "stdout",
          "text": [
            "[[1 5 2 0 0 8 1 7]\n",
            " [1 3 8 5 8 4 5 6]\n",
            " [2 2 6 4 5 2 2 9]\n",
            " [5 9 0 6 6 6 2 2]\n",
            " [9 5 9 0 3 7 9 6]\n",
            " [1 7 6 7 4 3 9 6]\n",
            " [9 1 7 7 2 4 1 3]\n",
            " [2 5 0 9 0 7 3 0]]\n"
          ]
        }
      ],
      "source": [
        "print (sample.reshape((8,8)))"
      ]
    },
    {
      "cell_type": "code",
      "execution_count": 19,
      "metadata": {
        "id": "nGHdMjhWd9QI",
        "colab": {
          "base_uri": "https://localhost:8080/"
        },
        "outputId": "0e6feb69-914a-4913-e700-c0270d864eab"
      },
      "outputs": [
        {
          "output_type": "stream",
          "name": "stdout",
          "text": [
            "[[7 4 0 5 7 1 0 4]\n",
            " [5 1 2 0 5 2 4 7]\n",
            " [0 4 1 0 6 4 1 2]\n",
            " [8 3 8 6 7 4 5 6]\n",
            " [9 3 9 3 3 7 2 1]\n",
            " [0 8 4 6 7 1 7 5]\n",
            " [8 5 4 9 7 5 6 1]\n",
            " [9 9 8 8 3 7 2 1]]\n"
          ]
        }
      ],
      "source": [
        "generated_matrix = np.random.randint(0,10,(8,8))\n",
        "print (generated_matrix)"
      ]
    },
    {
      "cell_type": "code",
      "source": [
        "np.random.seed(123)\n",
        "generated_matrix_02 = np.random.randint(0,10,(8,8))\n",
        "print (generated_matrix_02)"
      ],
      "metadata": {
        "colab": {
          "base_uri": "https://localhost:8080/"
        },
        "id": "UwTlZSNnk7Fb",
        "outputId": "3212c491-729f-40e0-846e-b8a36977d508"
      },
      "execution_count": 20,
      "outputs": [
        {
          "output_type": "stream",
          "name": "stdout",
          "text": [
            "[[2 2 6 1 3 9 6 1]\n",
            " [0 1 9 0 0 9 3 4]\n",
            " [0 0 4 1 7 3 2 4]\n",
            " [7 2 4 8 0 7 9 3]\n",
            " [4 6 1 5 6 2 1 8]\n",
            " [3 5 0 2 6 2 4 4]\n",
            " [6 3 0 6 4 7 6 7]\n",
            " [1 5 7 9 2 4 8 1]]\n"
          ]
        }
      ]
    },
    {
      "cell_type": "code",
      "source": [
        "print (generated_matrix_02[:,0])"
      ],
      "metadata": {
        "colab": {
          "base_uri": "https://localhost:8080/"
        },
        "id": "7__D6efomPFz",
        "outputId": "523ce791-b352-4d40-b8c1-cda0cbf4fd8d"
      },
      "execution_count": 21,
      "outputs": [
        {
          "output_type": "stream",
          "name": "stdout",
          "text": [
            "[2 0 0 7 4 3 6 1]\n"
          ]
        }
      ]
    },
    {
      "cell_type": "code",
      "source": [
        "np.random.seed(55)\n",
        "print (np.random.choice(generated_matrix_02[:,0],5))\n",
        "print (np.random.choice(generated_matrix_02[:,0],5,replace=False))"
      ],
      "metadata": {
        "colab": {
          "base_uri": "https://localhost:8080/"
        },
        "id": "de8FSHCImPKK",
        "outputId": "f1311a67-0bbd-4c2c-9878-94d7a469fca2"
      },
      "execution_count": 22,
      "outputs": [
        {
          "output_type": "stream",
          "name": "stdout",
          "text": [
            "[3 0 1 2 3]\n",
            "[4 2 0 0 7]\n"
          ]
        }
      ]
    },
    {
      "cell_type": "markdown",
      "metadata": {
        "id": "DGrpu31sd9QI"
      },
      "source": [
        "#### <span style=\"color:#555\">EXERCISES</span>\n",
        "\n",
        "Complete each of the following exercises.\n",
        "\n",
        "## <span style=\"color:RoyalBlue\">Exercise 4.1 - Business Park Arrays</span>\n",
        "\n",
        "#### In the previous lesson...\n",
        "\n",
        "In the previous lesson, we decided on Park Royal as our first stop in our training mission to London. Now we've arrived at the tube station! Park Royal is home to London's largest business park. \n",
        "* Assume the business park supports 1,700 businesses.\n",
        "* HQ sent you a manual with their names and locations. \n",
        "* *They are listed in order from smallest to largest* (this will be important later).\n",
        "\n",
        "#### A.) First, let's create a NumPy array called <code style=\"color:steelblue\">business_ids</code>.\n",
        "* The first business has ID <code>1</code>, the second one has ID <code>2</code> and so on.\n",
        "* Remember that Python is zero-indexed... but your business ID array should still start from 1!\n",
        "* The array should have shape <code style=\"color:steelblue\">(1700,)</code>."
      ]
    },
    {
      "cell_type": "code",
      "source": [
        "import numpy as np"
      ],
      "metadata": {
        "id": "EM6T0h2Or79K"
      },
      "execution_count": 23,
      "outputs": []
    },
    {
      "cell_type": "code",
      "execution_count": 24,
      "metadata": {
        "id": "3eRanVXYd9QI"
      },
      "outputs": [],
      "source": [
        "# Create array of business_ids with values ranging from 1 to 1700\n",
        "business_id = np.array(range(1,1701))"
      ]
    },
    {
      "cell_type": "markdown",
      "metadata": {
        "id": "n72Q2rcEd9QJ"
      },
      "source": [
        "#### B.) Next, print the shape of <code style=\"color:steelblue\">business_ids</code> to confirm it has shape <code style=\"color:steelblue\">(1700,)</code>."
      ]
    },
    {
      "cell_type": "code",
      "execution_count": 25,
      "metadata": {
        "id": "n-APsUAKd9QJ",
        "colab": {
          "base_uri": "https://localhost:8080/"
        },
        "outputId": "ec924585-3b24-4a3c-eb43-71304b057a4b"
      },
      "outputs": [
        {
          "output_type": "stream",
          "name": "stdout",
          "text": [
            "(1700,)\n"
          ]
        }
      ],
      "source": [
        "# Print shape of business_ids\n",
        "print (business_id.shape)"
      ]
    },
    {
      "cell_type": "markdown",
      "metadata": {
        "id": "5MRdNYxad9QJ"
      },
      "source": [
        "<strong style=\"color:RoyalBlue\">Expected output:</strong>\n",
        "\n",
        "<pre>\n",
        "(1700,)\n",
        "</pre>"
      ]
    },
    {
      "cell_type": "markdown",
      "metadata": {
        "id": "bgIn5SlOd9QJ"
      },
      "source": [
        "#### C.) Finally, print the last 10 business ID's to confirm the array is set up properly."
      ]
    },
    {
      "cell_type": "code",
      "execution_count": 26,
      "metadata": {
        "scrolled": true,
        "id": "waxkDnFGd9QK",
        "colab": {
          "base_uri": "https://localhost:8080/"
        },
        "outputId": "89e3b55d-781e-4fef-d535-c3a1703781b2"
      },
      "outputs": [
        {
          "output_type": "stream",
          "name": "stdout",
          "text": [
            "[1691 1692 1693 1694 1695 1696 1697 1698 1699 1700]\n"
          ]
        }
      ],
      "source": [
        "# Print last 10 business ID's\n",
        "print (business_id[-10:])"
      ]
    },
    {
      "cell_type": "markdown",
      "metadata": {
        "id": "UpHf-QGsd9QK"
      },
      "source": [
        "<strong style=\"color:RoyalBlue\">Expected output:</strong>\n",
        "\n",
        "<pre>\n",
        "[1691 1692 1693 1694 1695 1696 1697 1698 1699 1700]\n",
        "</pre>"
      ]
    },
    {
      "cell_type": "markdown",
      "metadata": {
        "id": "GZMcvM6Yd9QK"
      },
      "source": [
        "## <span style=\"color:RoyalBlue\">Exercise 4.2 - Stratified Random Sampling</span>\n",
        "\n",
        "There are **1700** businesses in Park Royal's business park. However, you only have **10** hours to stay in Park Royal before you need to move on to the next location. Assuming you could only visit **5** businesses per hour, which businesses should you visit?\n",
        "\n",
        "#### Well, 2 options immediately come to mind:\n",
        "1. You could just visit the first 50 businesses.\n",
        "2. You could randomly sample 50 businesses.\n",
        "\n",
        "While these appear fine at first glance, there are potential flaws with both of these approaches. *Remember, we learned that the businesses were listed in order from smallest to largest! Therefore...*\n",
        "1. Just visiting the first 50 would give us a biased sample of only the smallest businesses.\n",
        "2. Visiting a random sample of 50 is better, but there's still a chance that our sample ends up biased from pure chance.\n",
        "\n",
        "#### Instead, let's take a *stratified random sample* based on the size of the business.\n",
        "* Stratified random sampling is a sampling method by which you first group your observations based on a **key variable**, and then randomly sampling from those groups.\n",
        "* This will ensure your sample is **representative** of the broader dataset along that key variable. In other words, your sample will be \"spread out\" across different values of that key variable.\n",
        "\n",
        "<p style=\"text-align:center\">\n",
        "<img src=\"https://upload.wikimedia.org/wikipedia/commons/f/fa/Stratified_sampling.PNG\" alt=\"Stratified Random Sampling\" style=\"width: 280px;\"/>\n",
        "<br>\n",
        "<em>Stratified Random Sampling</em>\n",
        "</p>\n",
        "\n",
        "#### For this exercise, stratified random sampling just means that...\n",
        "* We'll start by splitting our businesses into 10 groups of 170 businesses each.\n",
        "* The first group will have ID's from 1 to 170, the second will have ID's from 171 to 340, etc.\n",
        "* Then we'll randomly select 5 businesses from each group of 170.\n",
        "* Since the businesses are already ordered by size, this will ensure that small, medium, and big businesses are all represented in our sample.\n",
        "\n",
        "#### A.) First, reshape the 1-dimensional <code style=\"color:steelblue\">business_ids</code> array into a new 2-dimensional <code style=\"color:steelblue\">id_matrix</code> array.\n",
        "* <code style=\"color:steelblue\">id_matrix</code> should have **10 columns**... one for each group of businesses.\n",
        "* How many rows should it have?\n",
        "* What does the number of rows represent?"
      ]
    },
    {
      "cell_type": "code",
      "execution_count": 27,
      "metadata": {
        "id": "YJAtZqTXd9QK",
        "colab": {
          "base_uri": "https://localhost:8080/"
        },
        "outputId": "efb7f999-4153-4747-d43c-191f568f0840"
      },
      "outputs": [
        {
          "output_type": "stream",
          "name": "stdout",
          "text": [
            "(170, 10)\n",
            "[[   1    2    3 ...    8    9   10]\n",
            " [  11   12   13 ...   18   19   20]\n",
            " [  21   22   23 ...   28   29   30]\n",
            " ...\n",
            " [1671 1672 1673 ... 1678 1679 1680]\n",
            " [1681 1682 1683 ... 1688 1689 1690]\n",
            " [1691 1692 1693 ... 1698 1699 1700]]\n"
          ]
        }
      ],
      "source": [
        "# Create id_matrix by reshaping business_ids to have 10 columns\n",
        "id_matrix = business_id.reshape(170,10)\n",
        "\n",
        "# Print shape\n",
        "print (id_matrix.shape)\n",
        "print (id_matrix)\n"
      ]
    },
    {
      "cell_type": "markdown",
      "metadata": {
        "id": "AcNadRlTd9QL"
      },
      "source": [
        "<strong style=\"color:RoyalBlue\">Expected output:</strong>\n",
        "\n",
        "<pre>\n",
        "(170, 10)\n",
        "</pre>"
      ]
    },
    {
      "cell_type": "markdown",
      "metadata": {
        "id": "1h5veKTTd9QL"
      },
      "source": [
        "Great, now we have a matrix with 10 columns representing 10 groups of businesses. But remember, our goal is to stratify our sample by size of the business, and because our businesses are ordered by size, the first group should be 1 to 170, the second group should be 171 to 340, and so on.\n",
        "\n",
        "#### B.) Print the first column (group) of <code style=\"color:steelblue\">id_matrix</code>.\n",
        "* Does it contain businesses 1 to 170?"
      ]
    },
    {
      "cell_type": "code",
      "execution_count": 28,
      "metadata": {
        "id": "-7xpQ_Wkd9QL",
        "colab": {
          "base_uri": "https://localhost:8080/"
        },
        "outputId": "f96d120e-0dde-444f-a858-1df01000aeb7"
      },
      "outputs": [
        {
          "output_type": "stream",
          "name": "stdout",
          "text": [
            "[   1   11   21   31   41   51   61   71   81   91  101  111  121  131\n",
            "  141  151  161  171  181  191  201  211  221  231  241  251  261  271\n",
            "  281  291  301  311  321  331  341  351  361  371  381  391  401  411\n",
            "  421  431  441  451  461  471  481  491  501  511  521  531  541  551\n",
            "  561  571  581  591  601  611  621  631  641  651  661  671  681  691\n",
            "  701  711  721  731  741  751  761  771  781  791  801  811  821  831\n",
            "  841  851  861  871  881  891  901  911  921  931  941  951  961  971\n",
            "  981  991 1001 1011 1021 1031 1041 1051 1061 1071 1081 1091 1101 1111\n",
            " 1121 1131 1141 1151 1161 1171 1181 1191 1201 1211 1221 1231 1241 1251\n",
            " 1261 1271 1281 1291 1301 1311 1321 1331 1341 1351 1361 1371 1381 1391\n",
            " 1401 1411 1421 1431 1441 1451 1461 1471 1481 1491 1501 1511 1521 1531\n",
            " 1541 1551 1561 1571 1581 1591 1601 1611 1621 1631 1641 1651 1661 1671\n",
            " 1681 1691]\n"
          ]
        }
      ],
      "source": [
        "# Print first column of id_matrix\n",
        "print (id_matrix[:,0])"
      ]
    },
    {
      "cell_type": "markdown",
      "metadata": {
        "id": "pnZmU8Rqd9QL"
      },
      "source": [
        "<strong style=\"color:RoyalBlue\">Expected output:</strong>\n",
        "\n",
        "<pre>\n",
        "[   1   11   21   31   41   51   61   71   81   91  101  111  121  131  141\n",
        "  151  161  171  181  191  201  211  221  231  241  251  261  271  281  291\n",
        "  301  311  321  331  341  351  361  371  381  391  401  411  421  431  441\n",
        "  451  461  471  481  491  501  511  521  531  541  551  561  571  581  591\n",
        "  601  611  621  631  641  651  661  671  681  691  701  711  721  731  741\n",
        "  751  761  771  781  791  801  811  821  831  841  851  861  871  881  891\n",
        "  901  911  921  931  941  951  961  971  981  991 1001 1011 1021 1031 1041\n",
        " 1051 1061 1071 1081 1091 1101 1111 1121 1131 1141 1151 1161 1171 1181 1191\n",
        " 1201 1211 1221 1231 1241 1251 1261 1271 1281 1291 1301 1311 1321 1331 1341\n",
        " 1351 1361 1371 1381 1391 1401 1411 1421 1431 1441 1451 1461 1471 1481 1491\n",
        " 1501 1511 1521 1531 1541 1551 1561 1571 1581 1591 1601 1611 1621 1631 1641\n",
        " 1651 1661 1671 1681 1691]\n",
        "</pre>"
      ]
    },
    {
      "cell_type": "markdown",
      "metadata": {
        "id": "eQwtO6p6d9QM"
      },
      "source": [
        "Crap, that's not what we wanted. Ah, but we should have seen this coming!\n",
        "\n",
        "Remember, when you <code style=\"color:steelblue\">.reshape</code> an array, the new array keeps the order of the elements. Let's see how we can solve this."
      ]
    },
    {
      "cell_type": "markdown",
      "metadata": {
        "id": "kBp_nGZJd9QM"
      },
      "source": [
        "## <span style=\"color:RoyalBlue\">Exercise 4.3 - Toy Problem Interlude</span>\n",
        "\n",
        "Let's walk through a miniature example of what we just did in the previous exercise, because it will be easier to understand by peeking under the hood. \n",
        "* Instead of 1700 businesses, let's say we only had **170** businesses to visit, but we still want to group them into **10** groups by ID.\n",
        "* Therefore, we want the first group to have businesses **1 to 17**, the second group to have **18 to 34**, the third group to have **35 to 51**, and so on.\n",
        "\n",
        "By using this type of \"toy problem,\" we can actually print the entire matrix and see what's going on under the hood when we reshape an array.\n",
        "\n",
        "#### A.) Create a new <code>mini_business_ids</code> array with only 170 businesses (10% of the size of our full problem).\n",
        "* Then reshape it to only have 10 columns and store it as <code>mini_id_matrix</code>.\n",
        "* Finally, display <code>mini_id_matrix</code>."
      ]
    },
    {
      "cell_type": "code",
      "execution_count": 38,
      "metadata": {
        "id": "zsq_dh7Ed9QM",
        "colab": {
          "base_uri": "https://localhost:8080/"
        },
        "outputId": "34974503-7fd7-4c96-a24f-bb5d26d4f770"
      },
      "outputs": [
        {
          "output_type": "stream",
          "name": "stdout",
          "text": [
            "[[  1   2   3   4   5   6   7   8   9  10]\n",
            " [ 11  12  13  14  15  16  17  18  19  20]\n",
            " [ 21  22  23  24  25  26  27  28  29  30]\n",
            " [ 31  32  33  34  35  36  37  38  39  40]\n",
            " [ 41  42  43  44  45  46  47  48  49  50]\n",
            " [ 51  52  53  54  55  56  57  58  59  60]\n",
            " [ 61  62  63  64  65  66  67  68  69  70]\n",
            " [ 71  72  73  74  75  76  77  78  79  80]\n",
            " [ 81  82  83  84  85  86  87  88  89  90]\n",
            " [ 91  92  93  94  95  96  97  98  99 100]\n",
            " [101 102 103 104 105 106 107 108 109 110]\n",
            " [111 112 113 114 115 116 117 118 119 120]\n",
            " [121 122 123 124 125 126 127 128 129 130]\n",
            " [131 132 133 134 135 136 137 138 139 140]\n",
            " [141 142 143 144 145 146 147 148 149 150]\n",
            " [151 152 153 154 155 156 157 158 159 160]\n",
            " [161 162 163 164 165 166 167 168 169 170]]\n"
          ]
        }
      ],
      "source": [
        "# Create array of 170 ID's\n",
        "mini_business_ids = np.array(range(1,171))\n",
        "\n",
        "# Reshape to have 10 columns\n",
        "mini_id_matrix = mini_business_ids.reshape(17,10)\n",
        "\n",
        "# Display mini_id_matrix\n",
        "print (mini_id_matrix)\n"
      ]
    },
    {
      "cell_type": "markdown",
      "metadata": {
        "id": "sjIv09uVd9QM"
      },
      "source": [
        "<strong style=\"color:RoyalBlue\">Expected output:</strong>\n",
        "\n",
        "<pre>\n",
        "[[  1   2   3   4   5   6   7   8   9  10]\n",
        " [ 11  12  13  14  15  16  17  18  19  20]\n",
        " [ 21  22  23  24  25  26  27  28  29  30]\n",
        " [ 31  32  33  34  35  36  37  38  39  40]\n",
        " [ 41  42  43  44  45  46  47  48  49  50]\n",
        " [ 51  52  53  54  55  56  57  58  59  60]\n",
        " [ 61  62  63  64  65  66  67  68  69  70]\n",
        " [ 71  72  73  74  75  76  77  78  79  80]\n",
        " [ 81  82  83  84  85  86  87  88  89  90]\n",
        " [ 91  92  93  94  95  96  97  98  99 100]\n",
        " [101 102 103 104 105 106 107 108 109 110]\n",
        " [111 112 113 114 115 116 117 118 119 120]\n",
        " [121 122 123 124 125 126 127 128 129 130]\n",
        " [131 132 133 134 135 136 137 138 139 140]\n",
        " [141 142 143 144 145 146 147 148 149 150]\n",
        " [151 152 153 154 155 156 157 158 159 160]\n",
        " [161 162 163 164 165 166 167 168 169 170]]\n",
        "</pre>"
      ]
    },
    {
      "cell_type": "markdown",
      "metadata": {
        "id": "kcS73PBhd9QM"
      },
      "source": [
        "There! Do you see how it fills in the matrix one row at a time?\n",
        "* So, when you select the first **column**, you're not getting businesses 1 to 17. \n",
        "* Instead, you're getting every 10th business: 1, 11, 21, 31, etc...\n",
        "\n",
        "#### B.) Aha, now we're on to something... so instead of reshaping to 17 rows and 10 columns, let's try reshaping it to 10 rows and 17 columns."
      ]
    },
    {
      "cell_type": "code",
      "execution_count": 39,
      "metadata": {
        "id": "ptVTF_P9d9QM",
        "colab": {
          "base_uri": "https://localhost:8080/"
        },
        "outputId": "e20a34f7-c036-4e94-93a3-71a1b6bb8bbd"
      },
      "outputs": [
        {
          "output_type": "stream",
          "name": "stdout",
          "text": [
            "[[  1   2   3   4   5   6   7   8   9  10  11  12  13  14  15  16  17]\n",
            " [ 18  19  20  21  22  23  24  25  26  27  28  29  30  31  32  33  34]\n",
            " [ 35  36  37  38  39  40  41  42  43  44  45  46  47  48  49  50  51]\n",
            " [ 52  53  54  55  56  57  58  59  60  61  62  63  64  65  66  67  68]\n",
            " [ 69  70  71  72  73  74  75  76  77  78  79  80  81  82  83  84  85]\n",
            " [ 86  87  88  89  90  91  92  93  94  95  96  97  98  99 100 101 102]\n",
            " [103 104 105 106 107 108 109 110 111 112 113 114 115 116 117 118 119]\n",
            " [120 121 122 123 124 125 126 127 128 129 130 131 132 133 134 135 136]\n",
            " [137 138 139 140 141 142 143 144 145 146 147 148 149 150 151 152 153]\n",
            " [154 155 156 157 158 159 160 161 162 163 164 165 166 167 168 169 170]]\n"
          ]
        }
      ],
      "source": [
        "# Reshape to have 10 rows\n",
        "mini_id_matrix = mini_id_matrix.reshape(10,17)\n",
        "\n",
        "# Display mini id matrix\n",
        "print (mini_id_matrix)\n"
      ]
    },
    {
      "cell_type": "markdown",
      "metadata": {
        "id": "_2WN--TKd9QN"
      },
      "source": [
        "<strong style=\"color:RoyalBlue\">Expected output:</strong>\n",
        "\n",
        "<pre>\n",
        "[[  1   2   3   4   5   6   7   8   9  10  11  12  13  14  15  16  17]\n",
        " [ 18  19  20  21  22  23  24  25  26  27  28  29  30  31  32  33  34]\n",
        " [ 35  36  37  38  39  40  41  42  43  44  45  46  47  48  49  50  51]\n",
        " [ 52  53  54  55  56  57  58  59  60  61  62  63  64  65  66  67  68]\n",
        " [ 69  70  71  72  73  74  75  76  77  78  79  80  81  82  83  84  85]\n",
        " [ 86  87  88  89  90  91  92  93  94  95  96  97  98  99 100 101 102]\n",
        " [103 104 105 106 107 108 109 110 111 112 113 114 115 116 117 118 119]\n",
        " [120 121 122 123 124 125 126 127 128 129 130 131 132 133 134 135 136]\n",
        " [137 138 139 140 141 142 143 144 145 146 147 148 149 150 151 152 153]\n",
        " [154 155 156 157 158 159 160 161 162 163 164 165 166 167 168 169 170]]\n",
        "</pre>"
      ]
    },
    {
      "cell_type": "markdown",
      "metadata": {
        "id": "Rqe-IorCd9QN"
      },
      "source": [
        "Now we have 10 rows instead of 10 columns. \n",
        "* The first **row** has the businesses 1 to 17, which is what we want!\n",
        "* And if we want the first **column** to have businesses 1 to 17, we can simply **transpose** this matrix.\n",
        "\n",
        "Working through toy problems is an underappreciated and very useful skill in data science... Toy problems are basically miniature versions of your problem that are easier to break apart and understand conceptually. You'll often be working with difficult datasets or solving tough analytical problems. If you get stuck, it can be helpful to work through a simpler version of the problem by reducing the size of your dataset or trying easier algorithms!"
      ]
    },
    {
      "cell_type": "markdown",
      "metadata": {
        "id": "U-5fr3bjd9QO"
      },
      "source": [
        "## <span style=\"color:RoyalBlue\">Exercise 4.4 - SRS Round 2</span>\n",
        "\n",
        "Let's try building that <code style=\"color:steelblue\">id_matrix</code> again. \n",
        "\n",
        "#### A.) This time, reshape it to have 10 rows, each representing 1 group of businesses.\n",
        "* The first row should contain businesses 1 to 170."
      ]
    },
    {
      "cell_type": "code",
      "execution_count": 40,
      "metadata": {
        "id": "AHwRqsh0d9QO"
      },
      "outputs": [],
      "source": [
        "# Reshape business_ids to have 10 rows, with 170 businesses each\n",
        "id_matrix = id_matrix.reshape(10,170)"
      ]
    },
    {
      "cell_type": "markdown",
      "metadata": {
        "id": "Ru26BaGZd9QO"
      },
      "source": [
        "#### B.) Now, print the first *row* of <code style=\"color:steelblue\">id_matrix</code>."
      ]
    },
    {
      "cell_type": "code",
      "execution_count": 42,
      "metadata": {
        "id": "UmaxlnaXd9QO",
        "colab": {
          "base_uri": "https://localhost:8080/"
        },
        "outputId": "43ff32c0-20bc-4c96-ee57-0548312d4ae8"
      },
      "outputs": [
        {
          "output_type": "stream",
          "name": "stdout",
          "text": [
            "[  1   2   3   4   5   6   7   8   9  10  11  12  13  14  15  16  17  18\n",
            "  19  20  21  22  23  24  25  26  27  28  29  30  31  32  33  34  35  36\n",
            "  37  38  39  40  41  42  43  44  45  46  47  48  49  50  51  52  53  54\n",
            "  55  56  57  58  59  60  61  62  63  64  65  66  67  68  69  70  71  72\n",
            "  73  74  75  76  77  78  79  80  81  82  83  84  85  86  87  88  89  90\n",
            "  91  92  93  94  95  96  97  98  99 100 101 102 103 104 105 106 107 108\n",
            " 109 110 111 112 113 114 115 116 117 118 119 120 121 122 123 124 125 126\n",
            " 127 128 129 130 131 132 133 134 135 136 137 138 139 140 141 142 143 144\n",
            " 145 146 147 148 149 150 151 152 153 154 155 156 157 158 159 160 161 162\n",
            " 163 164 165 166 167 168 169 170]\n"
          ]
        }
      ],
      "source": [
        "# Print the first row of id_matrix\n",
        "print (id_matrix[0,:])"
      ]
    },
    {
      "cell_type": "markdown",
      "metadata": {
        "id": "IUu1cP4Rd9QO"
      },
      "source": [
        "<strong style=\"color:RoyalBlue\">Expected output:</strong>\n",
        "\n",
        "<pre>\n",
        "[  1   2   3   4   5   6   7   8   9  10  11  12  13  14  15  16  17  18\n",
        "  19  20  21  22  23  24  25  26  27  28  29  30  31  32  33  34  35  36\n",
        "  37  38  39  40  41  42  43  44  45  46  47  48  49  50  51  52  53  54\n",
        "  55  56  57  58  59  60  61  62  63  64  65  66  67  68  69  70  71  72\n",
        "  73  74  75  76  77  78  79  80  81  82  83  84  85  86  87  88  89  90\n",
        "  91  92  93  94  95  96  97  98  99 100 101 102 103 104 105 106 107 108\n",
        " 109 110 111 112 113 114 115 116 117 118 119 120 121 122 123 124 125 126\n",
        " 127 128 129 130 131 132 133 134 135 136 137 138 139 140 141 142 143 144\n",
        " 145 146 147 148 149 150 151 152 153 154 155 156 157 158 159 160 161 162\n",
        " 163 164 165 166 167 168 169 170]\n",
        "</pre>"
      ]
    },
    {
      "cell_type": "markdown",
      "metadata": {
        "id": "S2JXYVkNd9QP"
      },
      "source": [
        "You should see the businesses with ID's from **1 to 170**. Now, what if we still want our groups to be grouped by column, instead of by row? Let's *flip our rows and columns* now that the rows have the correct groups.\n",
        "\n",
        "#### C.) Overwrite <code style=\"color:steelblue\">id_matrix</code> with its transposed version.\n",
        "* After you do so, print the first column in the new <code style=\"color:steelblue\">id_matrix</code> to confirm the group is correct.\n",
        "* Also print the shape of the new <code style=\"color:steelblue\">id_matrix</code> to confirm your new dimensions are correct."
      ]
    },
    {
      "cell_type": "code",
      "execution_count": 33,
      "metadata": {
        "id": "f88zd7fbd9QP"
      },
      "outputs": [],
      "source": [
        "# Overwrite id_matrix with flipped version\n",
        "\n",
        "\n",
        "# Print first column\n",
        "\n",
        "\n",
        "# Print shape of new id_matrix\n",
        "\n"
      ]
    },
    {
      "cell_type": "markdown",
      "metadata": {
        "id": "HDySXpkrd9QP"
      },
      "source": [
        "<strong style=\"color:RoyalBlue\">Expected output:</strong>\n",
        "\n",
        "<pre>\n",
        "[  1   2   3   4   5   6   7   8   9  10  11  12  13  14  15  16  17  18\n",
        "  19  20  21  22  23  24  25  26  27  28  29  30  31  32  33  34  35  36\n",
        "  37  38  39  40  41  42  43  44  45  46  47  48  49  50  51  52  53  54\n",
        "  55  56  57  58  59  60  61  62  63  64  65  66  67  68  69  70  71  72\n",
        "  73  74  75  76  77  78  79  80  81  82  83  84  85  86  87  88  89  90\n",
        "  91  92  93  94  95  96  97  98  99 100 101 102 103 104 105 106 107 108\n",
        " 109 110 111 112 113 114 115 116 117 118 119 120 121 122 123 124 125 126\n",
        " 127 128 129 130 131 132 133 134 135 136 137 138 139 140 141 142 143 144\n",
        " 145 146 147 148 149 150 151 152 153 154 155 156 157 158 159 160 161 162\n",
        " 163 164 165 166 167 168 169 170]\n",
        "(170, 10)\n",
        "</pre>"
      ]
    },
    {
      "cell_type": "markdown",
      "metadata": {
        "id": "FSRJFNMId9QP"
      },
      "source": [
        "## <span style=\"color:RoyalBlue\">Exercise 4.5 - Final Business Selections</span>\n",
        "\n",
        "Let's take another look at our <code style=\"color:steelblue\">id_matrix</code>. \n",
        "\n",
        "* In <span style=\"color:royalblue\">Exercise 4.2b</span> we displayed the first group (column) and confirmed that the ID's were from **1 to 170**.\n",
        "* Now let's confirm the rest of the array is correct by finding the <code style=\"color:steelblue\">np.min()</code> and <code style=\"color:steelblue\">np.max()</code> of each group.\n",
        "\n",
        "#### A.) First, create and print an object called <code style=\"color:steelblue\">group_min</code> with the minimum ID of each group (column) of <code style=\"color:steelblue\">id_matrix</code>."
      ]
    },
    {
      "cell_type": "code",
      "execution_count": 34,
      "metadata": {
        "id": "ij9Wzxpjd9QP"
      },
      "outputs": [],
      "source": [
        "# Create group_min\n",
        "\n",
        "\n",
        "# Print group_min\n",
        "\n"
      ]
    },
    {
      "cell_type": "markdown",
      "metadata": {
        "id": "Ta3rED8Nd9QP"
      },
      "source": [
        "<strong style=\"color:RoyalBlue\">Expected output:</strong>\n",
        "\n",
        "<pre>\n",
        "[   1  171  341  511  681  851 1021 1191 1361 1531]\n",
        "</pre>"
      ]
    },
    {
      "cell_type": "markdown",
      "metadata": {
        "id": "B7BvFECkd9QQ"
      },
      "source": [
        "#### B.) Next, create and print an object called <code style=\"color:steelblue\">group_max</code> with the maximum ID of each group (column) of <code style=\"color:steelblue\">id_matrix</code>."
      ]
    },
    {
      "cell_type": "code",
      "execution_count": 35,
      "metadata": {
        "id": "T_rSKsEjd9QQ"
      },
      "outputs": [],
      "source": [
        "# Create group_max\n",
        "\n",
        "\n",
        "# Print group_max\n",
        "\n"
      ]
    },
    {
      "cell_type": "markdown",
      "metadata": {
        "id": "Z0H0KGRGd9QQ"
      },
      "source": [
        "<strong style=\"color:RoyalBlue\">Expected output:</strong>\n",
        "\n",
        "<pre>\n",
        "[ 170  340  510  680  850 1020 1190 1360 1530 1700]\n",
        "</pre>"
      ]
    },
    {
      "cell_type": "markdown",
      "metadata": {
        "id": "fCyeGu6nd9QQ"
      },
      "source": [
        "#### C.) Next, subtract <code style=\"color:steelblue\">group_min</code> from <code style=\"color:steelblue\">group_max</code> to confirm that each of the 10 groups has a <span style=\"tomato\">range</span> of 170.\n",
        "* Remember to add 1 to the difference between max and min because the ends are inclusive \n",
        "    * i.e. $170 - 1 = 169$"
      ]
    },
    {
      "cell_type": "code",
      "execution_count": 36,
      "metadata": {
        "id": "8251QNjdd9QQ"
      },
      "outputs": [],
      "source": [
        "# Print range of each group\n"
      ]
    },
    {
      "cell_type": "markdown",
      "metadata": {
        "id": "QnD3Tl74d9QQ"
      },
      "source": [
        "<strong style=\"color:RoyalBlue\">Expected output:</strong>\n",
        "\n",
        "<pre>\n",
        "[170 170 170 170 170 170 170 170 170 170]\n",
        "</pre>"
      ]
    },
    {
      "cell_type": "markdown",
      "metadata": {
        "id": "tyt8Mhwrd9QQ"
      },
      "source": [
        "Great. We are now ready to select 5 businesses from each group in <code style=\"color:steelblue\">id_matrix</code>.\n",
        "\n",
        "#### D.) Finally, write a loop that chooses 5 businesses from column of <code style=\"color:steelblue\">id_matrix</code>.\n",
        "* Set the random seed to 123. (This is just an arbitrary seed chosen for replicable results... you could technically choose any seed you'd like.)\n",
        "* Format the output like in the <span style=\"color:royalblue\">Expected output</span> cell below.\n",
        "* Should we sample with replacement or without replacement? **Hint:** What happens if a business is selected twice?\n",
        "* Bonus points for writing the loop in a way that works with any number of columns."
      ]
    },
    {
      "cell_type": "code",
      "execution_count": 37,
      "metadata": {
        "id": "rESTv8TSd9QQ"
      },
      "outputs": [],
      "source": [
        "# Seed random seed\n",
        "\n",
        "\n",
        "# Print selected businesses from each group\n",
        "\n"
      ]
    },
    {
      "cell_type": "markdown",
      "metadata": {
        "id": "Mx0QpXEid9QR"
      },
      "source": [
        "<strong style=\"color:RoyalBlue\">Expected output:</strong>\n",
        "\n",
        "<pre>\n",
        "Group 1: [ 92  73 139  54 147]\n",
        "Group 2: [182 333 219 292 214]\n",
        "Group 3: [482 384 400 458 477]\n",
        "Group 4: [662 603 676 594 609]\n",
        "Group 5: [827 718 829 845 803]\n",
        "Group 6: [979 893 932 864 984]\n",
        "Group 7: [1115 1103 1093 1062 1160]\n",
        "Group 8: [1308 1248 1231 1222 1330]\n",
        "Group 9: [1492 1406 1401 1456 1398]\n",
        "Group 10: [1680 1674 1697 1534 1540]\n",
        "</pre>"
      ]
    },
    {
      "cell_type": "markdown",
      "metadata": {
        "id": "n3_XwqWEd9QR"
      },
      "source": [
        "Awesome, now we're ready to start visiting the businesses... Let's start with Group 1 and the business with ID 7. After checking our manual, we find out that this business happens to be flower shop. We'll see why that's relevant in the next lesson.\n",
        "\n",
        "#### The mission continues in the next lesson...\n",
        "\n",
        "In this lesson, you narrowed the list of businesses down through stratified random sampling. In the next lesson, you'll visit the flower shop and offer help using your data analysis skills!"
      ]
    }
  ],
  "metadata": {
    "anaconda-cloud": {},
    "kernelspec": {
      "display_name": "Python 3",
      "language": "python",
      "name": "python3"
    },
    "language_info": {
      "codemirror_mode": {
        "name": "ipython",
        "version": 3
      },
      "file_extension": ".py",
      "mimetype": "text/x-python",
      "name": "python",
      "nbconvert_exporter": "python",
      "pygments_lexer": "ipython3",
      "version": "3.7.0"
    },
    "colab": {
      "name": "4 - Workbook - NumPy.ipynb",
      "provenance": [],
      "collapsed_sections": [
        "S2JXYVkNd9QP",
        "B7BvFECkd9QQ",
        "fCyeGu6nd9QQ",
        "tyt8Mhwrd9QQ",
        "n3_XwqWEd9QR"
      ],
      "include_colab_link": true
    }
  },
  "nbformat": 4,
  "nbformat_minor": 0
}